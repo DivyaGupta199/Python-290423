{
 "cells": [
  {
   "cell_type": "code",
   "execution_count": null,
   "id": "5162c759",
   "metadata": {},
   "outputs": [],
   "source": [
    "Python Inheritance : Inheritance allows us to define a class that inherits all the methods and properties of another class.\n",
    "    \n",
    "existing class -- > New class\n",
    "Base class     -- > derived class\n",
    "parent class   -- > child class"
   ]
  },
  {
   "cell_type": "code",
   "execution_count": null,
   "id": "091b6e33",
   "metadata": {},
   "outputs": [],
   "source": [
    "class Parent:\n",
    "    \n",
    "    def house():\n",
    "        pass\n",
    "    \n",
    "    def land():\n",
    "        pass"
   ]
  },
  {
   "cell_type": "code",
   "execution_count": null,
   "id": "80a8b31e",
   "metadata": {},
   "outputs": [],
   "source": [
    "class child(parent):\n",
    "    pass\n",
    "    "
   ]
  },
  {
   "cell_type": "code",
   "execution_count": null,
   "id": "a2158a52",
   "metadata": {},
   "outputs": [],
   "source": [
    "Types of inheritance :- \n",
    "    1. Single inheritance :\n",
    "    2. Multiple inheritance :\n",
    "    3. Multi-level inheritance\n",
    "    4. Hierarchical inheritance\n",
    "    5. Hybrid inheritance\n",
    "    "
   ]
  },
  {
   "cell_type": "code",
   "execution_count": null,
   "id": "077ec9f7",
   "metadata": {},
   "outputs": [],
   "source": [
    "Single Inheritance : "
   ]
  },
  {
   "cell_type": "code",
   "execution_count": 6,
   "id": "c6d21de3",
   "metadata": {},
   "outputs": [],
   "source": [
    "class A:\n",
    "    def feature1(self):\n",
    "        print(\"This is feature1\")\n",
    "    def feature2(self):\n",
    "        pass\n",
    "    \n",
    "class B(A):\n",
    "    def feature3(self):\n",
    "        pass\n",
    "    def feature4(self):\n",
    "        pass\n",
    "    \n",
    "obj_b = B()\n",
    "obj_b.feature1()\n",
    "    "
   ]
  },
  {
   "cell_type": "code",
   "execution_count": null,
   "id": "1842e3ee",
   "metadata": {},
   "outputs": [],
   "source": [
    "Multi-level Inheritance : "
   ]
  },
  {
   "cell_type": "code",
   "execution_count": 7,
   "id": "9f9d1a11",
   "metadata": {},
   "outputs": [
    {
     "name": "stdout",
     "output_type": "stream",
     "text": [
      "This is feature1\n"
     ]
    }
   ],
   "source": [
    "class A:\n",
    "    def feature1(self):\n",
    "        print(\"This is feature1\")\n",
    "    def feature2(self):\n",
    "        pass\n",
    "\n",
    "class B(A):\n",
    "    def feature3(self):\n",
    "        pass\n",
    "    def feature4(self):\n",
    "        pass\n",
    "    \n",
    "class C(B):\n",
    "    def feature_c1(self):\n",
    "        pass\n",
    "    def featrue_c2(self):\n",
    "        pass\n",
    "    \n",
    "    \n",
    "obj_c = C()\n",
    "obj_c.feature1()"
   ]
  },
  {
   "cell_type": "code",
   "execution_count": null,
   "id": "7dd1e56f",
   "metadata": {},
   "outputs": [],
   "source": [
    "Multiple Inheritance : When a class can be derived from more than one base classes."
   ]
  },
  {
   "cell_type": "code",
   "execution_count": 8,
   "id": "60b133ed",
   "metadata": {},
   "outputs": [
    {
     "name": "stdout",
     "output_type": "stream",
     "text": [
      "This is feature1\n"
     ]
    }
   ],
   "source": [
    "class A:\n",
    "    def feature_A1(self):\n",
    "        print(\"This is feature1\")\n",
    "    def feature_A2(self):\n",
    "        pass\n",
    "\n",
    "class B:\n",
    "    def feature_B1(self):\n",
    "        pass\n",
    "    def feature_B2(self):\n",
    "        pass\n",
    "    \n",
    "class C(A,B):\n",
    "    def feature_c1(self):\n",
    "        pass\n",
    "    def featrue_c2(self):\n",
    "        pass\n",
    "    \n",
    "    \n",
    "obj_c = C()\n",
    "obj_c.feature1()"
   ]
  },
  {
   "cell_type": "code",
   "execution_count": null,
   "id": "90cb24c7",
   "metadata": {},
   "outputs": [],
   "source": [
    "4. Hierarchical Inheritance :\n",
    "    when there are multiple child classes from a single parent class then it is called hierarchical Inheritance."
   ]
  },
  {
   "cell_type": "code",
   "execution_count": null,
   "id": "5ee66a9b",
   "metadata": {},
   "outputs": [],
   "source": [
    "class A:\n",
    "    def feature_A1(self):\n",
    "        print(\"This is feature1\")\n",
    "    def feature_A2(self):\n",
    "        pass\n",
    "\n",
    "class B(A):\n",
    "    def feature_B1(self):\n",
    "        pass\n",
    "    def feature_B2(self):\n",
    "        pass\n",
    "    \n",
    "class C(A):\n",
    "    def feature_c1(self):\n",
    "        pass\n",
    "    def featrue_c2(self):\n",
    "        pass\n",
    "    \n",
    "    \n",
    "obj_c = C()\n",
    "obj_c.feature1()"
   ]
  },
  {
   "cell_type": "code",
   "execution_count": null,
   "id": "516d261e",
   "metadata": {},
   "outputs": [],
   "source": [
    "5. Hybrid Inheritance : Inheritance consisting of multiple types of inheritance."
   ]
  },
  {
   "cell_type": "code",
   "execution_count": 9,
   "id": "7e470bbf",
   "metadata": {},
   "outputs": [
    {
     "name": "stdout",
     "output_type": "stream",
     "text": [
      "This is feature1\n"
     ]
    }
   ],
   "source": [
    "class A:    #main parent class\n",
    "    def feature_A1(self):\n",
    "        print(\"This is feature1\")\n",
    "    def feature_A2(self):\n",
    "        print(\"feature_A2 function\")\n",
    "\n",
    "class B(A):  #child1\n",
    "    def feature_B1(self):\n",
    "        print(\"feature_B1 function\")\n",
    "    def feature_B2(self):\n",
    "        print(\"feature_B2 function\")\n",
    "    \n",
    "class C(A):  #child2\n",
    "    def feature_c1(self):\n",
    "        print(\"feature_c1 function\")\n",
    "    def featrue_c2(self):\n",
    "        print(\"feature_c2 function\")\n",
    "    \n",
    "class D(B,C):  #child3\n",
    "    def feature_D1(self):\n",
    "        print(\"feature_D1 function\")\n",
    "        \n",
    "    def feature_D2(self):\n",
    "        print(\"feature_D2 function\")\n",
    "        \n",
    "        \n",
    "obj_d = D()\n",
    "obj_d.feature_A1()\n"
   ]
  },
  {
   "cell_type": "code",
   "execution_count": null,
   "id": "2b781bb6",
   "metadata": {},
   "outputs": [],
   "source": [
    "# Encapsulation : Wrapping of Data\n",
    "-- >  combining variables (attributes) and methods(behaviour) at a single place is called encapsulation.\n"
   ]
  },
  {
   "cell_type": "code",
   "execution_count": 15,
   "id": "b23512ef",
   "metadata": {},
   "outputs": [
    {
     "data": {
      "text/plain": [
       "'50Kmpl'"
      ]
     },
     "execution_count": 15,
     "metadata": {},
     "output_type": "execute_result"
    }
   ],
   "source": [
    "class Bike:\n",
    "    mileage = \"50Kmpl\"    # limited scope\n",
    "    def ride(self):\n",
    "        print(\"The Best bike\")\n",
    "    def sports_bike(self):\n",
    "        pass\n",
    "    \n",
    "obj_bike = Bike()\n",
    "obj_bike.mileage"
   ]
  },
  {
   "cell_type": "code",
   "execution_count": 16,
   "id": "7cf052aa",
   "metadata": {},
   "outputs": [
    {
     "name": "stdout",
     "output_type": "stream",
     "text": [
      "The Best bike\n"
     ]
    }
   ],
   "source": [
    "obj_bike.ride()"
   ]
  },
  {
   "cell_type": "code",
   "execution_count": null,
   "id": "a51a2605",
   "metadata": {},
   "outputs": [],
   "source": [
    "flow of execution :\n",
    "    1. procedural programming : top to bottom\n",
    "    2. functional and oops : bottom to top"
   ]
  },
  {
   "cell_type": "code",
   "execution_count": null,
   "id": "6a46d1e4",
   "metadata": {},
   "outputs": [],
   "source": [
    "3. Polymorphism :\n",
    "    (poly = many , morphism = forms)\n",
    "    \n",
    "    Polymorphism defines the ability to take different forms.\n",
    "    multiple function can have same name but different functionalities.\n",
    "    \n",
    "    \n",
    "    \n",
    "    "
   ]
  },
  {
   "cell_type": "code",
   "execution_count": 30,
   "id": "3453c075",
   "metadata": {},
   "outputs": [
    {
     "name": "stdout",
     "output_type": "stream",
     "text": [
      "This a fun_A2 of A class\n"
     ]
    },
    {
     "ename": "AttributeError",
     "evalue": "'C' object has no attribute 'fun_A3'",
     "output_type": "error",
     "traceback": [
      "\u001b[1;31m---------------------------------------------------------------------------\u001b[0m",
      "\u001b[1;31mAttributeError\u001b[0m                            Traceback (most recent call last)",
      "\u001b[1;32m~\\AppData\\Local\\Temp\\ipykernel_14020\\879140373.py\u001b[0m in \u001b[0;36m<module>\u001b[1;34m\u001b[0m\n\u001b[0;32m     20\u001b[0m \u001b[1;33m\u001b[0m\u001b[0m\n\u001b[0;32m     21\u001b[0m \u001b[0mobj_c\u001b[0m \u001b[1;33m=\u001b[0m \u001b[0mC\u001b[0m\u001b[1;33m(\u001b[0m\u001b[1;33m)\u001b[0m\u001b[1;33m\u001b[0m\u001b[1;33m\u001b[0m\u001b[0m\n\u001b[1;32m---> 22\u001b[1;33m \u001b[0mobj_c\u001b[0m\u001b[1;33m.\u001b[0m\u001b[0mfun_A3\u001b[0m\u001b[1;33m(\u001b[0m\u001b[1;33m)\u001b[0m\u001b[1;33m\u001b[0m\u001b[1;33m\u001b[0m\u001b[0m\n\u001b[0m",
      "\u001b[1;31mAttributeError\u001b[0m: 'C' object has no attribute 'fun_A3'"
     ]
    }
   ],
   "source": [
    "class A:\n",
    "    def fun_A1(self):\n",
    "        print(\"This is a function of A class\")\n",
    "        \n",
    "    def fun_A2(self):\n",
    "        print(\"This a fun_A2 of A class\")\n",
    "        \n",
    "class B(A):\n",
    "    def fun_B1(self):\n",
    "        print(\"This is a function of B class\")\n",
    "        \n",
    "    def fun_A2(self):\n",
    "        print(\"This is fun_A2 of class B, it is an example of polymorphism\")\n",
    "        \n",
    "class C(B):\n",
    "    pass\n",
    "        \n",
    "obj_a = A()\n",
    "obj_a.fun_A2()\n",
    "\n",
    "obj_c = C()\n",
    "obj_c.fun_A3()"
   ]
  },
  {
   "cell_type": "code",
   "execution_count": 21,
   "id": "511a78f7",
   "metadata": {},
   "outputs": [
    {
     "name": "stdout",
     "output_type": "stream",
     "text": [
      "This is a function of A class\n"
     ]
    }
   ],
   "source": [
    "obj_b = B()\n",
    "obj_b.fun_A1()"
   ]
  },
  {
   "cell_type": "code",
   "execution_count": 23,
   "id": "a3f35512",
   "metadata": {},
   "outputs": [
    {
     "name": "stdout",
     "output_type": "stream",
     "text": [
      "This is a function of B class\n"
     ]
    }
   ],
   "source": [
    "obj_b.fun_B1()"
   ]
  },
  {
   "cell_type": "code",
   "execution_count": 25,
   "id": "b479e0ac",
   "metadata": {},
   "outputs": [
    {
     "name": "stdout",
     "output_type": "stream",
     "text": [
      "This is fun_A2 of class B, it is an example of polymorphism\n"
     ]
    }
   ],
   "source": [
    "obj_b.fun_A2()"
   ]
  },
  {
   "cell_type": "code",
   "execution_count": null,
   "id": "49509aa2",
   "metadata": {},
   "outputs": [],
   "source": [
    "# method overloading :   Python does not support method overloading.\n",
    "\n",
    "#method overriding :   \n"
   ]
  },
  {
   "cell_type": "code",
   "execution_count": 32,
   "id": "3f357b2a",
   "metadata": {},
   "outputs": [],
   "source": [
    "# method overloading :\n",
    "class add:\n",
    "    def addition(self,a,b):       #X\n",
    "        return a+b \n",
    "    def addition(self,a,b,c):     #correct function\n",
    "        return a+b+c\n",
    "    "
   ]
  },
  {
   "cell_type": "code",
   "execution_count": 34,
   "id": "f8d1c9cc",
   "metadata": {},
   "outputs": [
    {
     "data": {
      "text/plain": [
       "12"
      ]
     },
     "execution_count": 34,
     "metadata": {},
     "output_type": "execute_result"
    }
   ],
   "source": [
    "obj = add()\n",
    "obj.addition(4,5,3)"
   ]
  },
  {
   "cell_type": "code",
   "execution_count": null,
   "id": "46841256",
   "metadata": {},
   "outputs": [],
   "source": [
    "# method overriding :\n",
    "class A:\n",
    "    def fun_A1(self):\n",
    "        print(\"This is a function of A class\")\n",
    "        \n",
    "    def fun_A2(self):\n",
    "        print(\"This a fun_A2 of A class\")\n",
    "        \n",
    "class B(A):\n",
    "    def fun_B1(self):\n",
    "        print(\"This is a function of B class\")\n",
    "        \n",
    "    def fun_A2(self):\n",
    "        print(\"This is fun_A2 of class B, it is an example of polymorphism\")\n",
    "        \n",
    "class C(B):\n",
    "    pass\n",
    "        \n",
    "obj_a = A()\n",
    "obj_a.fun_A2()\n",
    "\n",
    "obj_b = B()\n",
    "obj_c.fun_A3()"
   ]
  },
  {
   "cell_type": "code",
   "execution_count": null,
   "id": "d984f7e7",
   "metadata": {},
   "outputs": [],
   "source": []
  }
 ],
 "metadata": {
  "kernelspec": {
   "display_name": "Python 3 (ipykernel)",
   "language": "python",
   "name": "python3"
  },
  "language_info": {
   "codemirror_mode": {
    "name": "ipython",
    "version": 3
   },
   "file_extension": ".py",
   "mimetype": "text/x-python",
   "name": "python",
   "nbconvert_exporter": "python",
   "pygments_lexer": "ipython3",
   "version": "3.9.13"
  }
 },
 "nbformat": 4,
 "nbformat_minor": 5
}

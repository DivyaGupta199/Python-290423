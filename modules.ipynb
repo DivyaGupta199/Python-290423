{
 "cells": [
  {
   "cell_type": "code",
   "execution_count": 1,
   "id": "c82b9995",
   "metadata": {},
   "outputs": [],
   "source": [
    "import math"
   ]
  },
  {
   "cell_type": "code",
   "execution_count": 3,
   "id": "b2c517c1",
   "metadata": {},
   "outputs": [
    {
     "name": "stdout",
     "output_type": "stream",
     "text": [
      "3375.0\n"
     ]
    }
   ],
   "source": [
    "import math\n",
    "power=math.pow(15,3)\n",
    "print(power)"
   ]
  },
  {
   "cell_type": "code",
   "execution_count": null,
   "id": "d9ff5364",
   "metadata": {},
   "outputs": [],
   "source": [
    "In this challenge, a farmer is asking you to tell him how many legs can be counted among all his animals.\n",
    "The farmer breeds three species:\n",
    "\n",
    "chickens = 2 legs\n",
    "cows = 4 legs\n",
    "pigs = 4 legs\n",
    "The farmer has counted his animals and he gives you a subtotal for each species. \n",
    "You have to implement a function that returns the total number of legs of all the animals.\n",
    "\n",
    "Examples\n",
    "animals(2, 3, 5) ➞ 36\n",
    "\n",
    "animals(1, 2, 3) ➞ 22\n",
    "\n",
    "animals(5, 2, 8) ➞ 50\n",
    "Notes\n",
    "Don't forget to return the result.\n",
    "The order of animals passed is animals(chickens, cows, pigs).\n",
    "Remember that the farmer wants to know the total number of legs and not the total number of animals."
   ]
  }
 ],
 "metadata": {
  "kernelspec": {
   "display_name": "Python 3 (ipykernel)",
   "language": "python",
   "name": "python3"
  },
  "language_info": {
   "codemirror_mode": {
    "name": "ipython",
    "version": 3
   },
   "file_extension": ".py",
   "mimetype": "text/x-python",
   "name": "python",
   "nbconvert_exporter": "python",
   "pygments_lexer": "ipython3",
   "version": "3.9.13"
  }
 },
 "nbformat": 4,
 "nbformat_minor": 5
}

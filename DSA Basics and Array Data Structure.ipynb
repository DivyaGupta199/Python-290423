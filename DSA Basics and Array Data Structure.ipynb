{
 "cells": [
  {
   "cell_type": "code",
   "execution_count": null,
   "id": "d2c24991",
   "metadata": {},
   "outputs": [],
   "source": [
    "Data Structures : It is a way of organizing data that enables it to be processed in an efficient time. some commonly used data \n",
    "    structures are array, linked list, queue, tree etc.\n",
    "    \n",
    "Algorithms : It is a set of rules to be followed to solve a problem.\n",
    "    "
   ]
  },
  {
   "cell_type": "code",
   "execution_count": null,
   "id": "fa93838a",
   "metadata": {},
   "outputs": [],
   "source": [
    "prime number\n",
    "\n",
    "1. take a number.\n",
    "2. check if the number is greater than 2\n",
    "3. than will divide the number by i=2.\n",
    "4. if it gets completed divided\n",
    "5. The number is not prime\n",
    "else will increase the value of i by 1 \n",
    "then repeat step 3 to 5 till i==number.\n",
    "6. If the number is not divided by any of the values of i then number is prime."
   ]
  },
  {
   "cell_type": "code",
   "execution_count": null,
   "id": "33836d07",
   "metadata": {},
   "outputs": [],
   "source": [
    "Types of data structures : \n",
    "    1. Primitive : int, float, Boolean , string\n",
    "    2. Non Primitive : list, tuple, dict, array, linked list.\n",
    "        a. Physical : Arrays , linked list.\n",
    "        b. Logical (ADT) : Abstract Data Types - Stacks, Queue, Tree, Graph."
   ]
  },
  {
   "cell_type": "code",
   "execution_count": null,
   "id": "5288c7ff",
   "metadata": {},
   "outputs": [],
   "source": [
    "Non primitive Data Structures :\n",
    "    1. Linear Data structure : Data structures where data elements are arranged sequentially and the elements are attached to its \n",
    "        previous and next adjacent element. In a linear data structure single level is involved and we can traverse all the elements in \n",
    "        single run. linear data structures are easy to implement and can be accessed easily as the memory is arranged in a linear way.\n",
    "        eg : Arrays, stack, Queue, Linked list.\n",
    "        \n",
    "    2. Non Linear Data Structure : Data structures where data elements are not arranged sequentially. Here multiple levels are \n",
    "        involved. traversing all the elements in single run is not possible. They are not easy to implement as compared to \n",
    "        linear data structures. e.g Tree and graph"
   ]
  },
  {
   "cell_type": "code",
   "execution_count": null,
   "id": "8a4cd471",
   "metadata": {},
   "outputs": [],
   "source": [
    "# Runtime Analysis : It is a study of a given algorithm during the runtime. It tells us how good our algorithms is performing."
   ]
  },
  {
   "cell_type": "code",
   "execution_count": null,
   "id": "3620605d",
   "metadata": {},
   "outputs": [],
   "source": [
    "Notations : \n",
    "    1. Best case scenario : (omega )\n",
    "    2. Worst case scenario : ( Big O)\n",
    "    3. Average case scenario : ( Theta )"
   ]
  },
  {
   "cell_type": "code",
   "execution_count": null,
   "id": "7085aeb8",
   "metadata": {},
   "outputs": [],
   "source": [
    "Time complexity : "
   ]
  },
  {
   "cell_type": "code",
   "execution_count": 10,
   "id": "cf044eb6",
   "metadata": {},
   "outputs": [
    {
     "name": "stdout",
     "output_type": "stream",
     "text": [
      "Iteration no : 1\n",
      "Iteration no : 2\n",
      "Iteration no : 3\n",
      "Iteration no : 4\n",
      "Found\n"
     ]
    }
   ],
   "source": [
    "lst = [4,2,6,8,9,3,5,1]\n",
    "number = 8\n",
    "count = 1\n",
    "for i in lst:\n",
    "    print(\"Iteration no :\", count)\n",
    "    if i==number:\n",
    "        print(\"Found\")\n",
    "        break\n",
    "    count+=1"
   ]
  },
  {
   "cell_type": "code",
   "execution_count": null,
   "id": "9b4b5ed9",
   "metadata": {},
   "outputs": [],
   "source": [
    "Array : Array is a data structure cosist of collection of homogeneous elements, Each element has a index value and can be accessed\n",
    "    sequencially. \n",
    "    e.g marks = [100,90,95,98,92]\n",
    "    \n",
    "properties of an array : It is a collection of homogeneous elements.\n",
    "    Every element has an unique index.\n",
    "    Index starts with 0.\n",
    "    \n",
    "Types of Array :\n",
    "    1. One dimensional array. (1D)\n",
    "    2. Multi dimensional array. 2D,3D, ........ ND\n",
    "    \n",
    "    [\n",
    "        [\n",
    "            [\n",
    "                [\n",
    "                    [\n",
    "                        [\n",
    "                            [1,2,3,4]\n",
    "                        ]\n",
    "                    ]\n",
    "                ]\n",
    "            ]\n",
    "        ]\n",
    "    ]\n"
   ]
  },
  {
   "cell_type": "code",
   "execution_count": null,
   "id": "21e1844f",
   "metadata": {},
   "outputs": [],
   "source": []
  }
 ],
 "metadata": {
  "kernelspec": {
   "display_name": "Python 3 (ipykernel)",
   "language": "python",
   "name": "python3"
  },
  "language_info": {
   "codemirror_mode": {
    "name": "ipython",
    "version": 3
   },
   "file_extension": ".py",
   "mimetype": "text/x-python",
   "name": "python",
   "nbconvert_exporter": "python",
   "pygments_lexer": "ipython3",
   "version": "3.9.13"
  }
 },
 "nbformat": 4,
 "nbformat_minor": 5
}

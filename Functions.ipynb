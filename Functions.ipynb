{
 "cells": [
  {
   "cell_type": "markdown",
   "id": "77712b9a",
   "metadata": {},
   "source": [
    "1. procedural programming\n",
    "2. functional programming\n",
    "3. object oriented programming\n"
   ]
  },
  {
   "cell_type": "code",
   "execution_count": 9,
   "id": "fa2dbbf2",
   "metadata": {},
   "outputs": [
    {
     "name": "stdout",
     "output_type": "stream",
     "text": [
      "9\n"
     ]
    }
   ],
   "source": [
    "a= 5\n",
    "b= 4\n",
    "print(a+b)"
   ]
  },
  {
   "cell_type": "code",
   "execution_count": null,
   "id": "9c887119",
   "metadata": {},
   "outputs": [],
   "source": [
    "dry - donot repeat yourself.\n",
    "1. functional programming\n",
    "2. object oriented programming (Advance python)"
   ]
  },
  {
   "cell_type": "code",
   "execution_count": null,
   "id": "d7c29ee9",
   "metadata": {},
   "outputs": [],
   "source": [
    "functional programming : when you make functions to do your task then this way\n",
    "of programming is functional programming.\n"
   ]
  },
  {
   "cell_type": "code",
   "execution_count": null,
   "id": "6aeab539",
   "metadata": {},
   "outputs": [],
   "source": [
    "What is function :\n",
    "-- A function is a block of code for performing a specific task.\n",
    "-- It is used to define something and use later multiple times to perform the task\n",
    "-- It avoids repetition of code and makes it reusable.    "
   ]
  },
  {
   "cell_type": "code",
   "execution_count": null,
   "id": "71098290",
   "metadata": {},
   "outputs": [],
   "source": [
    "syntax of function :\n",
    " -- keyword def is used to define a function, followed by the name of function\n",
    "and name of the function has to be unique. It follows the same rule of writing name of\n",
    "identifier. parameter(arguments) through which we pass value to the function is optional\n",
    "header should end with colon(:)\n",
    "you can use return statement to get some output from the function. \n",
    "return statement is optional"
   ]
  },
  {
   "cell_type": "code",
   "execution_count": 2,
   "id": "7323eaf4",
   "metadata": {},
   "outputs": [
    {
     "name": "stdout",
     "output_type": "stream",
     "text": [
      "enter num one13\n",
      "enter num two12\n",
      "25\n",
      "None\n"
     ]
    }
   ],
   "source": [
    "#function without parameter/argument and without return statement :\n",
    "def addition():\n",
    "    num1 = int(input(\"enter num one\"))\n",
    "    num2 = int(input(\"enter num two\"))\n",
    "    print(num1+num2)\n",
    "    \n",
    "output = addition()  #None\n",
    "print(output)"
   ]
  },
  {
   "cell_type": "code",
   "execution_count": 4,
   "id": "910863b3",
   "metadata": {},
   "outputs": [
    {
     "name": "stdout",
     "output_type": "stream",
     "text": [
      "300 -100 20000 0.5\n",
      "300\n"
     ]
    }
   ],
   "source": [
    "#function with parameter and return statement :\n",
    "def calculate(num1,num2):\n",
    "    add = num1 +num2\n",
    "    subs = num1-num2\n",
    "    multiply = num1*num2\n",
    "    division = num1/num2\n",
    "    print(add, subs, multiply, division)\n",
    "    return add\n",
    "    \n",
    "    \n",
    "addition = calculate(100,200)\n",
    "print(addition)"
   ]
  },
  {
   "cell_type": "code",
   "execution_count": null,
   "id": "8b59fabe",
   "metadata": {},
   "outputs": [],
   "source": [
    "make a function to print the table of given number.\n",
    "Input: 5\n",
    "output:\n",
    "5*1 = 5\n",
    "5*2 = 10\n",
    "5*3 = 15\n",
    "5*4 = 20\n",
    ".\n",
    ".\n",
    ".\n",
    ".\n",
    ".\n",
    ".\n",
    "5*10 = 50"
   ]
  },
  {
   "cell_type": "code",
   "execution_count": 30,
   "id": "34c50c29",
   "metadata": {},
   "outputs": [
    {
     "name": "stdout",
     "output_type": "stream",
     "text": [
      "Enter a number:4\n",
      "4  x  1  =  4\n",
      "4  x  2  =  8\n",
      "4  x  3  =  12\n",
      "4  x  4  =  16\n",
      "4  x  5  =  20\n",
      "4  x  6  =  24\n",
      "4  x  7  =  28\n",
      "4  x  8  =  32\n",
      "4  x  9  =  36\n",
      "4  x  10  =  40\n"
     ]
    }
   ],
   "source": [
    "#make a function to print the table of given number.\n",
    "n=int(input(\"Enter a number:\"))\n",
    "def table(number):\n",
    "    for i in range(1,11): \n",
    "        print(number,' x ', i, ' = ',n*i)\n",
    "    \n",
    "table(n)"
   ]
  },
  {
   "cell_type": "code",
   "execution_count": null,
   "id": "3f60bba2",
   "metadata": {},
   "outputs": [],
   "source": [
    "return : The return statement is used to exit a function and go back to the place where it was called.\n",
    "This statement can contain an expression that gets evaluated and the value is returned. if there is no\n",
    "expression in return statement or the return statement is not present in function so it will return\n",
    "None value.\n",
    "\n",
    "print() : It displays the data.\n"
   ]
  },
  {
   "cell_type": "code",
   "execution_count": null,
   "id": "08cee2cc",
   "metadata": {},
   "outputs": [],
   "source": [
    "Types of function :\n",
    "    1. Inbuilt functions : this are the functions present in python library, we donot have to define\n",
    "        them, we can simply call and use them for e.g. print(), input(), pop()\n",
    "        \n",
    "    2. User defined functions : this are the functions defined by user to perform some specific task\n",
    "        for e.g. table()\n",
    "        "
   ]
  },
  {
   "cell_type": "code",
   "execution_count": null,
   "id": "d503738e",
   "metadata": {},
   "outputs": [],
   "source": [
    "Types of Arguments:\n",
    "1. Default arguments : when we assign some value to our arguments using '=' operator then this type of\n",
    "    argument is called default argument.\n",
    "2. Keyword arguments : when we assign the values to arguments by their names then it is called keyword\n",
    "    argument. the position of arguments can be changed using this method.\n",
    "3. Arbitrary arguments : when we dont know in advance that how many arguments will be given when we call\n",
    "    function, we use arbitrary arguments also known as *args\n",
    "4. Arbitrary keyword arguments : If you donot know that how many keyword arguments you want to give, \n",
    "    you add ** before the name of parameter and this way of getting arguments is called arbitraty \n",
    "    keyword arguments. (**kwargs)"
   ]
  },
  {
   "cell_type": "code",
   "execution_count": 31,
   "id": "b6725fb9",
   "metadata": {},
   "outputs": [
    {
     "data": {
      "text/plain": [
       "300"
      ]
     },
     "execution_count": 31,
     "metadata": {},
     "output_type": "execute_result"
    }
   ],
   "source": [
    "def addition(num1=200,num2=100):    # default argument\n",
    "    return num1+num2\n",
    "\n",
    "addition()\n"
   ]
  },
  {
   "cell_type": "code",
   "execution_count": 34,
   "id": "0bbc2fe3",
   "metadata": {},
   "outputs": [
    {
     "data": {
      "text/plain": [
       "100"
      ]
     },
     "execution_count": 34,
     "metadata": {},
     "output_type": "execute_result"
    }
   ],
   "source": [
    "def substraction(num1,num2):\n",
    "    return num1-num2\n",
    "\n",
    "substraction(num2 = 100,num1 = 200)      #Keyword argument"
   ]
  },
  {
   "cell_type": "code",
   "execution_count": 36,
   "id": "7feb10da",
   "metadata": {},
   "outputs": [
    {
     "name": "stdout",
     "output_type": "stream",
     "text": [
      "('aishwarya', 'sandeep', 'vasudha', 'chiranjeevi')\n"
     ]
    }
   ],
   "source": [
    "def students(*names):\n",
    "    print(names)\n",
    "    \n",
    "students('aishwarya','sandeep','vasudha','chiranjeevi') #Arbitrary arguments (args)"
   ]
  },
  {
   "cell_type": "code",
   "execution_count": 38,
   "id": "5d2c5fe1",
   "metadata": {},
   "outputs": [
    {
     "name": "stdout",
     "output_type": "stream",
     "text": [
      "{'a': 100, 'b': 80, 'c': 90, 'd': 85}\n"
     ]
    }
   ],
   "source": [
    "def marks(marks):\n",
    "    print(marks)\n",
    "    \n",
    "dict1 = {'a':100,'b':80,'c':90,'d':85}\n",
    "marks(dict1)"
   ]
  },
  {
   "cell_type": "code",
   "execution_count": 40,
   "id": "e0c67056",
   "metadata": {},
   "outputs": [
    {
     "name": "stdout",
     "output_type": "stream",
     "text": [
      "smallest is baby\n"
     ]
    }
   ],
   "source": [
    "def smallest(**values):\n",
    "    print(\"smallest is\",values['small'])\n",
    "    \n",
    "smallest(big = \"john\",middle = \"anna\", small = \"baby\")\n"
   ]
  },
  {
   "cell_type": "code",
   "execution_count": 10,
   "id": "2ea4db72",
   "metadata": {},
   "outputs": [
    {
     "name": "stdout",
     "output_type": "stream",
     "text": [
      "Enter a number for printing its table6\n",
      "6  X  1  =  6\n",
      "6  X  2  =  12\n",
      "6  X  3  =  18\n",
      "6  X  4  =  24\n",
      "6  X  5  =  30\n",
      "6  X  6  =  36\n",
      "6  X  7  =  42\n",
      "6  X  8  =  48\n",
      "6  X  9  =  54\n",
      "6  X  10  =  60\n",
      "*********finished*************\n"
     ]
    }
   ],
   "source": [
    "#make a function to print the table of given number.\n",
    "def table(number):\n",
    "    lst = []\n",
    "    for i in range(1,11):\n",
    "        multiply = number*i\n",
    "        lst.append(multiply)\n",
    "    return lst\n",
    "#         print(number, \" X \", i, \" = \", multiply)\n",
    "        \n",
    "n = int(input(\"Enter a number for printing its table\"))\n",
    "lst = table(n)\n",
    "for i in range(1,11):\n",
    "    print(n, \" X \", i, \" = \", lst[i-1])\n",
    "print(\"*********finished*************\")       "
   ]
  },
  {
   "cell_type": "code",
   "execution_count": 11,
   "id": "d91ea4c6",
   "metadata": {},
   "outputs": [],
   "source": [
    "# *args and **kwargs\n",
    "def fruits(*name):\n",
    "    print(\"I have the following fruits in my basket\")\n",
    "    print(name)"
   ]
  },
  {
   "cell_type": "code",
   "execution_count": 13,
   "id": "99de8339",
   "metadata": {},
   "outputs": [
    {
     "name": "stdout",
     "output_type": "stream",
     "text": [
      "I have the following fruits in my basket\n",
      "('Apples', 'Banana', 'orange', 'chiku')\n"
     ]
    }
   ],
   "source": [
    "lst_of_fruits = [\"Apples\",\"Banana\",\"orange\",\"chiku\"]\n",
    "fruits(\"Apples\",\"Banana\",\"orange\",\"chiku\")"
   ]
  },
  {
   "cell_type": "code",
   "execution_count": 14,
   "id": "5683986c",
   "metadata": {},
   "outputs": [
    {
     "name": "stdout",
     "output_type": "stream",
     "text": [
      "42\n"
     ]
    }
   ],
   "source": [
    "def addition(*number):\n",
    "    lst = list(number)\n",
    "    for i in lst:\n",
    "        print(i)\n",
    "    print(sum(lst))\n",
    "    \n",
    "addition(3,4,5,6,7,8,9)"
   ]
  },
  {
   "cell_type": "code",
   "execution_count": 18,
   "id": "36ad3fb6",
   "metadata": {},
   "outputs": [
    {
     "name": "stdout",
     "output_type": "stream",
     "text": [
      "<class 'dict'>\n",
      "Mother -- sita\n",
      "father -- Ram\n",
      "brother -- kush\n"
     ]
    }
   ],
   "source": [
    "def family_members(**members):\n",
    "    print(type(members))\n",
    "    for k,v in members.items():\n",
    "        print(k,\"--\",v)\n",
    "    \n",
    "family_members(Mother = \"sita\",father = \"Ram\", brother = \"kush\")\n"
   ]
  },
  {
   "cell_type": "code",
   "execution_count": null,
   "id": "60a1b370",
   "metadata": {},
   "outputs": [],
   "source": []
  },
  {
   "cell_type": "code",
   "execution_count": null,
   "id": "4a68f426",
   "metadata": {},
   "outputs": [],
   "source": []
  }
 ],
 "metadata": {
  "kernelspec": {
   "display_name": "Python 3 (ipykernel)",
   "language": "python",
   "name": "python3"
  },
  "language_info": {
   "codemirror_mode": {
    "name": "ipython",
    "version": 3
   },
   "file_extension": ".py",
   "mimetype": "text/x-python",
   "name": "python",
   "nbconvert_exporter": "python",
   "pygments_lexer": "ipython3",
   "version": "3.9.13"
  }
 },
 "nbformat": 4,
 "nbformat_minor": 5
}

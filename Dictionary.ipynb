{
 "cells": [
  {
   "cell_type": "markdown",
   "id": "7b7e029f",
   "metadata": {},
   "source": [
    "# Dictionary {}\n",
    "dictionaries are used for storing data in key value pair, keys are unique elements while values can be duplicate.\n",
    "only immutable datatypes can become the key for a dictionary while you can use any datatype for its value.\n",
    "dictionaries are ordered and it do not allow duplicate keys.\n",
    "\n"
   ]
  },
  {
   "cell_type": "code",
   "execution_count": 2,
   "id": "985779a4",
   "metadata": {},
   "outputs": [
    {
     "data": {
      "text/plain": [
       "'C:\\\\Users\\\\divya.gupta\\\\desktop\\\\Untitled Folder 1'"
      ]
     },
     "execution_count": 2,
     "metadata": {},
     "output_type": "execute_result"
    }
   ],
   "source": [
    "import os\n",
    "os.getcwd()"
   ]
  },
  {
   "cell_type": "code",
   "execution_count": 26,
   "id": "f72a5a23",
   "metadata": {},
   "outputs": [
    {
     "name": "stdout",
     "output_type": "stream",
     "text": [
      "<class 'dict'>\n"
     ]
    },
    {
     "data": {
      "text/plain": [
       "{1: 'one', 4.0: 'for', 'three': 3, (1, 2, 3): 10, (10, 20, 30): [40, 50, 60]}"
      ]
     },
     "execution_count": 26,
     "metadata": {},
     "output_type": "execute_result"
    }
   ],
   "source": [
    "dict_1 = {\n",
    "    1:\"one\",\n",
    "    4.0 : \"one\",\n",
    "    \"three\" : 3,\n",
    "    (1,2,3) : 10,\n",
    "    (10,20,30) : [40,50,60],\n",
    "    4.0 : \"for\"\n",
    "}\n",
    "print(type(dict_1))\n",
    "dict_1\n"
   ]
  },
  {
   "cell_type": "code",
   "execution_count": 3,
   "id": "c86ab092",
   "metadata": {},
   "outputs": [
    {
     "name": "stdout",
     "output_type": "stream",
     "text": [
      "{}\n",
      "{1: 'one', 4.0: 'for', 'three': 3, (1, 2, 3): 10, (10, 20, 30): [40, 50, 60]}\n"
     ]
    }
   ],
   "source": [
    "# defining a dictionary\n",
    "empty_dict = {}  #define empty dictionary\n",
    "print(empty_dict)\n",
    "#defining dictionary with values\n",
    "dict_1 = { 1:\"one\",\n",
    "          4.0 : \"four\", \n",
    "          \"three\" : 3,\n",
    "          (1,2,3) : 10,\n",
    "          (10,20,30) : [40,50,60],\n",
    "          4.0 : \"for\"}\n",
    "dict_3 = dict()   #using a constructor\n",
    "dict_3\n",
    "print(dict_1)"
   ]
  },
  {
   "cell_type": "raw",
   "id": "32636f67",
   "metadata": {},
   "source": [
    "Accessing elements from dictionary : You can access the values using keys in dictionary, if the key is not present so it raise key error. \n",
    "-->> using get() method also we can get the values for their respective key.\n"
   ]
  },
  {
   "cell_type": "code",
   "execution_count": 6,
   "id": "ba1d6a03",
   "metadata": {},
   "outputs": [
    {
     "ename": "KeyError",
     "evalue": "(1, 2, 3, 4)",
     "output_type": "error",
     "traceback": [
      "\u001b[1;31m---------------------------------------------------------------------------\u001b[0m",
      "\u001b[1;31mKeyError\u001b[0m                                  Traceback (most recent call last)",
      "\u001b[1;32m~\\AppData\\Local\\Temp\\ipykernel_15144\\2082447662.py\u001b[0m in \u001b[0;36m<module>\u001b[1;34m\u001b[0m\n\u001b[1;32m----> 1\u001b[1;33m \u001b[0mdict_1\u001b[0m\u001b[1;33m[\u001b[0m\u001b[1;33m(\u001b[0m\u001b[1;36m1\u001b[0m\u001b[1;33m,\u001b[0m\u001b[1;36m2\u001b[0m\u001b[1;33m,\u001b[0m\u001b[1;36m3\u001b[0m\u001b[1;33m,\u001b[0m\u001b[1;36m4\u001b[0m\u001b[1;33m)\u001b[0m\u001b[1;33m]\u001b[0m\u001b[1;33m\u001b[0m\u001b[1;33m\u001b[0m\u001b[0m\n\u001b[0m",
      "\u001b[1;31mKeyError\u001b[0m: (1, 2, 3, 4)"
     ]
    }
   ],
   "source": [
    "dict_1[(1,2,3,4)]"
   ]
  },
  {
   "cell_type": "code",
   "execution_count": 13,
   "id": "a7fe5bb5",
   "metadata": {},
   "outputs": [
    {
     "ename": "KeyError",
     "evalue": "8.0",
     "output_type": "error",
     "traceback": [
      "\u001b[1;31m---------------------------------------------------------------------------\u001b[0m",
      "\u001b[1;31mKeyError\u001b[0m                                  Traceback (most recent call last)",
      "\u001b[1;32m~\\AppData\\Local\\Temp\\ipykernel_43188\\1863072902.py\u001b[0m in \u001b[0;36m<module>\u001b[1;34m\u001b[0m\n\u001b[1;32m----> 1\u001b[1;33m \u001b[0mdict_1\u001b[0m\u001b[1;33m[\u001b[0m\u001b[1;36m8.0\u001b[0m\u001b[1;33m]\u001b[0m\u001b[1;33m\u001b[0m\u001b[1;33m\u001b[0m\u001b[0m\n\u001b[0m",
      "\u001b[1;31mKeyError\u001b[0m: 8.0"
     ]
    }
   ],
   "source": [
    "dict_1[8.0]"
   ]
  },
  {
   "cell_type": "code",
   "execution_count": 14,
   "id": "85d131d9",
   "metadata": {},
   "outputs": [
    {
     "data": {
      "text/plain": [
       "'one'"
      ]
     },
     "execution_count": 14,
     "metadata": {},
     "output_type": "execute_result"
    }
   ],
   "source": [
    "dict_1.get(1)"
   ]
  },
  {
   "cell_type": "code",
   "execution_count": null,
   "id": "e02fd572",
   "metadata": {},
   "outputs": [],
   "source": [
    "# H.w. \n",
    "Q.1 Write a program to get key for given value in dictionary.\n",
    "Q.2 Write a program to reverse a tuple."
   ]
  },
  {
   "cell_type": "code",
   "execution_count": 17,
   "id": "51a4403e",
   "metadata": {},
   "outputs": [
    {
     "name": "stdout",
     "output_type": "stream",
     "text": [
      "{('e', 1), ('o', 3), ('l', 1), ('c', 1), ('m', 1), ('.', 1), ('g', 2)}\n"
     ]
    }
   ],
   "source": [
    "# to count the occurence of each character in a string.\n",
    "string = 'google.com'\n",
    "lst = []\n",
    "for i in string:\n",
    "    count = 0\n",
    "    count = string.count(i)\n",
    "    tuples = (i,count)\n",
    "    lst.append(tuples)\n",
    "    \n",
    "\n",
    "print(set(lst))"
   ]
  },
  {
   "cell_type": "code",
   "execution_count": 18,
   "id": "6ca7e647",
   "metadata": {},
   "outputs": [
    {
     "data": {
      "text/plain": [
       "{'g': 2, 'o': 3, 'l': 1, 'e': 1, '.': 1, 'c': 1, 'm': 1}"
      ]
     },
     "execution_count": 18,
     "metadata": {},
     "output_type": "execute_result"
    }
   ],
   "source": [
    "string = 'google.com'\n",
    "dict_1 = {}\n",
    "for i in string:\n",
    "    dict_1[i] = string.count(i)\n",
    "    \n",
    "dict_1"
   ]
  },
  {
   "cell_type": "markdown",
   "id": "8fcc50ac",
   "metadata": {},
   "source": [
    "modify and add new elements in dictionary"
   ]
  },
  {
   "cell_type": "code",
   "execution_count": 23,
   "id": "07465979",
   "metadata": {},
   "outputs": [
    {
     "data": {
      "text/plain": [
       "{1: 'one', (1, 2, 3): 10, (10, 20, 30): [40, 50, 60], 'topic': 'Datatypes'}"
      ]
     },
     "execution_count": 23,
     "metadata": {},
     "output_type": "execute_result"
    }
   ],
   "source": [
    "dict_1"
   ]
  },
  {
   "cell_type": "code",
   "execution_count": 14,
   "id": "8572a988",
   "metadata": {},
   "outputs": [],
   "source": [
    "dict_1['three'] = 30  #adding new key value pair in dictionary"
   ]
  },
  {
   "cell_type": "code",
   "execution_count": 10,
   "id": "76f6a022",
   "metadata": {},
   "outputs": [],
   "source": [
    "dict_1[\"topic\"] = \"Datatypes\""
   ]
  },
  {
   "cell_type": "code",
   "execution_count": 20,
   "id": "eb1d0318",
   "metadata": {},
   "outputs": [
    {
     "data": {
      "text/plain": [
       "'four'"
      ]
     },
     "execution_count": 20,
     "metadata": {},
     "output_type": "execute_result"
    }
   ],
   "source": [
    "# Removing the elements from dictionary\n",
    "# pop(key) -- it removes specific key value pair, takes 1 argument that is the key.\n",
    "dict_1.pop(4.0)\n"
   ]
  },
  {
   "cell_type": "code",
   "execution_count": 22,
   "id": "33ff4cd1",
   "metadata": {},
   "outputs": [
    {
     "data": {
      "text/plain": [
       "(0, 'four')"
      ]
     },
     "execution_count": 22,
     "metadata": {},
     "output_type": "execute_result"
    }
   ],
   "source": [
    "#popitem() - It removes the last key value pair from dictionary\n",
    "dict_1.popitem()"
   ]
  },
  {
   "cell_type": "code",
   "execution_count": 24,
   "id": "b3a4b24f",
   "metadata": {},
   "outputs": [],
   "source": [
    "# clear() - It removes all the items from the dictionary.\n",
    "dict_1.clear()"
   ]
  },
  {
   "cell_type": "code",
   "execution_count": 35,
   "id": "335394a1",
   "metadata": {},
   "outputs": [
    {
     "data": {
      "text/plain": [
       "{1: 'change value',\n",
       " 4.0: 'for',\n",
       " 'three': 3,\n",
       " (1, 2, 3): 10,\n",
       " (10, 20, 30): [40, 50, 60]}"
      ]
     },
     "execution_count": 35,
     "metadata": {},
     "output_type": "execute_result"
    }
   ],
   "source": [
    "dict_1"
   ]
  },
  {
   "cell_type": "code",
   "execution_count": 28,
   "id": "ef4bc515",
   "metadata": {},
   "outputs": [],
   "source": [
    "dict_2 = dict_1.copy()  #It creates a deep copy"
   ]
  },
  {
   "cell_type": "code",
   "execution_count": 31,
   "id": "0c916df3",
   "metadata": {},
   "outputs": [
    {
     "data": {
      "text/plain": [
       "{1: 'first pair',\n",
       " 4.0: 'for',\n",
       " 'three': 3,\n",
       " (1, 2, 3): 10,\n",
       " (10, 20, 30): [40, 50, 60]}"
      ]
     },
     "execution_count": 31,
     "metadata": {},
     "output_type": "execute_result"
    }
   ],
   "source": [
    "dict_2"
   ]
  },
  {
   "cell_type": "code",
   "execution_count": 30,
   "id": "09964386",
   "metadata": {},
   "outputs": [],
   "source": [
    "dict_2[1] = \"first pair\""
   ]
  },
  {
   "cell_type": "code",
   "execution_count": 33,
   "id": "fc2699c6",
   "metadata": {},
   "outputs": [],
   "source": [
    "dict_3 = dict_1   #It creates a shallow copy."
   ]
  },
  {
   "cell_type": "code",
   "execution_count": 34,
   "id": "78e8a026",
   "metadata": {},
   "outputs": [],
   "source": [
    "dict_3[1] = \"change value\""
   ]
  },
  {
   "cell_type": "code",
   "execution_count": 39,
   "id": "aa24c739",
   "metadata": {},
   "outputs": [
    {
     "name": "stdout",
     "output_type": "stream",
     "text": [
      "1 ------ first pair\n",
      "4.0 ------ for\n",
      "three ------ 3\n",
      "(1, 2, 3) ------ 10\n",
      "(10, 20, 30) ------ [40, 50, 60]\n"
     ]
    }
   ],
   "source": [
    "# Iterating all the elements of dict\n",
    "for i,j in dict_2.items():\n",
    "    print(i,end = \" ------ \")\n",
    "    print(j)\n",
    "    "
   ]
  },
  {
   "cell_type": "code",
   "execution_count": 44,
   "id": "3ec6701b",
   "metadata": {},
   "outputs": [
    {
     "data": {
      "text/plain": [
       "[1, 4.0, 'three', (1, 2, 3), (10, 20, 30)]"
      ]
     },
     "execution_count": 44,
     "metadata": {},
     "output_type": "execute_result"
    }
   ],
   "source": [
    "# keys() - It is used to get list of all the keys present in dictionary\n",
    "lst_key = list(dict_2.keys())\n",
    "lst_key\n",
    "# type(lst_key)"
   ]
  },
  {
   "cell_type": "code",
   "execution_count": 46,
   "id": "8085f2b8",
   "metadata": {},
   "outputs": [
    {
     "data": {
      "text/plain": [
       "['first pair', 'for', 3, 10, [40, 50, 60]]"
      ]
     },
     "execution_count": 46,
     "metadata": {},
     "output_type": "execute_result"
    }
   ],
   "source": [
    "# values() - It is used to get list of all the values present in dictionary\n",
    "lst_values = list(dict_2.values())\n",
    "lst_values"
   ]
  },
  {
   "cell_type": "code",
   "execution_count": 47,
   "id": "97d45308",
   "metadata": {},
   "outputs": [
    {
     "data": {
      "text/plain": [
       "{1: 'first pair',\n",
       " 4.0: 'for',\n",
       " 'three': 3,\n",
       " (1, 2, 3): 10,\n",
       " (10, 20, 30): [40, 50, 60]}"
      ]
     },
     "execution_count": 47,
     "metadata": {},
     "output_type": "execute_result"
    }
   ],
   "source": [
    "# update() - It adds elements of other dictionary to the current dictionary.\n",
    "dict_2"
   ]
  },
  {
   "cell_type": "code",
   "execution_count": 51,
   "id": "0885a7cd",
   "metadata": {},
   "outputs": [
    {
     "data": {
      "text/plain": [
       "{'class': 'python',\n",
       " 'topic': 'datatypes',\n",
       " 'session': 5,\n",
       " 1: 'first pair',\n",
       " 4.0: 'for',\n",
       " 'three': 3,\n",
       " (1, 2, 3): 10,\n",
       " (10, 20, 30): [40, 50, 60]}"
      ]
     },
     "execution_count": 51,
     "metadata": {},
     "output_type": "execute_result"
    }
   ],
   "source": [
    "dict_3 = {\"class\" : \"python\", \"topic\":\"datatypes\", \"session\" : 5}\n",
    "dict_3.update(dict_2)\n",
    "dict_3"
   ]
  },
  {
   "cell_type": "markdown",
   "id": "d2c2c017",
   "metadata": {},
   "source": [
    "'''Write a Python script to print a dictionary where the keys are numbers\n",
    "between 1 and 15 (both included) and the values are the square of the keys.\n",
    "output = {1:1,2:4,3:9,4:16............... ,15:225}'''\n"
   ]
  },
  {
   "cell_type": "code",
   "execution_count": 52,
   "id": "e4b0b44a",
   "metadata": {},
   "outputs": [
    {
     "data": {
      "text/plain": [
       "{1: 1,\n",
       " 2: 4,\n",
       " 3: 9,\n",
       " 4: 16,\n",
       " 5: 25,\n",
       " 6: 36,\n",
       " 7: 49,\n",
       " 8: 64,\n",
       " 9: 81,\n",
       " 10: 100,\n",
       " 11: 121,\n",
       " 12: 144,\n",
       " 13: 169,\n",
       " 14: 196,\n",
       " 15: 225}"
      ]
     },
     "execution_count": 52,
     "metadata": {},
     "output_type": "execute_result"
    }
   ],
   "source": [
    "dictionary = {}\n",
    "for i in range(1,16):\n",
    "    dictionary[i] = i**2\n",
    "    \n",
    "dictionary"
   ]
  },
  {
   "cell_type": "code",
   "execution_count": null,
   "id": "12476492",
   "metadata": {},
   "outputs": [],
   "source": []
  }
 ],
 "metadata": {
  "kernelspec": {
   "display_name": "Python 3 (ipykernel)",
   "language": "python",
   "name": "python3"
  },
  "language_info": {
   "codemirror_mode": {
    "name": "ipython",
    "version": 3
   },
   "file_extension": ".py",
   "mimetype": "text/x-python",
   "name": "python",
   "nbconvert_exporter": "python",
   "pygments_lexer": "ipython3",
   "version": "3.9.13"
  }
 },
 "nbformat": 4,
 "nbformat_minor": 5
}

{
 "cells": [
  {
   "cell_type": "code",
   "execution_count": null,
   "id": "6f67cd7c",
   "metadata": {},
   "outputs": [],
   "source": [
    "Major concepts in oops are :\n",
    "    1. class\n",
    "    2. object\n",
    "    3. Encapsulation\n",
    "    4. Inheritance\n",
    "    5. Polymorphism\n",
    "    6. Abstraction"
   ]
  },
  {
   "cell_type": "code",
   "execution_count": null,
   "id": "fc065e36",
   "metadata": {},
   "outputs": [],
   "source": [
    "types of variables\n",
    "constructor and methods\n",
    "self"
   ]
  },
  {
   "cell_type": "code",
   "execution_count": null,
   "id": "06d866dc",
   "metadata": {},
   "outputs": [],
   "source": [
    "# Getter and setter : getter and setter methods are used for providing data security or to ensure data encapsulation. Private \n",
    "variables can be accessed using this methods."
   ]
  },
  {
   "cell_type": "code",
   "execution_count": 2,
   "id": "4c646857",
   "metadata": {},
   "outputs": [
    {
     "data": {
      "text/plain": [
       "'Ram'"
      ]
     },
     "execution_count": 2,
     "metadata": {},
     "output_type": "execute_result"
    }
   ],
   "source": [
    "class user:\n",
    "    def __init__(self):\n",
    "        self.name = \"name\"\n",
    "        \n",
    "    #setter method\n",
    "    def set_name(self, your_name):\n",
    "        self.name = your_name\n",
    "        \n",
    "    #getter method\n",
    "    def get_name(self):\n",
    "        return self.name\n",
    "    \n",
    "\n",
    "user1 = user()\n",
    "user1.set_name(\"Ram\")\n",
    "user1.get_name()\n"
   ]
  },
  {
   "cell_type": "code",
   "execution_count": 8,
   "id": "4e7ae621",
   "metadata": {},
   "outputs": [
    {
     "data": {
      "text/plain": [
       "'getter and setter methods'"
      ]
     },
     "execution_count": 8,
     "metadata": {},
     "output_type": "execute_result"
    }
   ],
   "source": [
    "a = 10   # global variable\n",
    "\n",
    "class practice:\n",
    "    my_variable = 0      #class variable or static variable\n",
    "    def __init__(self):\n",
    "        self.first_number  = 20   # instance variable\n",
    "        self.second_number = 10\n",
    "    \n",
    "    def fun1(self):\n",
    "        string = \"this is fun1 variable\"    #local variable\n",
    "        return string\n",
    "        \n",
    "    def get_string(self):\n",
    "        my_string = practice.my_variable\n",
    "        return my_string\n",
    "    \n",
    "    def set_string(self, string1):\n",
    "        practice.my_variable = string1\n",
    "        \n",
    "    def fun2(self):\n",
    "        print(\"This is fun2\")\n",
    "        \n",
    "obj = practice()\n",
    "obj.set_string(\"getter and setter methods\")\n",
    "obj.get_string()\n",
    "# print(f\"a : {a}\\n my_variable : {obj.my_variable} \\n first_number = {obj.first_number} \")"
   ]
  },
  {
   "cell_type": "code",
   "execution_count": null,
   "id": "0e83c6aa",
   "metadata": {},
   "outputs": [],
   "source": [
    "property() - It is a built in function that creates and gives you a property object. It(object) has three methods getter(), \n",
    "setter(), delete(). \n"
   ]
  },
  {
   "cell_type": "code",
   "execution_count": 12,
   "id": "dd05f862",
   "metadata": {},
   "outputs": [
    {
     "name": "stdout",
     "output_type": "stream",
     "text": [
      "setter method called\n",
      "getter method called\n",
      "Ram\n"
     ]
    }
   ],
   "source": [
    "class user:\n",
    "    def __init__(self):\n",
    "        self._name = \"name\"\n",
    "        \n",
    "    #setter method\n",
    "    def set_name(self, your_name):\n",
    "        print(\"setter method called\")\n",
    "        self._name = your_name\n",
    "        \n",
    "    #getter method\n",
    "    def get_name(self):\n",
    "        print(\"getter method called\")\n",
    "        return self._name\n",
    "    \n",
    "    #delete method\n",
    "    def del_name(self):\n",
    "        print(\"delete method\")\n",
    "        del self._name\n",
    "    \n",
    "    name = property(get_name, set_name, del_name)\n",
    "\n",
    "user1 = user()\n",
    "user1.name = \"Ram\"\n",
    "print(user1.name)\n"
   ]
  },
  {
   "cell_type": "code",
   "execution_count": null,
   "id": "3bc8f7b9",
   "metadata": {},
   "outputs": [],
   "source": [
    "# magic methods : this are also called dunder methods. __methodname__ . These methods are used for operator overloading. \n",
    "e.g __init__, __add__, __len__ ,  these are the special methods that start and end with double underscores. user donot call this\n",
    "functions explicitly, invocation happens internally from the class at a certain situation"
   ]
  },
  {
   "cell_type": "code",
   "execution_count": null,
   "id": "05f74d12",
   "metadata": {},
   "outputs": [],
   "source": [
    "2+3 = 5 , \"python\" + \"_class\" = \"python_class\""
   ]
  },
  {
   "cell_type": "code",
   "execution_count": null,
   "id": "61fb73b2",
   "metadata": {},
   "outputs": [],
   "source": [
    "\"python\".__add__(\"_class\")"
   ]
  },
  {
   "cell_type": "code",
   "execution_count": 13,
   "id": "df7c3809",
   "metadata": {},
   "outputs": [
    {
     "name": "stdout",
     "output_type": "stream",
     "text": [
      "<__main__.sample object at 0x00000161FB32E850>\n"
     ]
    }
   ],
   "source": [
    "class sample:\n",
    "    def __init__(self, string):\n",
    "        self.string = string\n",
    "        \n",
    "object = sample(\"demo string\")\n",
    "print(object)"
   ]
  },
  {
   "cell_type": "code",
   "execution_count": 21,
   "id": "88c349bd",
   "metadata": {},
   "outputs": [
    {
     "name": "stdout",
     "output_type": "stream",
     "text": [
      "demo string\n"
     ]
    },
    {
     "ename": "TypeError",
     "evalue": "unsupported operand type(s) for +: 'sample' and 'str'",
     "output_type": "error",
     "traceback": [
      "\u001b[1;31m---------------------------------------------------------------------------\u001b[0m",
      "\u001b[1;31mTypeError\u001b[0m                                 Traceback (most recent call last)",
      "\u001b[1;32m~\\AppData\\Local\\Temp\\ipykernel_31476\\3250926287.py\u001b[0m in \u001b[0;36m<module>\u001b[1;34m\u001b[0m\n\u001b[0;32m      8\u001b[0m \u001b[0mobject\u001b[0m \u001b[1;33m=\u001b[0m \u001b[0msample\u001b[0m\u001b[1;33m(\u001b[0m\u001b[1;34m\"demo string\"\u001b[0m\u001b[1;33m)\u001b[0m\u001b[1;33m\u001b[0m\u001b[1;33m\u001b[0m\u001b[0m\n\u001b[0;32m      9\u001b[0m \u001b[0mprint\u001b[0m\u001b[1;33m(\u001b[0m\u001b[0mobject\u001b[0m\u001b[1;33m)\u001b[0m\u001b[1;33m\u001b[0m\u001b[1;33m\u001b[0m\u001b[0m\n\u001b[1;32m---> 10\u001b[1;33m \u001b[0mobject\u001b[0m \u001b[1;33m+\u001b[0m \u001b[1;34m\"__string2__\"\u001b[0m\u001b[1;33m\u001b[0m\u001b[1;33m\u001b[0m\u001b[0m\n\u001b[0m",
      "\u001b[1;31mTypeError\u001b[0m: unsupported operand type(s) for +: 'sample' and 'str'"
     ]
    }
   ],
   "source": [
    "class sample:\n",
    "    def __init__(self, string):\n",
    "        self.string = string\n",
    "        \n",
    "    def __repr__(self):\n",
    "        return self.string\n",
    "        \n",
    "object = sample(\"demo string\")\n",
    "print(object)\n",
    "object + \"__string2__\""
   ]
  },
  {
   "cell_type": "code",
   "execution_count": 20,
   "id": "eda7c4c5",
   "metadata": {},
   "outputs": [
    {
     "data": {
      "text/plain": [
       "'demo string__string2__'"
      ]
     },
     "execution_count": 20,
     "metadata": {},
     "output_type": "execute_result"
    }
   ],
   "source": [
    "object + \"__string2__\""
   ]
  },
  {
   "cell_type": "code",
   "execution_count": 16,
   "id": "2bc57266",
   "metadata": {},
   "outputs": [
    {
     "name": "stdout",
     "output_type": "stream",
     "text": [
      "demo string\n"
     ]
    }
   ],
   "source": [
    "class sample:\n",
    "    def __init__(self, string):\n",
    "        self.string = string\n",
    "        \n",
    "    def __repr__(self):\n",
    "        return self.string\n",
    "    \n",
    "    def __add__(self,string2):\n",
    "        return self.string + string2\n",
    "        \n",
    "object = sample(\"demo string\")\n",
    "print(object)"
   ]
  },
  {
   "cell_type": "code",
   "execution_count": 17,
   "id": "eee05503",
   "metadata": {},
   "outputs": [
    {
     "data": {
      "text/plain": [
       "'demo string .adding one more string to demo string'"
      ]
     },
     "execution_count": 17,
     "metadata": {},
     "output_type": "execute_result"
    }
   ],
   "source": [
    "object+\" .adding one more string to demo string\""
   ]
  },
  {
   "cell_type": "code",
   "execution_count": 19,
   "id": "1fe1458c",
   "metadata": {},
   "outputs": [
    {
     "data": {
      "text/plain": [
       "['__abs__',\n",
       " '__add__',\n",
       " '__and__',\n",
       " '__bool__',\n",
       " '__ceil__',\n",
       " '__class__',\n",
       " '__delattr__',\n",
       " '__dir__',\n",
       " '__divmod__',\n",
       " '__doc__',\n",
       " '__eq__',\n",
       " '__float__',\n",
       " '__floor__',\n",
       " '__floordiv__',\n",
       " '__format__',\n",
       " '__ge__',\n",
       " '__getattribute__',\n",
       " '__getnewargs__',\n",
       " '__gt__',\n",
       " '__hash__',\n",
       " '__index__',\n",
       " '__init__',\n",
       " '__init_subclass__',\n",
       " '__int__',\n",
       " '__invert__',\n",
       " '__le__',\n",
       " '__lshift__',\n",
       " '__lt__',\n",
       " '__mod__',\n",
       " '__mul__',\n",
       " '__ne__',\n",
       " '__neg__',\n",
       " '__new__',\n",
       " '__or__',\n",
       " '__pos__',\n",
       " '__pow__',\n",
       " '__radd__',\n",
       " '__rand__',\n",
       " '__rdivmod__',\n",
       " '__reduce__',\n",
       " '__reduce_ex__',\n",
       " '__repr__',\n",
       " '__rfloordiv__',\n",
       " '__rlshift__',\n",
       " '__rmod__',\n",
       " '__rmul__',\n",
       " '__ror__',\n",
       " '__round__',\n",
       " '__rpow__',\n",
       " '__rrshift__',\n",
       " '__rshift__',\n",
       " '__rsub__',\n",
       " '__rtruediv__',\n",
       " '__rxor__',\n",
       " '__setattr__',\n",
       " '__sizeof__',\n",
       " '__str__',\n",
       " '__sub__',\n",
       " '__subclasshook__',\n",
       " '__truediv__',\n",
       " '__trunc__',\n",
       " '__xor__',\n",
       " 'as_integer_ratio',\n",
       " 'bit_length',\n",
       " 'conjugate',\n",
       " 'denominator',\n",
       " 'from_bytes',\n",
       " 'imag',\n",
       " 'numerator',\n",
       " 'real',\n",
       " 'to_bytes']"
      ]
     },
     "execution_count": 19,
     "metadata": {},
     "output_type": "execute_result"
    }
   ],
   "source": [
    "dir(int)"
   ]
  },
  {
   "cell_type": "code",
   "execution_count": null,
   "id": "ebd08b23",
   "metadata": {},
   "outputs": [],
   "source": [
    "write a python class employee with attributes like emp_id, emp_name, emp_salary and emp_department. methods like calculate\n",
    "emp_annual_package , display emp_current_department, and display emp_details.\n"
   ]
  },
  {
   "cell_type": "code",
   "execution_count": 22,
   "id": "f49eeb2f",
   "metadata": {},
   "outputs": [
    {
     "name": "stdout",
     "output_type": "stream",
     "text": [
      "Employee ID: 1\n",
      "Employee Name: dhanraj\n",
      "Employee Salary: 5000\n",
      "Employee Department: HR\n",
      "Employee Annual Package: 60000\n",
      "Employee Current Department: HR\n"
     ]
    }
   ],
   "source": [
    "class Employee:\n",
    "    def __init__(self, emp_id, emp_name, emp_salary, emp_department):\n",
    "        self.emp_id = emp_id\n",
    "        self.emp_name = emp_name\n",
    "        self.emp_salary = emp_salary\n",
    "        self.emp_department = emp_department\n",
    "    \n",
    "    def calculate_emp_annual_package(self):\n",
    "        return self.emp_salary * 12\n",
    "    \n",
    "    def display_emp_current_department(self):\n",
    "        return self.emp_department\n",
    "    \n",
    "    def display_emp_details(self):\n",
    "        print(f\"Employee ID: {self.emp_id}\")\n",
    "        print(f\"Employee Name: {self.emp_name}\")\n",
    "        print(f\"Employee Salary: {self.emp_salary}\")\n",
    "        print(f\"Employee Department: {self.emp_department}\")\n",
    "\n",
    "\n",
    "emp = Employee(1, \"dhanraj\", 5000, \"HR\")\n",
    "\n",
    "annual_package = emp.calculate_emp_annual_package()\n",
    "current_department = emp.display_emp_current_department()\n",
    "emp.display_emp_details()\n",
    "\n",
    "print(f\"Employee Annual Package: {annual_package}\")\n",
    "print(f\"Employee Current Department: {current_department}\")"
   ]
  },
  {
   "cell_type": "code",
   "execution_count": 23,
   "id": "5bfbf93d",
   "metadata": {},
   "outputs": [
    {
     "name": "stdout",
     "output_type": "stream",
     "text": [
      "Employee Annual Package: 12000000\n",
      "Current Department: Manager\n",
      "Employee Details:\n",
      "Employee ID: E02\n",
      "Employee Name: GEETA\n",
      "Employee Salary: 1000000\n",
      "Employee Department: Manager\n"
     ]
    }
   ],
   "source": [
    "class Employee:\n",
    "    def __init__(self, emp_id, emp_name, emp_salary, emp_department):\n",
    "        self.emp_id = emp_id\n",
    "        self.emp_name = emp_name\n",
    "        self.emp_salary = emp_salary\n",
    "        self.emp_department = emp_department\n",
    "    \n",
    "    def calculate_emp_annual_package(self):\n",
    "        annual_package = self.emp_salary * 12\n",
    "        return annual_package\n",
    "    \n",
    "    def display_emp_current_department(self):\n",
    "        return self.emp_department\n",
    "    \n",
    "    def display_emp_details(self):\n",
    "        details = f\"Employee ID: {self.emp_id}\\nEmployee Name: {self.emp_name}\\nEmployee Salary: {self.emp_salary}\\nEmployee Department: {self.emp_department}\"\n",
    "        return details\n",
    "    \n",
    "emp1 = Employee(\"E02\", \"GEETA\", 1000000, \"Manager\")\n",
    "annual_package = emp1.calculate_emp_annual_package()\n",
    "current_department = emp1.display_emp_current_department()\n",
    "employee_details = emp1.display_emp_details()\n",
    "\n",
    "print(\"Employee Annual Package:\", annual_package)\n",
    "print(\"Current Department:\", current_department)\n",
    "print(\"Employee Details:\")\n",
    "print(employee_details)"
   ]
  },
  {
   "cell_type": "code",
   "execution_count": null,
   "id": "f858cadd",
   "metadata": {},
   "outputs": [],
   "source": []
  }
 ],
 "metadata": {
  "kernelspec": {
   "display_name": "Python 3 (ipykernel)",
   "language": "python",
   "name": "python3"
  },
  "language_info": {
   "codemirror_mode": {
    "name": "ipython",
    "version": 3
   },
   "file_extension": ".py",
   "mimetype": "text/x-python",
   "name": "python",
   "nbconvert_exporter": "python",
   "pygments_lexer": "ipython3",
   "version": "3.9.13"
  }
 },
 "nbformat": 4,
 "nbformat_minor": 5
}

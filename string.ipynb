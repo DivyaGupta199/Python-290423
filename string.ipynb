{
 "cells": [
  {
   "cell_type": "code",
   "execution_count": null,
   "id": "159debcd",
   "metadata": {},
   "outputs": [],
   "source": [
    "Data types:\n",
    "    1. Numerical -- int, float, complex\n",
    "    2. string -- a char, a word, a sentence.(str)\n",
    "     3. sequence -- list, tuple and sets\n",
    "        4. Boolean -- bool\n",
    "        5. dictionary\n",
    "        \n",
    "        "
   ]
  },
  {
   "cell_type": "code",
   "execution_count": null,
   "id": "b8038f19",
   "metadata": {},
   "outputs": [],
   "source": [
    "String\n",
    "A sequence of characters. \n",
    "'', \"\",\"\"\" \"\"\"\n",
    "ordered  ,\n",
    "unordered -- \n",
    "immutable"
   ]
  },
  {
   "cell_type": "code",
   "execution_count": 7,
   "id": "92cec9d0",
   "metadata": {},
   "outputs": [
    {
     "data": {
      "text/plain": [
       "'5'"
      ]
     },
     "execution_count": 7,
     "metadata": {},
     "output_type": "execute_result"
    }
   ],
   "source": [
    "int = 256\n",
    "char = '256'\n",
    "char[1]\n"
   ]
  },
  {
   "cell_type": "code",
   "execution_count": 9,
   "id": "005f8fe9",
   "metadata": {},
   "outputs": [
    {
     "name": "stdout",
     "output_type": "stream",
     "text": [
      "15\n"
     ]
    }
   ],
   "source": [
    "# this is a comment\n",
    "'''This \n",
    "is a\n",
    "multi \n",
    "line \n",
    "comment'''\n",
    "a = 5\n",
    "b = 10\n",
    "print(a+b)\n"
   ]
  },
  {
   "cell_type": "code",
   "execution_count": 11,
   "id": "94b4a45d",
   "metadata": {},
   "outputs": [
    {
     "name": "stdout",
     "output_type": "stream",
     "text": [
      "s\n",
      "t\n",
      "r\n",
      "i\n",
      "n\n",
      "g\n"
     ]
    }
   ],
   "source": [
    "'''This is a string'''\n",
    "vari = '''string'''\n",
    "for i in vari:\n",
    "    print(i)"
   ]
  },
  {
   "cell_type": "code",
   "execution_count": null,
   "id": "e5ab697c",
   "metadata": {},
   "outputs": [],
   "source": [
    "# write a program to find vowels in a string.\n",
    "# Input : Apple\n",
    "# Output : 2\n",
    "word = \"Apple\"\n",
    "count = 0\n",
    "for i in word:\n",
    "#     logic\n",
    "    count+=1\n",
    "    \n",
    "    \n",
    "print(count)\n"
   ]
  },
  {
   "cell_type": "code",
   "execution_count": 15,
   "id": "6079b68a",
   "metadata": {},
   "outputs": [
    {
     "data": {
      "text/plain": [
       "'e'"
      ]
     },
     "execution_count": 15,
     "metadata": {},
     "output_type": "execute_result"
    }
   ],
   "source": [
    "word = \"Apple\"\n",
    "0  1  2  3  4\n",
    "A  p  p  l  e\n",
    "-5 -4 -3  -2   -1\n",
    "        "
   ]
  },
  {
   "cell_type": "code",
   "execution_count": 16,
   "id": "b9b49aaa",
   "metadata": {},
   "outputs": [
    {
     "data": {
      "text/plain": [
       "'e'"
      ]
     },
     "execution_count": 16,
     "metadata": {},
     "output_type": "execute_result"
    }
   ],
   "source": [
    "word = \"Apple\"\n",
    "word[-1]"
   ]
  },
  {
   "cell_type": "code",
   "execution_count": null,
   "id": "89745a89",
   "metadata": {},
   "outputs": [],
   "source": []
  },
  {
   "cell_type": "code",
   "execution_count": null,
   "id": "0d639180",
   "metadata": {},
   "outputs": [],
   "source": [
    "# How to Access the string ?\n",
    "'''we can access individual characters using indexing. to access a range of characters we use slicing. \n",
    "Index starts from 0 if we try to access a character out of index range then Index Error occurs. the index\n",
    "must be an integer. "
   ]
  },
  {
   "cell_type": "code",
   "execution_count": 37,
   "id": "58dbaaf1",
   "metadata": {},
   "outputs": [
    {
     "data": {
      "text/plain": [
       "9"
      ]
     },
     "execution_count": 37,
     "metadata": {},
     "output_type": "execute_result"
    }
   ],
   "source": [
    "##### Slicing\n",
    "first = \"Apple\"\n",
    "second = \"Boy\"\n",
    "third  = \"Apple Boy\"\n",
    "len(word)   # to find the length of string we use len() function\n"
   ]
  },
  {
   "cell_type": "markdown",
   "id": "59ca5668",
   "metadata": {},
   "source": [
    "# Python string operations"
   ]
  },
  {
   "cell_type": "code",
   "execution_count": null,
   "id": "0388bb86",
   "metadata": {},
   "outputs": [],
   "source": [
    "Joining of two or more strings into a single one is called concatnation\n",
    "The + operator is used for concatnation"
   ]
  },
  {
   "cell_type": "code",
   "execution_count": 40,
   "id": "a668c9d5",
   "metadata": {},
   "outputs": [
    {
     "name": "stdout",
     "output_type": "stream",
     "text": [
      "Python^^^^^Class\n"
     ]
    }
   ],
   "source": [
    "first = \"Python\"\n",
    "second = \"Class\"\n",
    "third = first + \"^^^^^\" + second\n",
    "print(third)"
   ]
  },
  {
   "cell_type": "code",
   "execution_count": null,
   "id": "4b587648",
   "metadata": {},
   "outputs": [],
   "source": [
    "string inbuilt methods :\n",
    "1. lower()\n",
    "2. upper()\n",
    "3. islower()\n",
    "4. isupper()\n",
    "5. capitalize() --- it capitalises the first letter of string.\n",
    "6. title()\n",
    "7. casefold\n",
    "8. "
   ]
  },
  {
   "cell_type": "code",
   "execution_count": 1,
   "id": "94c9dbe4",
   "metadata": {},
   "outputs": [
    {
     "data": {
      "text/plain": [
       "'Python is a programming language'"
      ]
     },
     "execution_count": 1,
     "metadata": {},
     "output_type": "execute_result"
    }
   ],
   "source": [
    "sentence = \"pYthon iS a ProGramminG LanguAge\"\n",
    "sentence.capitalize()"
   ]
  },
  {
   "cell_type": "code",
   "execution_count": 2,
   "id": "53083b3f",
   "metadata": {},
   "outputs": [
    {
     "data": {
      "text/plain": [
       "'Python Is A Programming Language'"
      ]
     },
     "execution_count": 2,
     "metadata": {},
     "output_type": "execute_result"
    }
   ],
   "source": [
    "sentence = \"pYthon iS a ProGramminG LanguAge\"\n",
    "sentence.title()"
   ]
  },
  {
   "cell_type": "code",
   "execution_count": 3,
   "id": "d55882a5",
   "metadata": {},
   "outputs": [
    {
     "name": "stdout",
     "output_type": "stream",
     "text": [
      "a\n",
      "d\n",
      "o\n",
      "y\n",
      "d\n",
      "E\n"
     ]
    }
   ],
   "source": [
    "a= \"Edyoda\"\n",
    "b = reversed(a)\n",
    "for x in b:\n",
    "  print(x)"
   ]
  },
  {
   "cell_type": "code",
   "execution_count": 4,
   "id": "268b0eb3",
   "metadata": {},
   "outputs": [
    {
     "name": "stdout",
     "output_type": "stream",
     "text": [
      "enter string:python\n",
      "nohtyp\n"
     ]
    }
   ],
   "source": [
    "def reverse_string(s) :\n",
    "    S2 = \"\"\n",
    "    for i in s:\n",
    "        S2 = i + S2\n",
    "    return S2\n",
    "s = input(\"enter string:\")\n",
    "op = reverse_string(s)\n",
    "print(op)"
   ]
  },
  {
   "cell_type": "code",
   "execution_count": 5,
   "id": "2a3578ff",
   "metadata": {},
   "outputs": [
    {
     "name": "stdout",
     "output_type": "stream",
     "text": [
      "Enter a string : python\n",
      "The revered string is :  nohtyp\n"
     ]
    }
   ],
   "source": [
    "entered_string = input(\"Enter a string : \")\n",
    "str = ''\n",
    "for i in entered_string:\n",
    "  str = i + str\n",
    "\n",
    "print(\"The revered string is : \", str)"
   ]
  },
  {
   "cell_type": "code",
   "execution_count": 6,
   "id": "6e4d976b",
   "metadata": {},
   "outputs": [
    {
     "name": "stdout",
     "output_type": "stream",
     "text": [
      "Enter your string:python\n",
      "nohtyp\n"
     ]
    }
   ],
   "source": [
    "Str = input(\"Enter your string:\")\n",
    "\n",
    "str1 = \"\".join(reversed(Str))\n",
    "print(str1)"
   ]
  },
  {
   "cell_type": "code",
   "execution_count": 7,
   "id": "addd1adc",
   "metadata": {},
   "outputs": [
    {
     "name": "stdout",
     "output_type": "stream",
     "text": [
      "enter a word:python\n",
      "nohtyp\n",
      "nohtyp\n"
     ]
    }
   ],
   "source": [
    "word  = input(\"enter a word:\")\n",
    "\"\".join(reversed(word))\n",
    "\n",
    "print(word[::-1])\n",
    "\n",
    "a=''\n",
    "for i in range(len(word)):\n",
    "    a = word[i]+a\n",
    "print(a)"
   ]
  },
  {
   "cell_type": "code",
   "execution_count": 55,
   "id": "f34708b3",
   "metadata": {},
   "outputs": [
    {
     "name": "stdout",
     "output_type": "stream",
     "text": [
      "['A', 'p', 'p', 'l', 'e']\n"
     ]
    }
   ],
   "source": [
    "# 1. split() -- it converts a string into list.\n",
    "word = \"Apple\"\n",
    "lst = list(word)\n",
    "print(lst)"
   ]
  },
  {
   "cell_type": "code",
   "execution_count": 20,
   "id": "04af68e6",
   "metadata": {},
   "outputs": [
    {
     "data": {
      "text/plain": [
       "'Divya Gupta'"
      ]
     },
     "execution_count": 20,
     "metadata": {},
     "output_type": "execute_result"
    }
   ],
   "source": [
    "first_name = \"Divya\"\n",
    "last_name = \"Gupta\"\n",
    "\" \".join([first_name, last_name])\n"
   ]
  },
  {
   "cell_type": "code",
   "execution_count": 26,
   "id": "0dee7506",
   "metadata": {},
   "outputs": [
    {
     "name": "stdout",
     "output_type": "stream",
     "text": [
      "[2, 3.45, 'string', True, [1, 2, [3, 7, 7], 4, 5], 2]\n"
     ]
    }
   ],
   "source": [
    "# List : A list a collection of hetrogeneous datatypes, list is mutable and list is ordered.\n",
    "# It allows duplicate members\n",
    "lst = [2,3.45,\"string\", True, [1,2,[3,5,7],4,5],2]\n",
    "lst[4][2][1] = 7\n",
    "print(lst)\n"
   ]
  },
  {
   "cell_type": "code",
   "execution_count": 27,
   "id": "8f1dd003",
   "metadata": {},
   "outputs": [
    {
     "name": "stdout",
     "output_type": "stream",
     "text": [
      "2\n",
      "3.45\n",
      "string\n",
      "True\n",
      "[1, 2, [3, 7, 7], 4, 5]\n",
      "2\n"
     ]
    }
   ],
   "source": [
    "for items in lst:\n",
    "    print(items)"
   ]
  },
  {
   "cell_type": "code",
   "execution_count": 28,
   "id": "bf7cdb67",
   "metadata": {},
   "outputs": [
    {
     "data": {
      "text/plain": [
       "list"
      ]
     },
     "execution_count": 28,
     "metadata": {},
     "output_type": "execute_result"
    }
   ],
   "source": [
    "type(lst)"
   ]
  },
  {
   "cell_type": "code",
   "execution_count": 32,
   "id": "db2aeaa6",
   "metadata": {},
   "outputs": [
    {
     "name": "stdout",
     "output_type": "stream",
     "text": [
      "[6, 3, 'mango']\n"
     ]
    }
   ],
   "source": [
    "lst = []    # empty list\n",
    "lst2 = [\"Apple\",1,2,False,\"lists\"]\n",
    "lst3 = [2,3.45,\"string\", True, [1,2,[3,5,7],4,5],2]   #nested list\n",
    "lst.append(6)\n",
    "lst.append(3)\n",
    "lst.append(\"mango\")\n",
    "print(lst)\n"
   ]
  },
  {
   "cell_type": "code",
   "execution_count": 33,
   "id": "906cba96",
   "metadata": {},
   "outputs": [],
   "source": [
    "lst.extend(lst2)"
   ]
  },
  {
   "cell_type": "code",
   "execution_count": 40,
   "id": "99a5bb9c",
   "metadata": {},
   "outputs": [
    {
     "name": "stdout",
     "output_type": "stream",
     "text": [
      "[6, 3, 'Apple', 1, 2]\n"
     ]
    }
   ],
   "source": [
    "print(lst)"
   ]
  },
  {
   "cell_type": "code",
   "execution_count": 39,
   "id": "0e0453a1",
   "metadata": {},
   "outputs": [
    {
     "data": {
      "text/plain": [
       "'mango'"
      ]
     },
     "execution_count": 39,
     "metadata": {},
     "output_type": "execute_result"
    }
   ],
   "source": [
    "lst.pop(2)"
   ]
  },
  {
   "cell_type": "code",
   "execution_count": null,
   "id": "f6cb4288",
   "metadata": {},
   "outputs": [],
   "source": [
    "Practice questions :\n",
    "1. Write a python program to check whether a given string is palindrome or not.\n",
    "e.g Madam = madam, Malayalam\n",
    "\n",
    "2. Write a Python program to count the number of characters (character frequency) in a string.\n",
    "Sample String : 'google.com'\n",
    "Expected Result : {'g': 2, 'o': 3, 'l': 1, 'e': 1, '.': 1, 'c': 1, 'm': 1}"
   ]
  },
  {
   "cell_type": "code",
   "execution_count": 46,
   "id": "f0406179",
   "metadata": {},
   "outputs": [
    {
     "name": "stdout",
     "output_type": "stream",
     "text": [
      "Enter any word: eouiahidupwhf\n",
      "7  vowels are present in given string\n"
     ]
    }
   ],
   "source": [
    "var = input(\"Enter any word: \")\n",
    "count = 0\n",
    "count_consonant = 0\n",
    "for i in var:\n",
    "    if (i == \"a\" or i == \"e\" or i == \"i\" or i == \"o\" or i == \"u\" or i == \"A\" or i == \"E\" or i == \"I\" or i == \"O\" or i == \"U\"):\n",
    "        count +=1\n",
    "    \n",
    "if count == 0:\n",
    "    print(\"No vowels found\")\n",
    "else:\n",
    "    print(count, \" vowels are present in given string\")"
   ]
  },
  {
   "cell_type": "code",
   "execution_count": 48,
   "id": "65c64d13",
   "metadata": {},
   "outputs": [
    {
     "name": "stdout",
     "output_type": "stream",
     "text": [
      "Enter a stringbbbbbbbdddr\n",
      "No vowels found\n"
     ]
    }
   ],
   "source": [
    "word = input(\"Enter a string\")\n",
    "count = 0\n",
    "for i in word:\n",
    "    if i in ['A','E','I','O','U','a','e','i','o','u']:\n",
    "        count+=1\n",
    "if count == 0:\n",
    "    print(\"No vowels found\")\n",
    "else:\n",
    "    print(count, \" vowels are present in given string\")"
   ]
  },
  {
   "cell_type": "code",
   "execution_count": null,
   "id": "70bd8789",
   "metadata": {},
   "outputs": [],
   "source": []
  }
 ],
 "metadata": {
  "kernelspec": {
   "display_name": "Python 3 (ipykernel)",
   "language": "python",
   "name": "python3"
  },
  "language_info": {
   "codemirror_mode": {
    "name": "ipython",
    "version": 3
   },
   "file_extension": ".py",
   "mimetype": "text/x-python",
   "name": "python",
   "nbconvert_exporter": "python",
   "pygments_lexer": "ipython3",
   "version": "3.9.13"
  }
 },
 "nbformat": 4,
 "nbformat_minor": 5
}

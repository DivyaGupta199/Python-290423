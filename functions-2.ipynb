{
 "cells": [
  {
   "cell_type": "markdown",
   "id": "e5ee282e",
   "metadata": {},
   "source": [
    "Lambda Function : Its a function without name and that's why it is also called\n",
    "    anonymous function.\n",
    "    we donot need to use def keyword for creating function instead we               use keyword\n",
    "    lambda for the same.\n",
    "    syntax : lambda arguments : expression.\n",
    "    It can have any number of arguments but only one expression.\n",
    "    The expression is evaluated and the result is returned.\n",
    "    It's a single line function\n",
    "    \n",
    "    "
   ]
  },
  {
   "cell_type": "code",
   "execution_count": 4,
   "id": "ec2adaff",
   "metadata": {},
   "outputs": [],
   "source": [
    "add = lambda num1,num2,num3,num4 : num1+num2+num3+num4"
   ]
  },
  {
   "cell_type": "code",
   "execution_count": 5,
   "id": "e588be4c",
   "metadata": {},
   "outputs": [],
   "source": [
    "result = add(4,6,3,2)"
   ]
  },
  {
   "cell_type": "code",
   "execution_count": 6,
   "id": "281f052f",
   "metadata": {},
   "outputs": [
    {
     "name": "stdout",
     "output_type": "stream",
     "text": [
      "15\n"
     ]
    }
   ],
   "source": [
    "print(result)"
   ]
  },
  {
   "cell_type": "code",
   "execution_count": 9,
   "id": "3e631457",
   "metadata": {},
   "outputs": [
    {
     "data": {
      "text/plain": [
       "25"
      ]
     },
     "execution_count": 9,
     "metadata": {},
     "output_type": "execute_result"
    }
   ],
   "source": [
    "def square(num):\n",
    "    s = num*num\n",
    "    return s\n",
    "\n",
    "number = 5\n",
    "square(number)"
   ]
  },
  {
   "cell_type": "code",
   "execution_count": 10,
   "id": "740c2308",
   "metadata": {},
   "outputs": [
    {
     "data": {
      "text/plain": [
       "36"
      ]
     },
     "execution_count": 10,
     "metadata": {},
     "output_type": "execute_result"
    }
   ],
   "source": [
    "square = lambda x : x*x\n",
    "square(6)"
   ]
  },
  {
   "cell_type": "code",
   "execution_count": 11,
   "id": "0040bab9",
   "metadata": {},
   "outputs": [
    {
     "name": "stdout",
     "output_type": "stream",
     "text": [
      "Odd number\n"
     ]
    }
   ],
   "source": [
    "#write a program to check if the number is even or not.\n",
    "\n",
    "def even_check(n):\n",
    "    if n%2 == 0:\n",
    "        return True\n",
    "    else:\n",
    "        return False\n",
    "    \n",
    "res = even_check(9)\n",
    "if res == True:\n",
    "    print(\"Even number\")\n",
    "else:\n",
    "    print(\"Odd number\")"
   ]
  },
  {
   "cell_type": "code",
   "execution_count": 13,
   "id": "684ac2dc",
   "metadata": {},
   "outputs": [
    {
     "data": {
      "text/plain": [
       "True"
      ]
     },
     "execution_count": 13,
     "metadata": {},
     "output_type": "execute_result"
    }
   ],
   "source": [
    "even = lambda number : number%2 == 0\n",
    "even(18)"
   ]
  },
  {
   "cell_type": "code",
   "execution_count": null,
   "id": "2572ccb2",
   "metadata": {},
   "outputs": [],
   "source": [
    "user has given his first name and last name, now store it in a variable called \n",
    "full name. \n",
    "for e.g\n",
    "first_name = \"Ram\"\n",
    "last_name = \"Kumar\"\n"
   ]
  },
  {
   "cell_type": "code",
   "execution_count": 14,
   "id": "fabc31a9",
   "metadata": {},
   "outputs": [
    {
     "data": {
      "text/plain": [
       "'Ram Kumar'"
      ]
     },
     "execution_count": 14,
     "metadata": {},
     "output_type": "execute_result"
    }
   ],
   "source": [
    "first_name = \"raM\"\n",
    "last_name = \"kumAr\"\n",
    "full_name = lambda a,b : a.title() + \" \" + b.title()\n",
    "full_name(first_name, last_name)"
   ]
  },
  {
   "cell_type": "code",
   "execution_count": null,
   "id": "2012d31b",
   "metadata": {},
   "outputs": [],
   "source": [
    "# 3*(x**2) + 4*x + 5\n"
   ]
  },
  {
   "cell_type": "code",
   "execution_count": 15,
   "id": "e6712f81",
   "metadata": {},
   "outputs": [
    {
     "data": {
      "text/plain": [
       "25"
      ]
     },
     "execution_count": 15,
     "metadata": {},
     "output_type": "execute_result"
    }
   ],
   "source": [
    "quadratic = lambda x : 3*(x**2) + 4*x + 5\n",
    "quadratic(2)"
   ]
  },
  {
   "cell_type": "markdown",
   "id": "ce3c0d35",
   "metadata": {},
   "source": [
    "Filter : This is used for filtering some elements of list using some conditions. It returns filtered list.\n",
    "filter(function , list)\n"
   ]
  },
  {
   "cell_type": "code",
   "execution_count": 17,
   "id": "0723b6b9",
   "metadata": {},
   "outputs": [
    {
     "data": {
      "text/plain": [
       "[2, 6, 4, 6, 8, 12]"
      ]
     },
     "execution_count": 17,
     "metadata": {},
     "output_type": "execute_result"
    }
   ],
   "source": [
    "lst = [1,2,3,5,6,4,6,7,8,9,12,15]\n",
    "even = lambda number : number%2 == 0\n",
    "even_lst = filter(even, lst)\n",
    "list(even_lst)"
   ]
  },
  {
   "cell_type": "code",
   "execution_count": 19,
   "id": "ef65d765",
   "metadata": {},
   "outputs": [
    {
     "data": {
      "text/plain": [
       "[60, 70, 80]"
      ]
     },
     "execution_count": 19,
     "metadata": {},
     "output_type": "execute_result"
    }
   ],
   "source": [
    "lst = [20,30,40,50,60,70,80]\n",
    "avg = sum(lst)/len(lst)\n",
    "above_avg = filter(lambda x : x>avg, lst)\n",
    "list(above_avg)"
   ]
  },
  {
   "cell_type": "code",
   "execution_count": null,
   "id": "afb1e95c",
   "metadata": {},
   "outputs": [],
   "source": [
    "Map : The map function takes two arguments, a function and a list. the function\n",
    "    is called with all the items in the list and returns a new list which contains\n",
    "    items returned by the functions"
   ]
  },
  {
   "cell_type": "code",
   "execution_count": 20,
   "id": "e350f375",
   "metadata": {},
   "outputs": [
    {
     "data": {
      "text/plain": [
       "[1, 4, 9, 16, 25, 36, 49]"
      ]
     },
     "execution_count": 20,
     "metadata": {},
     "output_type": "execute_result"
    }
   ],
   "source": [
    "lst = [1,2,3,4,5,6,7]\n",
    "square = lambda x : x**2\n",
    "list(map(square,lst))\n",
    "\n",
    "# [1,4,9,16,25,36,49]"
   ]
  },
  {
   "cell_type": "code",
   "execution_count": null,
   "id": "a37a8194",
   "metadata": {},
   "outputs": [],
   "source": [
    "write a program to get a lst where all the elements of given lst are \n",
    "multiplied by 5.\n",
    "input : [1,2,3,4,5]\n",
    "output : [5,10,15,20,25]"
   ]
  },
  {
   "cell_type": "code",
   "execution_count": 21,
   "id": "468bf06b",
   "metadata": {},
   "outputs": [
    {
     "data": {
      "text/plain": [
       "[5, 10, 15, 20, 25]"
      ]
     },
     "execution_count": 21,
     "metadata": {},
     "output_type": "execute_result"
    }
   ],
   "source": [
    "lst = [1,2,3,4,5]\n",
    "multiply = lambda x : x*5\n",
    "list(map(multiply , lst))"
   ]
  },
  {
   "cell_type": "code",
   "execution_count": null,
   "id": "e31c49b1",
   "metadata": {},
   "outputs": [],
   "source": [
    "Reduce : this function is used to reduce a sequence of elements to a single value\n",
    "    by processing the elements according to the function applied.\n",
    "It takes two parameters first is the function, and the list.  "
   ]
  },
  {
   "cell_type": "code",
   "execution_count": 23,
   "id": "621292ec",
   "metadata": {},
   "outputs": [
    {
     "data": {
      "text/plain": [
       "75"
      ]
     },
     "execution_count": 23,
     "metadata": {},
     "output_type": "execute_result"
    }
   ],
   "source": [
    "from functools import reduce\n",
    "lst = [5, 10, 15, 20, 25]\n",
    "reduce(lambda x,y : x+y,lst)"
   ]
  },
  {
   "cell_type": "code",
   "execution_count": null,
   "id": "f6a5e2e0",
   "metadata": {},
   "outputs": [],
   "source": [
    "Write a program to get the product of elements of lst.\n",
    "Input : lst = [1,2,3,4,5]\n",
    "output : 120"
   ]
  },
  {
   "cell_type": "code",
   "execution_count": 24,
   "id": "60ebc21b",
   "metadata": {},
   "outputs": [
    {
     "data": {
      "text/plain": [
       "120"
      ]
     },
     "execution_count": 24,
     "metadata": {},
     "output_type": "execute_result"
    }
   ],
   "source": [
    "lst = [1,2,3,4,5]\n",
    "reduce(lambda x,y : x*y,lst)"
   ]
  },
  {
   "cell_type": "code",
   "execution_count": null,
   "id": "75f0b230",
   "metadata": {},
   "outputs": [],
   "source": [
    "Write a Python program to create a list containing the power of said number\n",
    "in bases raised to the corresponding number in the index using Python map.\n",
    "\n",
    "Input : lst = [4,7,2,3,5,8,9]\n",
    "\n",
    "Output lst :  [4**0, 7**1, 2**2, 3**3 ,5**4, 8**5 , 9**6]"
   ]
  },
  {
   "cell_type": "code",
   "execution_count": 25,
   "id": "5bb5e21a",
   "metadata": {},
   "outputs": [
    {
     "data": {
      "text/plain": [
       "[1, 3, 16, 125, 1296, 16807, 262144]"
      ]
     },
     "execution_count": 25,
     "metadata": {},
     "output_type": "execute_result"
    }
   ],
   "source": [
    "def power(lst):\n",
    "    lst2 = []\n",
    "    for i in range(len(lst)):\n",
    "        pow = lst[i]**i\n",
    "        lst2.append(pow)\n",
    "        \n",
    "    return lst2\n",
    "\n",
    "lst = [2,3,4,5,6,7,8]\n",
    "power(lst)"
   ]
  },
  {
   "cell_type": "code",
   "execution_count": 26,
   "id": "7c76536e",
   "metadata": {},
   "outputs": [
    {
     "name": "stdout",
     "output_type": "stream",
     "text": [
      "[1, 7, 4, 27, 625, 32768, 531441]\n"
     ]
    }
   ],
   "source": [
    "lst = [4, 7, 2, 3, 5, 8, 9]\n",
    "\n",
    "# Use map to compute the power of each number in the list\n",
    "result = list(map(lambda base, exponent: base ** exponent, lst, range(len(lst))))\n",
    "\n",
    "print(result)"
   ]
  },
  {
   "cell_type": "code",
   "execution_count": 28,
   "id": "fe763a6b",
   "metadata": {},
   "outputs": [
    {
     "data": {
      "text/plain": [
       "[1, 7, 4, 27, 625, 32768, 531441]"
      ]
     },
     "execution_count": 28,
     "metadata": {},
     "output_type": "execute_result"
    }
   ],
   "source": [
    "lst = [4, 7, 2, 3, 5, 8, 9]\n",
    "power = lambda base, exponent: base ** exponent\n",
    "result = map(power, lst, range(len(lst)))\n",
    "list(result)\n"
   ]
  },
  {
   "cell_type": "code",
   "execution_count": null,
   "id": "a16c7064",
   "metadata": {},
   "outputs": [],
   "source": []
  }
 ],
 "metadata": {
  "kernelspec": {
   "display_name": "Python 3 (ipykernel)",
   "language": "python",
   "name": "python3"
  },
  "language_info": {
   "codemirror_mode": {
    "name": "ipython",
    "version": 3
   },
   "file_extension": ".py",
   "mimetype": "text/x-python",
   "name": "python",
   "nbconvert_exporter": "python",
   "pygments_lexer": "ipython3",
   "version": "3.9.13"
  }
 },
 "nbformat": 4,
 "nbformat_minor": 5
}

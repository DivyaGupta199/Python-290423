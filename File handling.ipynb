{
 "cells": [
  {
   "cell_type": "code",
   "execution_count": 2,
   "id": "acfcdf17",
   "metadata": {},
   "outputs": [
    {
     "name": "stdout",
     "output_type": "stream",
     "text": [
      "Enter the number1 :  8\n",
      "Enter the number2 :  6\n",
      "8 is greater\n"
     ]
    }
   ],
   "source": [
    "num1 = int(input(\"Enter the number1 :  \"))\n",
    "num2 = int(input(\"Enter the number2 :  \"))\n",
    "if num1>num2:\n",
    "    print(num1, \"is greater\")\n",
    "elif num2>num1:\n",
    "    print(num2, \"is greater\")\n",
    "else:\n",
    "    print(\"Numbers are equal\")"
   ]
  },
  {
   "cell_type": "code",
   "execution_count": null,
   "id": "efe7bb19",
   "metadata": {},
   "outputs": [],
   "source": [
    "File Handling : It is used to store data permanently in our system. A file is a named location in memory or disk for storing the\n",
    "    data. \n",
    "# Modes of files:\n",
    "1. Text \n",
    "2. Binary\n"
   ]
  },
  {
   "cell_type": "code",
   "execution_count": null,
   "id": "0a89256b",
   "metadata": {},
   "outputs": [],
   "source": [
    "# Operations performed on a file :\n",
    "1. create -- to create a new file.\n",
    "2. open -- open a file\n",
    "3. read/ write -- performing operations\n",
    "4. close -- close a file."
   ]
  },
  {
   "cell_type": "code",
   "execution_count": null,
   "id": "ab017e0a",
   "metadata": {},
   "outputs": [],
   "source": [
    "# Opening a file :\n",
    "file = open(file_name , mode)"
   ]
  },
  {
   "cell_type": "code",
   "execution_count": null,
   "id": "625317aa",
   "metadata": {},
   "outputs": [],
   "source": [
    "# Mode - Mainly there are four modes : \n",
    "# for text files : \n",
    "1. ('x') -- this mode is used to create a new file.\n",
    "2. ('r') -- this mode is used to open a text file in read mode. the curson is at beginning. \n",
    "3. ('w') -- this mode is used to open a text file in write mode, if the file is not present so it will create a new file. the curson is at beginning. \n",
    "4. ('a') -- this mode is used to modify/append data in text file.the curson is at end. \n",
    "5. ('r+') -- this mode is used for both read and write. It overrides the existing file. initially the position of cursor is at\n",
    "             beginning, once you write something the position of cursor changes to last letter written.\n",
    "6. ('w+') -- this mode is used for both write and read.\n",
    "7. ('a+') -- this mode is used for both append and read file. the curson is at end."
   ]
  },
  {
   "cell_type": "code",
   "execution_count": null,
   "id": "0006e37b",
   "metadata": {},
   "outputs": [],
   "source": [
    "# for text files : \n",
    "1. ('xb') -- this mode is used to create a new file.\n",
    "2. ('rb') -- this mode is used to open a binary file in read mode. the curson is at beginning. \n",
    "3. ('wb') -- this mode is used to open a binary file in write mode, if the file is not present so it will create a new file. the curson is at beginning. \n",
    "4. ('ab') -- this mode is used to modify/append data in binary file.the curson is at end. \n",
    "5. ('rb+') -- this mode is used for both read and write. It overrides the existing file. initially the position of cursor is at\n",
    "             beginning, once you write something the position of cursor changes to last letter written.\n",
    "6. ('wb+') -- this mode is used for both write and read.\n",
    "7. ('ab+') -- this mode is used for both append and read file. the curson is at end."
   ]
  },
  {
   "cell_type": "code",
   "execution_count": 3,
   "id": "cbdbcc34",
   "metadata": {},
   "outputs": [],
   "source": [
    "file = open(\"data.txt\",'x')\n"
   ]
  },
  {
   "cell_type": "code",
   "execution_count": 5,
   "id": "2a9d29c5",
   "metadata": {},
   "outputs": [
    {
     "data": {
      "text/plain": [
       "'It is a dynamically typed language.'"
      ]
     },
     "execution_count": 5,
     "metadata": {},
     "output_type": "execute_result"
    }
   ],
   "source": [
    "file1 = open(\"data.txt\",'r')\n",
    "file1.read()"
   ]
  },
  {
   "cell_type": "code",
   "execution_count": 38,
   "id": "4798b078",
   "metadata": {},
   "outputs": [],
   "source": [
    "file2 = open(\"data.txt\",'w')\n",
    "var = \"python is a high level object oriented programming language\\nit is esy to use.\\n It has multiple applications\"\n",
    "file2.write(var)\n",
    "file2.close()"
   ]
  },
  {
   "cell_type": "code",
   "execution_count": 46,
   "id": "1c921f62",
   "metadata": {},
   "outputs": [
    {
     "name": "stdout",
     "output_type": "stream",
     "text": [
      "today's lecture we are learning about file handling in python. \n",
      "File handling is an important concept in python. \n"
     ]
    }
   ],
   "source": [
    "file3 = open(\"data.txt\",'r+')\n",
    "file3.write(\"   \")\n",
    "print(file3.read())\n",
    "file3.close()"
   ]
  },
  {
   "cell_type": "code",
   "execution_count": 3,
   "id": "3e1ff4e6",
   "metadata": {},
   "outputs": [
    {
     "name": "stdout",
     "output_type": "stream",
     "text": [
      "\n"
     ]
    }
   ],
   "source": [
    "file3 = open(\"data.txt\",'w+')\n",
    "file3.write(\"It is a dynamically typed language.\")\n",
    "print(file3.read())\n",
    "file3.close()"
   ]
  },
  {
   "cell_type": "code",
   "execution_count": 4,
   "id": "a77b9d2c",
   "metadata": {},
   "outputs": [
    {
     "name": "stdout",
     "output_type": "stream",
     "text": [
      "It is a dynamically typed language.\n"
     ]
    }
   ],
   "source": [
    "file3 = open(\"data.txt\",'a+')\n",
    "file3.seek(0)\n",
    "print(file3.read())\n",
    "file3.close()"
   ]
  },
  {
   "cell_type": "markdown",
   "id": "0aa1a7c9",
   "metadata": {},
   "source": [
    "write a program to take input of basic details such as name, contact_info, address, education from the user and store it in a \n",
    "dictionary where the keys will be the fields ( name , contact_info , address, education) and values will be the data given by\n",
    "user. now make a file for permanently storing details of the user."
   ]
  },
  {
   "cell_type": "code",
   "execution_count": 8,
   "id": "7b4668ae",
   "metadata": {},
   "outputs": [
    {
     "name": "stdout",
     "output_type": "stream",
     "text": [
      "Enter your name : lhofs\n",
      "Enter your contact number4769700827\n",
      "Enter your addresshslgo\n",
      "Enter your educationbpjp\n"
     ]
    }
   ],
   "source": [
    "dict1 = {}\n",
    "dict1['Name'] = input(\"Enter your name : \")\n",
    "dict1['contact_info'] = input(\"Enter your contact number\")\n",
    "dict1['address'] = input(\"Enter your address\")\n",
    "dict1['education'] = input(\"Enter your education\")\n"
   ]
  },
  {
   "cell_type": "code",
   "execution_count": 7,
   "id": "cd9d8351",
   "metadata": {},
   "outputs": [],
   "source": [
    "file = open(\"user_info.txt\",'w+')\n",
    "file.write(str(dict1))\n",
    "file.seek(0)\n",
    "file.read()\n",
    "file.close()"
   ]
  },
  {
   "cell_type": "code",
   "execution_count": 9,
   "id": "c53e8ae7",
   "metadata": {},
   "outputs": [
    {
     "name": "stdout",
     "output_type": "stream",
     "text": [
      "Enter your name: abc\n",
      "Enter your contact information: 12345567\n",
      "Enter your address: xyz\n",
      "Enter your education: be\n",
      "User details have been saved to user_details.txt file.\n"
     ]
    }
   ],
   "source": [
    "def get_user_details():\n",
    "    details = {}\n",
    "    details['name'] = input(\"Enter your name: \")\n",
    "    details['contact_info'] = input(\"Enter your contact information: \")\n",
    "    details['address'] = input(\"Enter your address: \")\n",
    "    details['education'] = input(\"Enter your education: \")\n",
    "    return details\n",
    "\n",
    "def save_details_to_file(details, filename):\n",
    "    with open(filename, 'w') as file:\n",
    "        for key, value in details.items():\n",
    "            file.write(f\"{key}: {value}\\n\")\n",
    "\n",
    "user_details = get_user_details()\n",
    "filename = 'user_details.txt'\n",
    "save_details_to_file(user_details, filename)\n",
    "print(f\"User details have been saved to {filename} file.\")"
   ]
  },
  {
   "cell_type": "code",
   "execution_count": null,
   "id": "da6b6dca",
   "metadata": {},
   "outputs": [],
   "source": [
    "{\n",
    "  1 :  { name: abc\n",
    "contact_info: 12345567\n",
    "address: xyz\n",
    "education: be\n",
    "        \n",
    "    },\n",
    "    2 : { name: abc\n",
    "contact_info: 12345567\n",
    "address: xyz\n",
    "education: be\n",
    "        \n",
    "    },\n",
    "   3:  {name: abc\n",
    "contact_info: 12345567\n",
    "address: xyz\n",
    "education: be\n",
    "        \n",
    "    }\n",
    "}"
   ]
  },
  {
   "cell_type": "code",
   "execution_count": 15,
   "id": "5f1ca11d",
   "metadata": {},
   "outputs": [
    {
     "name": "stdout",
     "output_type": "stream",
     "text": [
      "20\n",
      "30\n"
     ]
    }
   ],
   "source": [
    "# with is used to open file and close it once the task is completed. once we come out of the body of with statement the file gets\n",
    "# closed, we donot need to explicitly close the file. \n",
    "with open(\"user_details.txt\", \"a\") as file:\n",
    "    print(file.tell())\n",
    "    file.write(\"\\nNew line\")\n",
    "    print(file.tell())\n",
    "#     data = file.read(20)\n",
    "#     print(file.tell())    # It tells you the current position of cursor\n",
    "#     print(data)\n"
   ]
  },
  {
   "cell_type": "code",
   "execution_count": 26,
   "id": "c4e3d74e",
   "metadata": {},
   "outputs": [
    {
     "name": "stdout",
     "output_type": "stream",
     "text": [
      "81\n"
     ]
    }
   ],
   "source": [
    "# seek(offset, from) :\n",
    "# offset -  how many positions you want to move\n",
    "# from - point of reference for moving the cursor.\n",
    "#      0 - from beginning\n",
    "#      1 - from current position.\n",
    "#      2 - from the end of file.\n",
    "import os\n",
    "os.chdir(\"C:\\\\Users\\\\divya.gupta\\\\desktop\\\\Untitled Folder 1\")\n",
    "with open(\"user_info2.txt\", \"r\") as file:\n",
    "    file.seek(0,2)\n",
    "    print(file.tell())\n",
    "\n"
   ]
  },
  {
   "cell_type": "code",
   "execution_count": 11,
   "id": "d6ca3e93",
   "metadata": {},
   "outputs": [
    {
     "name": "stdout",
     "output_type": "stream",
     "text": [
      "  I have changed the position of cursor\n",
      "  Sentence 2\n",
      "  sentence 3\n",
      "  sentence 4\n",
      "  \n"
     ]
    }
   ],
   "source": [
    "with open(\"user_details.txt\", \"r\") as file:\n",
    "    data = file.read()\n",
    "    print(data)"
   ]
  },
  {
   "cell_type": "code",
   "execution_count": null,
   "id": "72752efe",
   "metadata": {},
   "outputs": [],
   "source": [
    "# methods for reading a file :\n",
    "1. read()\n",
    "2. readline()\n",
    "3. readlines()\n"
   ]
  },
  {
   "cell_type": "code",
   "execution_count": 13,
   "id": "67ea6379",
   "metadata": {},
   "outputs": [],
   "source": [
    "# os module - this module helps us in interacting with the operating system. \n",
    "import os\n",
    "# rename() -- for renaming a file.\n",
    "os.rename(\"user_details.txt\", \"user_info2.txt\")\n"
   ]
  },
  {
   "cell_type": "code",
   "execution_count": 14,
   "id": "bb669e7a",
   "metadata": {},
   "outputs": [],
   "source": [
    "# mkdir() - it is used to create a new directory in the current working directly.\n",
    "os.mkdir(\"python tutorials\")"
   ]
  },
  {
   "cell_type": "code",
   "execution_count": 15,
   "id": "138909b9",
   "metadata": {},
   "outputs": [
    {
     "data": {
      "text/plain": [
       "'C:\\\\Users\\\\divya.gupta\\\\desktop\\\\Untitled Folder 1'"
      ]
     },
     "execution_count": 15,
     "metadata": {},
     "output_type": "execute_result"
    }
   ],
   "source": [
    "# getcwd() -- this methods will return the current working directory.\n",
    "os.getcwd()"
   ]
  },
  {
   "cell_type": "code",
   "execution_count": 16,
   "id": "5d519c6a",
   "metadata": {},
   "outputs": [
    {
     "name": "stdout",
     "output_type": "stream",
     "text": [
      "C:\\Users\\divya.gupta\\desktop\\Untitled Folder 1\n"
     ]
    },
    {
     "data": {
      "text/plain": [
       "'C:\\\\Users\\\\divya.gupta\\\\desktop\\\\Untitled Folder 1\\\\python tutorials'"
      ]
     },
     "execution_count": 16,
     "metadata": {},
     "output_type": "execute_result"
    }
   ],
   "source": [
    "# chdir() - it is used for changing the directory.\n",
    "print(os.getcwd())\n",
    "os.chdir(\"C:\\\\Users\\\\divya.gupta\\\\desktop\\\\Untitled Folder 1\\\\python tutorials\")\n",
    "os.getcwd()"
   ]
  },
  {
   "cell_type": "code",
   "execution_count": 27,
   "id": "c9b570e2",
   "metadata": {},
   "outputs": [],
   "source": [
    "# rmdir() - it is used for deleting the specified directory.\n",
    "os.rmdir(\"python tutorials\")"
   ]
  },
  {
   "cell_type": "code",
   "execution_count": null,
   "id": "67c4ec7e",
   "metadata": {},
   "outputs": [],
   "source": [
    ": - make a file and copy the content to it.\n",
    ": - split the data on the basis of spaces.\n",
    ": - you can use count method for counting the frequency of each word.\n",
    "    "
   ]
  }
 ],
 "metadata": {
  "kernelspec": {
   "display_name": "Python 3 (ipykernel)",
   "language": "python",
   "name": "python3"
  },
  "language_info": {
   "codemirror_mode": {
    "name": "ipython",
    "version": 3
   },
   "file_extension": ".py",
   "mimetype": "text/x-python",
   "name": "python",
   "nbconvert_exporter": "python",
   "pygments_lexer": "ipython3",
   "version": "3.9.13"
  }
 },
 "nbformat": 4,
 "nbformat_minor": 5
}

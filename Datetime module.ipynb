{
 "cells": [
  {
   "cell_type": "code",
   "execution_count": 1,
   "id": "3f258b1c",
   "metadata": {},
   "outputs": [],
   "source": [
    "# Datetime :- Python provides you an inbuilt module for working with dates and time. "
   ]
  },
  {
   "cell_type": "code",
   "execution_count": 2,
   "id": "c45b58b8",
   "metadata": {},
   "outputs": [],
   "source": [
    "import datetime as dt"
   ]
  },
  {
   "cell_type": "code",
   "execution_count": 3,
   "id": "641adb88",
   "metadata": {},
   "outputs": [],
   "source": [
    "# datetime - module, datetime - class, date - class, time - class"
   ]
  },
  {
   "cell_type": "code",
   "execution_count": 4,
   "id": "1c88bdb7",
   "metadata": {},
   "outputs": [
    {
     "data": {
      "text/plain": [
       "datetime.datetime(2023, 6, 23, 20, 51, 51, 862221)"
      ]
     },
     "execution_count": 4,
     "metadata": {},
     "output_type": "execute_result"
    }
   ],
   "source": [
    "today = dt.datetime.today()\n",
    "today"
   ]
  },
  {
   "cell_type": "code",
   "execution_count": 5,
   "id": "052c5559",
   "metadata": {},
   "outputs": [
    {
     "name": "stdout",
     "output_type": "stream",
     "text": [
      "2023-06-23 20:51:51.883218\n"
     ]
    }
   ],
   "source": [
    "from datetime import datetime, date, time\n",
    "\n",
    "print(datetime.today())"
   ]
  },
  {
   "cell_type": "code",
   "execution_count": 6,
   "id": "5d8d25aa",
   "metadata": {},
   "outputs": [
    {
     "name": "stdout",
     "output_type": "stream",
     "text": [
      "<class 'datetime.date'>\n"
     ]
    }
   ],
   "source": [
    "print(type(date.today()))"
   ]
  },
  {
   "cell_type": "code",
   "execution_count": 7,
   "id": "0a9a5b23",
   "metadata": {},
   "outputs": [
    {
     "name": "stdout",
     "output_type": "stream",
     "text": [
      "2023-06-23 20:51:51.957229\n"
     ]
    }
   ],
   "source": [
    "print(datetime.now())"
   ]
  },
  {
   "cell_type": "code",
   "execution_count": 8,
   "id": "b4395105",
   "metadata": {},
   "outputs": [
    {
     "name": "stdout",
     "output_type": "stream",
     "text": [
      "2023-06-23\n"
     ]
    }
   ],
   "source": [
    "timestamp_to_date = date.fromtimestamp(1687512119)\n",
    "print(timestamp_to_date)"
   ]
  },
  {
   "cell_type": "code",
   "execution_count": 9,
   "id": "2464752b",
   "metadata": {},
   "outputs": [
    {
     "data": {
      "text/plain": [
       "1687533712.015227"
      ]
     },
     "execution_count": 9,
     "metadata": {},
     "output_type": "execute_result"
    }
   ],
   "source": [
    "datetime.timestamp(datetime.today())"
   ]
  },
  {
   "cell_type": "code",
   "execution_count": 10,
   "id": "5c323ebb",
   "metadata": {},
   "outputs": [
    {
     "name": "stdout",
     "output_type": "stream",
     "text": [
      "2023-06-22\n"
     ]
    }
   ],
   "source": [
    "date_today = date(2023,6,22)\n",
    "print(date_today)"
   ]
  },
  {
   "cell_type": "code",
   "execution_count": 11,
   "id": "3bf2dd36",
   "metadata": {},
   "outputs": [
    {
     "name": "stdout",
     "output_type": "stream",
     "text": [
      "Current Day :  22\n",
      "Current Month :  6\n",
      "Current Year :  2023\n"
     ]
    }
   ],
   "source": [
    "print(\"Current Day : \", date_today.day)\n",
    "print(\"Current Month : \" , date_today.month)\n",
    "print(\"Current Year : \" , date_today.year)"
   ]
  },
  {
   "cell_type": "code",
   "execution_count": 12,
   "id": "dee8c875",
   "metadata": {},
   "outputs": [
    {
     "name": "stdout",
     "output_type": "stream",
     "text": [
      "20:31:46.000100\n"
     ]
    }
   ],
   "source": [
    "current_time = time(20,31,46,100)\n",
    "print(current_time)"
   ]
  },
  {
   "cell_type": "code",
   "execution_count": 13,
   "id": "74fadfe3",
   "metadata": {},
   "outputs": [
    {
     "name": "stdout",
     "output_type": "stream",
     "text": [
      "00:00:00\n"
     ]
    }
   ],
   "source": [
    "a = time()\n",
    "print(a)"
   ]
  },
  {
   "cell_type": "code",
   "execution_count": 14,
   "id": "9d15881d",
   "metadata": {},
   "outputs": [
    {
     "name": "stdout",
     "output_type": "stream",
     "text": [
      "18:00:00\n"
     ]
    }
   ],
   "source": [
    "b = time(18)\n",
    "print(b)"
   ]
  },
  {
   "cell_type": "code",
   "execution_count": 15,
   "id": "7da3197f",
   "metadata": {},
   "outputs": [
    {
     "name": "stdout",
     "output_type": "stream",
     "text": [
      "10:15:30\n"
     ]
    }
   ],
   "source": [
    "c = time(hour = 10, minute = 15, second = 30)\n",
    "print(c)"
   ]
  },
  {
   "cell_type": "code",
   "execution_count": 16,
   "id": "5917f272",
   "metadata": {},
   "outputs": [
    {
     "name": "stdout",
     "output_type": "stream",
     "text": [
      "2021-07-05 20:31:46.000100\n"
     ]
    }
   ],
   "source": [
    "date_time = datetime(2021,7,5,20,31,46,100)\n",
    "print(date_time)"
   ]
  },
  {
   "cell_type": "code",
   "execution_count": 17,
   "id": "4511b9f8",
   "metadata": {},
   "outputs": [
    {
     "data": {
      "text/plain": [
       "46"
      ]
     },
     "execution_count": 17,
     "metadata": {},
     "output_type": "execute_result"
    }
   ],
   "source": [
    "date_time.second"
   ]
  },
  {
   "cell_type": "code",
   "execution_count": 18,
   "id": "27909ed6",
   "metadata": {},
   "outputs": [],
   "source": [
    "# time-delta - timedelta object gives the difference between two dates"
   ]
  },
  {
   "cell_type": "code",
   "execution_count": 19,
   "id": "28aef0d5",
   "metadata": {},
   "outputs": [
    {
     "name": "stdout",
     "output_type": "stream",
     "text": [
      "20 days, 13:50:00\n"
     ]
    }
   ],
   "source": [
    "date1 = datetime(2023,6,1,20,30)\n",
    "date2 = datetime(2023,6,22,10,20)\n",
    "diff = date2 - date1\n",
    "print(diff)"
   ]
  },
  {
   "cell_type": "code",
   "execution_count": 20,
   "id": "ed637bd4",
   "metadata": {},
   "outputs": [
    {
     "name": "stdout",
     "output_type": "stream",
     "text": [
      "2023-06-03\n"
     ]
    }
   ],
   "source": [
    "from datetime import timedelta\n",
    "back_20_days = date.today() - timedelta(days = 20)\n",
    "print(back_20_days)"
   ]
  },
  {
   "cell_type": "code",
   "execution_count": 21,
   "id": "cc767194",
   "metadata": {},
   "outputs": [
    {
     "name": "stdout",
     "output_type": "stream",
     "text": [
      "<class 'datetime.datetime'>\n"
     ]
    }
   ],
   "source": [
    "# strftime() - This method will create a formatted string from the given date.\n",
    "\n",
    "today = datetime.now()\n",
    "print(type(today))"
   ]
  },
  {
   "cell_type": "code",
   "execution_count": 24,
   "id": "415bb35e",
   "metadata": {},
   "outputs": [
    {
     "name": "stdout",
     "output_type": "stream",
     "text": [
      "23-06-23, 20:51:52\n"
     ]
    }
   ],
   "source": [
    "# from datetime import strftime\n",
    "str_date = today.strftime(\"%d-%m-%y, %H:%M:%S\")\n",
    "print(str_date)"
   ]
  },
  {
   "cell_type": "code",
   "execution_count": 25,
   "id": "46533de4",
   "metadata": {},
   "outputs": [
    {
     "name": "stdout",
     "output_type": "stream",
     "text": [
      "<class 'str'>\n"
     ]
    }
   ],
   "source": [
    "print(type(str_date))"
   ]
  },
  {
   "cell_type": "code",
   "execution_count": 26,
   "id": "3f024bb8",
   "metadata": {},
   "outputs": [
    {
     "name": "stdout",
     "output_type": "stream",
     "text": [
      "Friday\n"
     ]
    }
   ],
   "source": [
    "day = today.strftime(\"%A\")\n",
    "print(day)"
   ]
  },
  {
   "cell_type": "code",
   "execution_count": 27,
   "id": "d7d1359b",
   "metadata": {},
   "outputs": [
    {
     "name": "stdout",
     "output_type": "stream",
     "text": [
      "Fri\n"
     ]
    }
   ],
   "source": [
    "day = today.strftime(\"%a\")\n",
    "print(day)"
   ]
  },
  {
   "cell_type": "code",
   "execution_count": 28,
   "id": "ef405096",
   "metadata": {},
   "outputs": [
    {
     "name": "stdout",
     "output_type": "stream",
     "text": [
      "5\n"
     ]
    }
   ],
   "source": [
    "day = today.strftime(\"%w\")\n",
    "print(day)"
   ]
  },
  {
   "cell_type": "code",
   "execution_count": 29,
   "id": "21089387",
   "metadata": {},
   "outputs": [
    {
     "name": "stdout",
     "output_type": "stream",
     "text": [
      "25\n"
     ]
    }
   ],
   "source": [
    "week = today.strftime(\"%W\")\n",
    "print(week)"
   ]
  },
  {
   "cell_type": "code",
   "execution_count": 30,
   "id": "a0aab17e",
   "metadata": {},
   "outputs": [
    {
     "name": "stdout",
     "output_type": "stream",
     "text": [
      "2023\n"
     ]
    }
   ],
   "source": [
    "year = today.strftime(\"%Y\")\n",
    "print(year)"
   ]
  },
  {
   "cell_type": "code",
   "execution_count": 33,
   "id": "55a57220",
   "metadata": {},
   "outputs": [
    {
     "name": "stdout",
     "output_type": "stream",
     "text": [
      "06\n"
     ]
    }
   ],
   "source": [
    "Month = today.strftime(\"%m\")\n",
    "print(Month)"
   ]
  },
  {
   "cell_type": "code",
   "execution_count": 35,
   "id": "e0825c73",
   "metadata": {},
   "outputs": [],
   "source": [
    "# strptime - Create datetime object from the given string.\n",
    "\n",
    "date_string = '23-06-23, 20:51:52'\n",
    "datetime = datetime.strptime(date_string, \"%d-%m-%y, %H:%M:%S\")"
   ]
  },
  {
   "cell_type": "code",
   "execution_count": 36,
   "id": "eb636f48",
   "metadata": {},
   "outputs": [
    {
     "name": "stdout",
     "output_type": "stream",
     "text": [
      "2023-06-23 20:51:52\n",
      "<class 'datetime.datetime'>\n"
     ]
    }
   ],
   "source": [
    "print(datetime)\n",
    "print(type(datetime))"
   ]
  },
  {
   "cell_type": "code",
   "execution_count": 37,
   "id": "95d58e53",
   "metadata": {},
   "outputs": [
    {
     "name": "stdout",
     "output_type": "stream",
     "text": [
      "2023-06-23 00:00:00\n"
     ]
    }
   ],
   "source": [
    "date_string = '23-06-23'\n",
    "datetime = datetime.strptime(date_string, \"%d-%m-%y\")\n",
    "print(datetime)"
   ]
  },
  {
   "cell_type": "code",
   "execution_count": null,
   "id": "2b0486cf",
   "metadata": {},
   "outputs": [],
   "source": []
  }
 ],
 "metadata": {
  "kernelspec": {
   "display_name": "Python 3 (ipykernel)",
   "language": "python",
   "name": "python3"
  },
  "language_info": {
   "codemirror_mode": {
    "name": "ipython",
    "version": 3
   },
   "file_extension": ".py",
   "mimetype": "text/x-python",
   "name": "python",
   "nbconvert_exporter": "python",
   "pygments_lexer": "ipython3",
   "version": "3.9.13"
  }
 },
 "nbformat": 4,
 "nbformat_minor": 5
}

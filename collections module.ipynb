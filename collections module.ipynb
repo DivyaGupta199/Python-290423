{
 "cells": [
  {
   "cell_type": "code",
   "execution_count": null,
   "id": "416a2559",
   "metadata": {},
   "outputs": [],
   "source": [
    "# Collection Module - This module is mainly used for getting datastructures or datatypes to store different types of collection of data.\n"
   ]
  },
  {
   "cell_type": "code",
   "execution_count": 1,
   "id": "4b248719",
   "metadata": {},
   "outputs": [],
   "source": [
    "import collections"
   ]
  },
  {
   "cell_type": "code",
   "execution_count": null,
   "id": "3770523c",
   "metadata": {},
   "outputs": [],
   "source": [
    "# orderedDict : this gives us data in format which is similar to dictionary. "
   ]
  },
  {
   "cell_type": "code",
   "execution_count": 5,
   "id": "3802065d",
   "metadata": {},
   "outputs": [
    {
     "name": "stdout",
     "output_type": "stream",
     "text": [
      "{1: 'One', 2: 'two', 3: 'three', 4: 'four'}\n"
     ]
    }
   ],
   "source": [
    "dict1 = {}\n",
    "dict1[1] = \"One\"\n",
    "dict1[2] = \"two\"\n",
    "dict1[3] = \"three\"\n",
    "dict1[4] = \"four\"\n",
    "\n",
    "print(dict1)"
   ]
  },
  {
   "cell_type": "code",
   "execution_count": 4,
   "id": "889b6ef7",
   "metadata": {},
   "outputs": [
    {
     "name": "stdout",
     "output_type": "stream",
     "text": [
      "OrderedDict([(1, 'One'), (2, 'two'), (3, 'three'), (4, 'four')])\n"
     ]
    }
   ],
   "source": [
    "ordered_dict = collections.OrderedDict()\n",
    "ordered_dict[1] = \"One\"\n",
    "ordered_dict[2] = \"two\"\n",
    "ordered_dict[3] = \"three\"\n",
    "ordered_dict[4] = \"four\"\n",
    "\n",
    "print(ordered_dict)"
   ]
  },
  {
   "cell_type": "code",
   "execution_count": 6,
   "id": "33244831",
   "metadata": {},
   "outputs": [
    {
     "name": "stdout",
     "output_type": "stream",
     "text": [
      "defaultdict(<class 'str'>, {'one': 1, 'two': 2, 'three': 3})\n"
     ]
    }
   ],
   "source": [
    "# defaultdict() - It is similar to python dictionary, the difference is that if takes an arguments as the default datatype\n",
    "\n",
    "\n",
    "data = collections.defaultdict(str)\n",
    "data[\"one\"] = 1\n",
    "data[\"two\"] = 2\n",
    "data[\"three\"] = 3\n",
    "print(data)\n",
    "    "
   ]
  },
  {
   "cell_type": "code",
   "execution_count": 7,
   "id": "993267c2",
   "metadata": {},
   "outputs": [
    {
     "name": "stdout",
     "output_type": "stream",
     "text": [
      "<class 'collections.defaultdict'>\n"
     ]
    }
   ],
   "source": [
    "print(type(data))"
   ]
  },
  {
   "cell_type": "code",
   "execution_count": null,
   "id": "e4be7fa6",
   "metadata": {},
   "outputs": [],
   "source": [
    "# deque : It is a datastructure which has two ends and it allows elements to be added from both the ends."
   ]
  },
  {
   "cell_type": "code",
   "execution_count": 11,
   "id": "8a41c6ec",
   "metadata": {},
   "outputs": [
    {
     "name": "stdout",
     "output_type": "stream",
     "text": [
      "['one', 'two', 'three', 'Age', 'Education', 'Profession', 'Name', 'Mobile_number', 'Address']\n"
     ]
    }
   ],
   "source": [
    "# Chainmap : A chainmap is used to store multiple dictionaries together to create a single list.\n",
    "\n",
    "from collections import ChainMap\n",
    "\n",
    "dict1 = {\"Name\" : \"ABC\", \"Mobile_number\" : 12345, \"Address\" : \"India\"}\n",
    "dict2 = {\"Age\" : 25, \"Education\" : \"B.tech\", \"Profession\" : \"Data Analyst\"}\n",
    "dict3 = {'one': 1, 'two': 2, 'three': 3}\n",
    "map_dict = ChainMap(dict1,dict2,dict3)\n",
    "print(list(map_dict))"
   ]
  },
  {
   "cell_type": "code",
   "execution_count": 12,
   "id": "2a594b25",
   "metadata": {},
   "outputs": [
    {
     "name": "stdout",
     "output_type": "stream",
     "text": [
      "Counter({1: 4, 2: 3, 3: 3, 4: 3, 5: 3, 6: 2, 8: 2, 0: 2, 9: 1})\n"
     ]
    }
   ],
   "source": [
    "# Counter \n",
    "from collections import Counter\n",
    "list1 = [1,1,2,3,1,3,4,6,3,4,8,5,2,4,8,5,2,1,0,9,0,6,5]\n",
    "count = Counter(list1)\n",
    "print(count)"
   ]
  },
  {
   "cell_type": "code",
   "execution_count": null,
   "id": "d547578d",
   "metadata": {},
   "outputs": [],
   "source": []
  }
 ],
 "metadata": {
  "kernelspec": {
   "display_name": "Python 3 (ipykernel)",
   "language": "python",
   "name": "python3"
  },
  "language_info": {
   "codemirror_mode": {
    "name": "ipython",
    "version": 3
   },
   "file_extension": ".py",
   "mimetype": "text/x-python",
   "name": "python",
   "nbconvert_exporter": "python",
   "pygments_lexer": "ipython3",
   "version": "3.9.13"
  }
 },
 "nbformat": 4,
 "nbformat_minor": 5
}

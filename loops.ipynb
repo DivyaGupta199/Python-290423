{
 "cells": [
  {
   "cell_type": "code",
   "execution_count": null,
   "id": "bde43c03",
   "metadata": {},
   "outputs": [],
   "source": [
    "Loops : \n",
    "1. for loop\n",
    "2. while loop\n"
   ]
  },
  {
   "cell_type": "code",
   "execution_count": null,
   "id": "12558a42",
   "metadata": {},
   "outputs": [],
   "source": [
    "for loop : when we know the number of iterations that time we use for loop. "
   ]
  },
  {
   "cell_type": "code",
   "execution_count": 1,
   "id": "bb84316c",
   "metadata": {},
   "outputs": [
    {
     "name": "stdout",
     "output_type": "stream",
     "text": [
      "1\n",
      "2\n",
      "3\n",
      "4\n",
      "5\n",
      "6\n",
      "7\n",
      "8\n",
      "9\n",
      "10\n"
     ]
    }
   ],
   "source": [
    "count = 1\n",
    "for j in range(0,10):\n",
    "    print(count)\n",
    "    count+=1\n",
    "    "
   ]
  },
  {
   "cell_type": "code",
   "execution_count": null,
   "id": "6b1bef04",
   "metadata": {},
   "outputs": [],
   "source": [
    "inclusive  -- start \n",
    "exclusive  -- end"
   ]
  },
  {
   "cell_type": "code",
   "execution_count": null,
   "id": "093ea371",
   "metadata": {},
   "outputs": [],
   "source": [
    "while loop : when we does not know the exact number of iterations, but we know some condition, so at this point\n",
    "    we use while loop."
   ]
  },
  {
   "cell_type": "code",
   "execution_count": null,
   "id": "4edc8e66",
   "metadata": {},
   "outputs": [],
   "source": [
    "# write a program to find all the multiples of 7 less than 100.\n",
    "\n",
    "integer = 7\n",
    "while integer<100:\n",
    "    if integer%7 == 0:\n",
    "        print(integer, end = \" \")\n",
    "    integer+=1\n",
    "    "
   ]
  },
  {
   "cell_type": "code",
   "execution_count": null,
   "id": "11694bfa",
   "metadata": {},
   "outputs": [],
   "source": []
  }
 ],
 "metadata": {
  "kernelspec": {
   "display_name": "Python 3 (ipykernel)",
   "language": "python",
   "name": "python3"
  },
  "language_info": {
   "codemirror_mode": {
    "name": "ipython",
    "version": 3
   },
   "file_extension": ".py",
   "mimetype": "text/x-python",
   "name": "python",
   "nbconvert_exporter": "python",
   "pygments_lexer": "ipython3",
   "version": "3.9.13"
  }
 },
 "nbformat": 4,
 "nbformat_minor": 5
}

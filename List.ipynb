{
 "cells": [
  {
   "cell_type": "code",
   "execution_count": null,
   "id": "e421c8c6",
   "metadata": {},
   "outputs": [],
   "source": [
    "List : sequencial, heterogenous, ordered, mutable."
   ]
  },
  {
   "cell_type": "code",
   "execution_count": null,
   "id": "c9eaafb4",
   "metadata": {},
   "outputs": [],
   "source": [
    "inbuilt list functions :\n",
    "1. append()\n",
    "2. extend()\n",
    "3. pop() ---- deletes the element by its index\n",
    "4. remove() --- deletes the element by its value.\n",
    "5. del\n",
    "6. insert()\n",
    "7. join()\n",
    "8. clear()\n",
    "9. sort()\n",
    "10. index()"
   ]
  },
  {
   "cell_type": "code",
   "execution_count": 1,
   "id": "00dbbdb5",
   "metadata": {},
   "outputs": [
    {
     "name": "stdout",
     "output_type": "stream",
     "text": [
      "[1, 2, 3, 5, 6, 7]\n"
     ]
    }
   ],
   "source": [
    "lst = [1,2,3,4,5,6,7]\n",
    "lst.remove(4)\n",
    "print(lst)"
   ]
  },
  {
   "cell_type": "code",
   "execution_count": 16,
   "id": "d6c13755",
   "metadata": {},
   "outputs": [
    {
     "name": "stdout",
     "output_type": "stream",
     "text": [
      "['a', 'b', 'c', 'd', 'e', 'f', 'g', 'h', 'i']\n"
     ]
    }
   ],
   "source": [
    "lst2 = list(('a','b','c','d','e','f','g','h','i'))  #Creating a list using list constructor\n",
    "print(lst2)"
   ]
  },
  {
   "cell_type": "code",
   "execution_count": 4,
   "id": "d0c286c0",
   "metadata": {},
   "outputs": [
    {
     "data": {
      "text/plain": [
       "4"
      ]
     },
     "execution_count": 4,
     "metadata": {},
     "output_type": "execute_result"
    }
   ],
   "source": [
    "lst2[3]  #Positive Indexing"
   ]
  },
  {
   "cell_type": "code",
   "execution_count": 6,
   "id": "1d29c3e1",
   "metadata": {},
   "outputs": [
    {
     "data": {
      "text/plain": [
       "4"
      ]
     },
     "execution_count": 6,
     "metadata": {},
     "output_type": "execute_result"
    }
   ],
   "source": [
    "lst2[-2]  #Negative Indexing"
   ]
  },
  {
   "cell_type": "code",
   "execution_count": 7,
   "id": "6b015037",
   "metadata": {},
   "outputs": [
    {
     "data": {
      "text/plain": [
       "[2, 3, 4]"
      ]
     },
     "execution_count": 7,
     "metadata": {},
     "output_type": "execute_result"
    }
   ],
   "source": [
    "lst2[1:4]"
   ]
  },
  {
   "cell_type": "code",
   "execution_count": 8,
   "id": "2b7769f2",
   "metadata": {},
   "outputs": [
    {
     "data": {
      "text/plain": [
       "[1, 2, 3, 4, 5]"
      ]
     },
     "execution_count": 8,
     "metadata": {},
     "output_type": "execute_result"
    }
   ],
   "source": [
    "lst2[::]"
   ]
  },
  {
   "cell_type": "code",
   "execution_count": 10,
   "id": "85ae5934",
   "metadata": {},
   "outputs": [
    {
     "data": {
      "text/plain": [
       "[5, 4, 3, 2, 1]"
      ]
     },
     "execution_count": 10,
     "metadata": {},
     "output_type": "execute_result"
    }
   ],
   "source": [
    "lst2[::-1]    # Reversing a lst using negative slicing"
   ]
  },
  {
   "cell_type": "code",
   "execution_count": 18,
   "id": "cdb71922",
   "metadata": {},
   "outputs": [
    {
     "data": {
      "text/plain": [
       "['b', 'd', 'f', 'h']"
      ]
     },
     "execution_count": 18,
     "metadata": {},
     "output_type": "execute_result"
    }
   ],
   "source": [
    "lst2[1:8:3]    #default = 1[start_index,end_index,steps]\n"
   ]
  },
  {
   "cell_type": "code",
   "execution_count": 17,
   "id": "71558245",
   "metadata": {},
   "outputs": [
    {
     "data": {
      "text/plain": [
       "['a', 'b', 'c', 'd', 'e', 'f', 'g', 'h', 'i']"
      ]
     },
     "execution_count": 17,
     "metadata": {},
     "output_type": "execute_result"
    }
   ],
   "source": [
    "lst2"
   ]
  },
  {
   "cell_type": "code",
   "execution_count": null,
   "id": "29dcc27d",
   "metadata": {},
   "outputs": [],
   "source": [
    "['b', 'd', 'f', 'h']"
   ]
  },
  {
   "cell_type": "code",
   "execution_count": 19,
   "id": "e7276628",
   "metadata": {},
   "outputs": [
    {
     "data": {
      "text/plain": [
       "['apple', 'b', 'c', 'd', 'e', 'f', 'g', 'h', 'i']"
      ]
     },
     "execution_count": 19,
     "metadata": {},
     "output_type": "execute_result"
    }
   ],
   "source": [
    "# lists are mutable\n",
    "lst2[0] = 'apple'\n",
    "lst2"
   ]
  },
  {
   "cell_type": "code",
   "execution_count": 21,
   "id": "3d6efbe5",
   "metadata": {},
   "outputs": [
    {
     "name": "stdout",
     "output_type": "stream",
     "text": [
      "Apple\n"
     ]
    }
   ],
   "source": [
    "# strings are immutable\n",
    "string = \"Apple\"\n",
    "print(string)"
   ]
  },
  {
   "cell_type": "code",
   "execution_count": 26,
   "id": "9cb1f37e",
   "metadata": {},
   "outputs": [
    {
     "name": "stdout",
     "output_type": "stream",
     "text": [
      "apple b c d e f g h i\n",
      "<class 'str'>\n"
     ]
    }
   ],
   "source": [
    "string1 = \" \".join(lst2)\n",
    "print(string1)\n",
    "print(type(string1))"
   ]
  },
  {
   "cell_type": "code",
   "execution_count": 29,
   "id": "38520fff",
   "metadata": {},
   "outputs": [
    {
     "data": {
      "text/plain": [
       "[1, 2, 3, 4, 5, 6]"
      ]
     },
     "execution_count": 29,
     "metadata": {},
     "output_type": "execute_result"
    }
   ],
   "source": [
    "lst1 = [1,2,3]\n",
    "lst2 = [4,5,6]\n",
    "lst1+ lst2    #addition operator for concatinating two list"
   ]
  },
  {
   "cell_type": "code",
   "execution_count": 34,
   "id": "fbfc821a",
   "metadata": {},
   "outputs": [
    {
     "data": {
      "text/plain": [
       "[1, 10, 2, 5, 3, 1, 10, 2, 5, 3, 1, 10, 2, 5, 3, 1, 10, 2, 5, 3]"
      ]
     },
     "execution_count": 34,
     "metadata": {},
     "output_type": "execute_result"
    }
   ],
   "source": [
    "lst1*4  #multiplication operator"
   ]
  },
  {
   "cell_type": "code",
   "execution_count": 33,
   "id": "497b0a23",
   "metadata": {},
   "outputs": [
    {
     "data": {
      "text/plain": [
       "[1, 10, 2, 5, 3]"
      ]
     },
     "execution_count": 33,
     "metadata": {},
     "output_type": "execute_result"
    }
   ],
   "source": [
    "lst1.insert(1,10)\n",
    "lst1"
   ]
  },
  {
   "cell_type": "code",
   "execution_count": 37,
   "id": "91925ed7",
   "metadata": {},
   "outputs": [],
   "source": [
    "del lst2"
   ]
  },
  {
   "cell_type": "markdown",
   "id": "36bceca8",
   "metadata": {},
   "source": [
    "#using user input create a list.\n",
    "Input : length of list, values"
   ]
  },
  {
   "cell_type": "code",
   "execution_count": 43,
   "id": "ca346c30",
   "metadata": {},
   "outputs": [
    {
     "name": "stdout",
     "output_type": "stream",
     "text": [
      "Enter the values into list:123apple\n",
      "['1', '2', '3', 'a', 'p', 'p', 'l', 'e']\n"
     ]
    }
   ],
   "source": [
    "# lst_length=int(input(\"Enter length of list required\"))\n",
    "lst=list(input(\"Enter the values into list:\"))\n",
    "print(lst)"
   ]
  },
  {
   "cell_type": "code",
   "execution_count": 44,
   "id": "5b9a3d25",
   "metadata": {},
   "outputs": [
    {
     "name": "stdout",
     "output_type": "stream",
     "text": [
      "<class 'list'>\n"
     ]
    }
   ],
   "source": [
    "print(type(lst))"
   ]
  },
  {
   "cell_type": "code",
   "execution_count": 45,
   "id": "924546a2",
   "metadata": {},
   "outputs": [
    {
     "name": "stdout",
     "output_type": "stream",
     "text": [
      "5\n",
      "1\n",
      "2\n",
      "3\n",
      "4\n",
      "5\n",
      "[1, 2, 3, 4, 5]\n"
     ]
    }
   ],
   "source": [
    "l=list((int(input()) for i in range(int(input()))))\n",
    "print(l)"
   ]
  },
  {
   "cell_type": "code",
   "execution_count": 46,
   "id": "3497967d",
   "metadata": {},
   "outputs": [
    {
     "name": "stdout",
     "output_type": "stream",
     "text": [
      "Enter the length of list5\n",
      "Enter valueapple\n",
      "Enter valueboy\n",
      "Enter valuecat\n",
      "Enter valuedog\n",
      "Enter valueegg\n",
      "['apple', 'boy', 'cat', 'dog', 'egg']\n"
     ]
    }
   ],
   "source": [
    "#Create a list using user input\n",
    "length  = int(input(\"Enter the length of list\"))\n",
    "lst = []\n",
    "for i in range(length):\n",
    "    value = input(\"Enter value : \")\n",
    "    lst.append(value)\n",
    "    \n",
    "print(lst)"
   ]
  },
  {
   "cell_type": "code",
   "execution_count": 47,
   "id": "50b28863",
   "metadata": {},
   "outputs": [
    {
     "name": "stdout",
     "output_type": "stream",
     "text": [
      "enter the length of list6\n",
      "enter the value11\n",
      "enter the value34\n",
      "enter the value23\n",
      "enter the value67\n",
      "enter the value54\n",
      "enter the value32\n",
      "['11', '34', '23', '67', '54', '32']\n"
     ]
    }
   ],
   "source": [
    "length=int(input(\"enter the length of list\"))\n",
    "list=[]\n",
    "while length>=1:\n",
    "\tvalue=input(\"enter the value\")\n",
    "\tlist.append(value)\n",
    "\tlength-=1\n",
    "print(list)"
   ]
  },
  {
   "cell_type": "code",
   "execution_count": 48,
   "id": "7d72a38a",
   "metadata": {},
   "outputs": [
    {
     "name": "stdout",
     "output_type": "stream",
     "text": [
      "[]\n"
     ]
    }
   ],
   "source": [
    "# making a list empty using clear() method.\n",
    "lst = [1,2,3,4,5]\n",
    "lst.clear()\n",
    "print(lst)"
   ]
  },
  {
   "cell_type": "code",
   "execution_count": 52,
   "id": "e8285229",
   "metadata": {},
   "outputs": [],
   "source": [
    "#sorting a list\n",
    "lst = [45,23,89,54,76,11,34,99,100,40]\n",
    "lst.sort(reverse = True)"
   ]
  },
  {
   "cell_type": "code",
   "execution_count": 53,
   "id": "498b8134",
   "metadata": {},
   "outputs": [
    {
     "name": "stdout",
     "output_type": "stream",
     "text": [
      "[100, 99, 89, 76, 54, 45, 40, 34, 23, 11]\n"
     ]
    }
   ],
   "source": [
    "print(lst)"
   ]
  },
  {
   "cell_type": "markdown",
   "id": "2e2a5d10",
   "metadata": {},
   "source": [
    "#index() - it will return the index of specified element in the list.\n",
    "if the value is not found it will raise value error. if any duplicates are\n",
    "present so it will give the index of first occuring value"
   ]
  },
  {
   "cell_type": "code",
   "execution_count": 57,
   "id": "41fd80da",
   "metadata": {},
   "outputs": [
    {
     "data": {
      "text/plain": [
       "0"
      ]
     },
     "execution_count": 57,
     "metadata": {},
     "output_type": "execute_result"
    }
   ],
   "source": [
    "lst = [45,23,89,54,76,11,34,99,100,40,23,89]\n",
    "lst.index(45)"
   ]
  },
  {
   "cell_type": "code",
   "execution_count": null,
   "id": "8c403298",
   "metadata": {},
   "outputs": [],
   "source": [
    "# palindrome.\n",
    "# write a program to check whether a given string is palindrome or not.                                             [23-05-2023]\n",
    "word = input(\"Enter any word you like: \")  \n",
    "def reverse_string(word):\n",
    "    s = \"\"\n",
    "    for i in word:\n",
    "        s = i + s\n",
    "    return s\n",
    "     \n",
    "\n",
    "op = reverse_string(word)\n",
    "if word == op:\n",
    "    print(\"The given string is a palindrome.\")\n",
    "else:\n",
    "    print(\"This is not a palindrome word.\")"
   ]
  },
  {
   "cell_type": "code",
   "execution_count": 58,
   "id": "f7cb8ece",
   "metadata": {
    "scrolled": true
   },
   "outputs": [
    {
     "name": "stdout",
     "output_type": "stream",
     "text": [
      "P\n",
      "yP\n",
      "tyP\n",
      "htyP\n",
      "ohtyP\n",
      "nohtyP\n"
     ]
    }
   ],
   "source": [
    "string = \"Python\"\n",
    "s = \"\" -- P -- yp -- typ -- htyp -- nohtyp -- \n",
    "for i in string:\n",
    "    s = i + s\n",
    "    print(s)\n",
    "    \n",
    "    "
   ]
  },
  {
   "cell_type": "code",
   "execution_count": null,
   "id": "518b0fb6",
   "metadata": {},
   "outputs": [],
   "source": [
    "word=input()\n",
    "word=word.casefold()\n",
    "reverse=word[::-1]\n",
    "if word==reverse:\n",
    "    print(\"word is palindrome\")\n",
    "else:\n",
    "    print(\"word is not palindrome\")"
   ]
  },
  {
   "cell_type": "code",
   "execution_count": null,
   "id": "6218b036",
   "metadata": {},
   "outputs": [],
   "source": [
    "# count of occurance of every char in string."
   ]
  }
 ],
 "metadata": {
  "kernelspec": {
   "display_name": "Python 3 (ipykernel)",
   "language": "python",
   "name": "python3"
  },
  "language_info": {
   "codemirror_mode": {
    "name": "ipython",
    "version": 3
   },
   "file_extension": ".py",
   "mimetype": "text/x-python",
   "name": "python",
   "nbconvert_exporter": "python",
   "pygments_lexer": "ipython3",
   "version": "3.9.13"
  }
 },
 "nbformat": 4,
 "nbformat_minor": 5
}

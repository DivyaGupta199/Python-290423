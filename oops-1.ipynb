{
 "cells": [
  {
   "cell_type": "code",
   "execution_count": null,
   "id": "847a07c7",
   "metadata": {},
   "outputs": [],
   "source": [
    "1. oops stands for object oriented programming.\n",
    "2. consists of objects. The object oriented programming divides the program into \n",
    "classes and objects.\n",
    "3. We use object oriented programming to make our code cleaner and less complex.\n",
    "4. we can have data security by use of encapsulation.\n",
    "5. DRY (Do not repeat yourself).\n",
    "6. The objects are builded with properties (variables) \n",
    "and behaviour (functions/methods)."
   ]
  },
  {
   "cell_type": "code",
   "execution_count": null,
   "id": "661b7f0f",
   "metadata": {},
   "outputs": [],
   "source": [
    "1. Procedural Programming.\n",
    "2. Functional Programming.\n",
    "3. Object oriented Programming.\n"
   ]
  },
  {
   "cell_type": "code",
   "execution_count": null,
   "id": "50356e82",
   "metadata": {},
   "outputs": [],
   "source": [
    "classes and objects"
   ]
  },
  {
   "cell_type": "code",
   "execution_count": null,
   "id": "f98260e0",
   "metadata": {},
   "outputs": [],
   "source": [
    "Class : Its a blue print or template.\n",
    "    It is a collection of objects.\n",
    "    It has class members : Attributes(variables) or behaviour(methods)\n",
    "        \n",
    "object : Instance of a class.\n",
    "        "
   ]
  },
  {
   "cell_type": "code",
   "execution_count": null,
   "id": "b8e0d254",
   "metadata": {},
   "outputs": [],
   "source": [
    "class calculator():\n",
    "    a = 10\n",
    "    b = 4 \n",
    "    \n",
    "    def add(a,b):\n",
    "        return a+b"
   ]
  },
  {
   "cell_type": "code",
   "execution_count": 8,
   "id": "971fade7",
   "metadata": {},
   "outputs": [
    {
     "name": "stdout",
     "output_type": "stream",
     "text": [
      "this is a behaviour of bike class\n",
      "Bajaj TVS Hero\n"
     ]
    }
   ],
   "source": [
    "class bike:\n",
    "    a = \"Bajaj\"\n",
    "    b = \"Duke\"\n",
    "    c = \"Hero\"\n",
    "#     here a,b and c are the attributees of bike class\n",
    "    def riding(self):\n",
    "        print(\"this is a behaviour of bike class\")\n",
    "# here riding() is the behaviour of bike class\n",
    "\n",
    "\n",
    "my_bike = bike()\n",
    "my_bike.riding()\n",
    "my_bike.b = \"TVS\"\n",
    "print(my_bike.a, my_bike.b, my_bike.c)\n"
   ]
  },
  {
   "cell_type": "code",
   "execution_count": 9,
   "id": "d4e7a79c",
   "metadata": {},
   "outputs": [
    {
     "data": {
      "text/plain": [
       "[1, 2, 3, 4, 5, 6]"
      ]
     },
     "execution_count": 9,
     "metadata": {},
     "output_type": "execute_result"
    }
   ],
   "source": [
    "lst1 = [1,2,3,4,5]\n",
    "lst1.append(6)\n",
    "lst1"
   ]
  },
  {
   "cell_type": "code",
   "execution_count": null,
   "id": "9d54eb72",
   "metadata": {},
   "outputs": [],
   "source": [
    "Class constructor :\n",
    "->    __init__():\n",
    "        pass\n",
    "    \n",
    "-> explicitly you don't have to call this method, It get's called at the time you create an object of that class.\n",
    "-> It is used for taking some parameters/variables at the time of making an object of class.\n",
    "-> self - It represents the instance of the class. by using this self keyword we can access the attributes and methods of class\n",
    "\n",
    "    "
   ]
  },
  {
   "cell_type": "code",
   "execution_count": null,
   "id": "23494eed",
   "metadata": {},
   "outputs": [],
   "source": [
    "class student_portal:\n",
    "    def __init__(self, email_id, password):\n",
    "        self.a = \"student_name\"\n",
    "        self.b = \"xyz\"\n",
    "    def abc(self):\n",
    "        print(\"abc method\")\n",
    "        \n",
    "    def abc1(self):\n",
    "        self.a\n",
    "        self.b\n",
    "   \n",
    "\n",
    "\n",
    "student1 = student_portal(abc@gmail.com,\"xyz\")\n",
    "student1.check_lectures()"
   ]
  },
  {
   "cell_type": "code",
   "execution_count": 10,
   "id": "9e1cf4a0",
   "metadata": {},
   "outputs": [],
   "source": [
    "class Mobile:\n",
    "    def __init__(self, brand_name, model , memory, RAM,camera):\n",
    "        self.brandName = brand_name\n",
    "        self.model = model\n",
    "        self.memory = memory\n",
    "        self.ram = RAM\n",
    "        self.camera = camera\n",
    "        \n",
    "    def display_details(self):\n",
    "        print(f\"The Brand of phone is {self.brandName} and its model is {self.model}. This phone has following features: {self.memory} memory, {self.ram} ram, {self.camera} camera\")\n",
    "        \n",
    "    def abc(self):\n",
    "        self.variable\n",
    "        self.display_details()\n",
    "    \n",
    "    def abc2(self):"
   ]
  },
  {
   "cell_type": "code",
   "execution_count": 12,
   "id": "41a75176",
   "metadata": {},
   "outputs": [
    {
     "data": {
      "text/plain": [
       "'vivo'"
      ]
     },
     "execution_count": 12,
     "metadata": {},
     "output_type": "execute_result"
    }
   ],
   "source": [
    "my_phone = Mobile(\"vivo\",\"21e\",\"128GB\",\"16GB\",\"60MP\")\n",
    "my_phone.brandName"
   ]
  },
  {
   "cell_type": "code",
   "execution_count": null,
   "id": "c8dacbcc",
   "metadata": {},
   "outputs": [],
   "source": [
    "1. Encapsulation - we can have data security by use of encapsulation.\n",
    "2. Inheritance - using the properties of one class into another class\n",
    "3. Polymorphism - A function in different forms.\n",
    "4. Abstraction - Hiding the information.\n"
   ]
  },
  {
   "cell_type": "code",
   "execution_count": null,
   "id": "25977f42",
   "metadata": {},
   "outputs": [],
   "source": []
  }
 ],
 "metadata": {
  "kernelspec": {
   "display_name": "Python 3 (ipykernel)",
   "language": "python",
   "name": "python3"
  },
  "language_info": {
   "codemirror_mode": {
    "name": "ipython",
    "version": 3
   },
   "file_extension": ".py",
   "mimetype": "text/x-python",
   "name": "python",
   "nbconvert_exporter": "python",
   "pygments_lexer": "ipython3",
   "version": "3.9.13"
  }
 },
 "nbformat": 4,
 "nbformat_minor": 5
}

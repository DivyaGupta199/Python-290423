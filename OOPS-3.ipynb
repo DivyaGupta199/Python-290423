{
 "cells": [
  {
   "cell_type": "code",
   "execution_count": null,
   "id": "2ae2308c",
   "metadata": {},
   "outputs": [],
   "source": [
    "Constructor : It is a special method in pythod.\n",
    "    constructor method :   __init__()\n",
    "    we donot have to call this method explicitly, it gets called as soon as the object of that class is made.\n",
    "    It is also used for initializing instance variables.\n",
    "    class constructor is optional.\n",
    "    atleast one parameter (self) is given.\n",
    "    "
   ]
  },
  {
   "cell_type": "code",
   "execution_count": null,
   "id": "d6630c26",
   "metadata": {},
   "outputs": [],
   "source": [
    "Methods : Method can be of any name.\n",
    "    methods does not get executed automatically, you need to call them explicitly.\n",
    "    method can be called multiple time for an object.\n",
    "    Inside methods we write the business logic.\n",
    "    it returns something."
   ]
  },
  {
   "cell_type": "code",
   "execution_count": null,
   "id": "54d79b8f",
   "metadata": {},
   "outputs": [],
   "source": [
    "self : we use self for refering to object of current class.\n",
    "    self is not a keyword.\n",
    "    self is a reference variable always pointing to current object.\n",
    "    the first argument of methods is self.\n",
    "    the main purpose of self variable within the class is to a declare instance variable and access them through out the class.\n",
    "    "
   ]
  },
  {
   "cell_type": "code",
   "execution_count": null,
   "id": "30171202",
   "metadata": {},
   "outputs": [],
   "source": [
    "Types of variables  : \n",
    "    1. Instance variable : when value of variable varies within the class we use instance variables.\n",
    "        --> we initialize the instance variables in the constructor ( __init__) method.\n",
    "    2. static variables : if the value of variable is not varied from obj to obj then we define it as a static variable.\n",
    "        \n",
    "    3. local variables : this variables are made to meet the temporary requirement of methods. this are also known as method\n",
    "        level variables. they are defined inside a method and their slope is limited to that method only.\n",
    "        \n",
    "    4. Global variables : The variables which are defined outside the class and functions are known as global variables.\n",
    "        they can be anywhere throughout the program."
   ]
  },
  {
   "cell_type": "code",
   "execution_count": null,
   "id": "995dc2fd",
   "metadata": {},
   "outputs": [],
   "source": []
  },
  {
   "cell_type": "code",
   "execution_count": null,
   "id": "6b87bc60",
   "metadata": {},
   "outputs": [],
   "source": [
    "Abstraction :- Hiding the unnecessary information from the user is called abstraction.\n",
    "    only essential details can be seen and unnecessary implementation is hidden.\n",
    "    \n",
    "Abstract class :- A class which has a abstract method\n",
    "Abstract mehod :- A method which has declaration but no implementation.\n",
    "concrete class :- A class which does not have any abstract method.\n",
    "    \n",
    "--> objects cannot be created or instantiated for the abstract class, it can only be created for concrete class."
   ]
  },
  {
   "cell_type": "code",
   "execution_count": null,
   "id": "4107c6cb",
   "metadata": {},
   "outputs": [],
   "source": [
    "An abstract class can be considered as a blueprint for other classes. It allows you to create a set of methods that \n",
    "must be created within any child classes built from the abstract classes. While we are designing large functional units we use \n",
    "an abstract class. when we want to provide a common interface for different implementation of a component, we use an abstract class.\n"
   ]
  },
  {
   "cell_type": "code",
   "execution_count": null,
   "id": "70b1e85a",
   "metadata": {},
   "outputs": [],
   "source": [
    "Why data abstraction is important ?\n",
    "--> Data abstraction saves a lot of our time as we dont have to repeat the code that may be same for all classes. moreover, \n",
    "if there are any additional features, they can be easily added. while working in large teams it becomes easier as one won't have\n",
    "to remember every function and the basic structure can be inherited without any confusions."
   ]
  },
  {
   "cell_type": "code",
   "execution_count": 4,
   "id": "3bc45812",
   "metadata": {},
   "outputs": [],
   "source": [
    "from abc import ABC, abstractclassmethod"
   ]
  },
  {
   "cell_type": "code",
   "execution_count": 1,
   "id": "bdd67e2d",
   "metadata": {},
   "outputs": [
    {
     "name": "stdout",
     "output_type": "stream",
     "text": [
      "Studying Object oriented programming\n"
     ]
    }
   ],
   "source": [
    "class my_class:\n",
    "    def study(self):\n",
    "        print(\"Studying Object oriented programming\")\n",
    "        \n",
    "obj = my_class()\n",
    "obj.study()"
   ]
  },
  {
   "cell_type": "code",
   "execution_count": 5,
   "id": "24c2a4ee",
   "metadata": {},
   "outputs": [
    {
     "ename": "TypeError",
     "evalue": "Can't instantiate abstract class my_abstract_class with abstract method practice",
     "output_type": "error",
     "traceback": [
      "\u001b[1;31m---------------------------------------------------------------------------\u001b[0m",
      "\u001b[1;31mTypeError\u001b[0m                                 Traceback (most recent call last)",
      "\u001b[1;32m~\\AppData\\Local\\Temp\\ipykernel_7928\\961560581.py\u001b[0m in \u001b[0;36m<module>\u001b[1;34m\u001b[0m\n\u001b[0;32m      7\u001b[0m         \u001b[1;32mpass\u001b[0m\u001b[1;33m\u001b[0m\u001b[1;33m\u001b[0m\u001b[0m\n\u001b[0;32m      8\u001b[0m \u001b[1;33m\u001b[0m\u001b[0m\n\u001b[1;32m----> 9\u001b[1;33m \u001b[0mobj\u001b[0m \u001b[1;33m=\u001b[0m \u001b[0mmy_abstract_class\u001b[0m\u001b[1;33m(\u001b[0m\u001b[1;33m)\u001b[0m\u001b[1;33m\u001b[0m\u001b[1;33m\u001b[0m\u001b[0m\n\u001b[0m",
      "\u001b[1;31mTypeError\u001b[0m: Can't instantiate abstract class my_abstract_class with abstract method practice"
     ]
    }
   ],
   "source": [
    "class my_abstract_class(ABC): #abstract class\n",
    "    def study(self):\n",
    "        print(\"studying Abstraction\")\n",
    "        \n",
    "    @abstractclassmethod    # decorator\n",
    "    def practice(self):     # abstract method which has only declaration but no implementation.\n",
    "        pass\n",
    "    \n",
    "obj = my_abstract_class()"
   ]
  },
  {
   "cell_type": "code",
   "execution_count": null,
   "id": "3a4884a1",
   "metadata": {},
   "outputs": [],
   "source": [
    "How to achieve abstraction :\n",
    "1. Inherit the ABC class for your base class that is abstract.\n",
    "2. create a method with no implementation and only declaration.\n",
    "3. use a @abstractclassmethod decorator to make your method as abstract method."
   ]
  },
  {
   "cell_type": "code",
   "execution_count": 6,
   "id": "c67847ab",
   "metadata": {},
   "outputs": [],
   "source": [
    "# Abstract class\n",
    "class datascience(ABC):\n",
    "    \n",
    "    @abstractclassmethod\n",
    "    def mock(self):\n",
    "        pass"
   ]
  },
  {
   "cell_type": "code",
   "execution_count": 7,
   "id": "c5e9d6ce",
   "metadata": {},
   "outputs": [
    {
     "name": "stdout",
     "output_type": "stream",
     "text": [
      "Doing mocks/tests to become a Data scientist\n"
     ]
    }
   ],
   "source": [
    "# Concrete class\n",
    "class student(datascience):\n",
    "    \n",
    "    def mock(self):\n",
    "        print(\"Doing mocks/tests to become a Data scientist\")\n",
    "        \n",
    "obj = student()\n",
    "obj.mock()"
   ]
  },
  {
   "cell_type": "code",
   "execution_count": 8,
   "id": "047848e4",
   "metadata": {},
   "outputs": [],
   "source": [
    "class animals(ABC):\n",
    "    def lion(self):     #concrete method\n",
    "        print(\"I am the king of forest\")\n",
    "        \n",
    "    @abstractclassmethod\n",
    "    def cat(self):\n",
    "        pass\n",
    "  "
   ]
  },
  {
   "cell_type": "code",
   "execution_count": 9,
   "id": "59b8602e",
   "metadata": {},
   "outputs": [],
   "source": [
    "class forest(animals):\n",
    "    def tiger(self):\n",
    "        print(\"This is tiger function\")\n",
    "        \n",
    "    def cat(self):\n",
    "        print(\"I am aunt of Lion\")\n",
    "        "
   ]
  },
  {
   "cell_type": "code",
   "execution_count": 10,
   "id": "2e6cce60",
   "metadata": {},
   "outputs": [
    {
     "name": "stdout",
     "output_type": "stream",
     "text": [
      "I am aunt of Lion\n"
     ]
    }
   ],
   "source": [
    "nilgiri = forest()\n",
    "nilgiri.cat()"
   ]
  },
  {
   "cell_type": "code",
   "execution_count": 13,
   "id": "57559e77",
   "metadata": {},
   "outputs": [
    {
     "name": "stdout",
     "output_type": "stream",
     "text": [
      "this is fun1 variable\n"
     ]
    }
   ],
   "source": [
    "a = 10   # global variable\n",
    "\n",
    "class practice:\n",
    "    my_variable = 0      #class variable or static variable\n",
    "    def __init__(self):\n",
    "        self.first_number  = 20   # instance variable\n",
    "        self.second_number = 10\n",
    "    \n",
    "    def fun1(self):\n",
    "        string = \"this is fun1 variable\"    #local variable\n",
    "        print(string)\n",
    "        \n",
    "    def fun2(self):\n",
    "        print(\"This is fun2\")\n",
    "        \n",
    "obj = practice()\n",
    "obj1 = practice()\n",
    "obj2 = practice()\n",
    "obj.fun1()"
   ]
  },
  {
   "cell_type": "code",
   "execution_count": null,
   "id": "99461a73",
   "metadata": {},
   "outputs": [],
   "source": []
  }
 ],
 "metadata": {
  "kernelspec": {
   "display_name": "Python 3 (ipykernel)",
   "language": "python",
   "name": "python3"
  },
  "language_info": {
   "codemirror_mode": {
    "name": "ipython",
    "version": 3
   },
   "file_extension": ".py",
   "mimetype": "text/x-python",
   "name": "python",
   "nbconvert_exporter": "python",
   "pygments_lexer": "ipython3",
   "version": "3.9.13"
  }
 },
 "nbformat": 4,
 "nbformat_minor": 5
}

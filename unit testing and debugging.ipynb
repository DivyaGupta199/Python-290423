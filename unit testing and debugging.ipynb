{
 "cells": [
  {
   "cell_type": "code",
   "execution_count": null,
   "id": "23193f92",
   "metadata": {},
   "outputs": [],
   "source": [
    "Testing : Testing is the process of checking the software/ program if it is working fine or not.\n",
    "    1. Manual testing -- done manually\n",
    "    2. Automation testing -- done with automation"
   ]
  },
  {
   "cell_type": "code",
   "execution_count": null,
   "id": "bf3b6361",
   "metadata": {},
   "outputs": [],
   "source": [
    "1. unit testing\n",
    "2. Integration testing"
   ]
  },
  {
   "cell_type": "code",
   "execution_count": null,
   "id": "05c1c17c",
   "metadata": {},
   "outputs": [],
   "source": [
    "Unit testing : It is a technique in which a piece of code or a module is tested by developer to check whether there are any\n",
    "    errors. here we take small portion of our program/ single unit to detect and fix the errors.\n",
    "python provides a module named unittest to test the code.    \n"
   ]
  },
  {
   "cell_type": "code",
   "execution_count": null,
   "id": "d0ce4902",
   "metadata": {},
   "outputs": [],
   "source": [
    "Integration testing : It is used to test the whole code after integrating all the small units."
   ]
  },
  {
   "cell_type": "code",
   "execution_count": null,
   "id": "cd77f669",
   "metadata": {},
   "outputs": [],
   "source": [
    "assert - assert is a keyword in python that is used to assert a given condition/criteria or a value.\n",
    "\n",
    "assert sum([2,3,1]) == 10, \"It Should be ten, try to give another values\""
   ]
  },
  {
   "cell_type": "code",
   "execution_count": 4,
   "id": "5bea12ac",
   "metadata": {},
   "outputs": [],
   "source": [
    "def prime_number(num):\n",
    "    if num==1:\n",
    "        return False\n",
    "    elif num==2:\n",
    "        return True\n",
    "    elif num>2:\n",
    "        status = 1\n",
    "        for i in range(2,num):\n",
    "            if num%i==0:\n",
    "                status = 0\n",
    "                return False\n",
    "            \n",
    "        if status==1:\n",
    "            return True"
   ]
  },
  {
   "cell_type": "code",
   "execution_count": 6,
   "id": "650abd8f",
   "metadata": {},
   "outputs": [
    {
     "data": {
      "text/plain": [
       "False"
      ]
     },
     "execution_count": 6,
     "metadata": {},
     "output_type": "execute_result"
    }
   ],
   "source": [
    "prime_number(4)"
   ]
  },
  {
   "cell_type": "code",
   "execution_count": 7,
   "id": "7ef25f36",
   "metadata": {},
   "outputs": [],
   "source": [
    "assert prime_number(11) == True, \"It is a prime number\""
   ]
  },
  {
   "cell_type": "code",
   "execution_count": 8,
   "id": "2a4607b5",
   "metadata": {},
   "outputs": [
    {
     "ename": "AssertionError",
     "evalue": "It is not a prime number",
     "output_type": "error",
     "traceback": [
      "\u001b[1;31m---------------------------------------------------------------------------\u001b[0m",
      "\u001b[1;31mAssertionError\u001b[0m                            Traceback (most recent call last)",
      "\u001b[1;32m~\\AppData\\Local\\Temp\\ipykernel_16748\\4240136038.py\u001b[0m in \u001b[0;36m<module>\u001b[1;34m\u001b[0m\n\u001b[1;32m----> 1\u001b[1;33m \u001b[1;32massert\u001b[0m \u001b[0mprime_number\u001b[0m\u001b[1;33m(\u001b[0m\u001b[1;36m12\u001b[0m\u001b[1;33m)\u001b[0m \u001b[1;33m==\u001b[0m \u001b[1;32mTrue\u001b[0m\u001b[1;33m,\u001b[0m \u001b[1;34m\"It is not a prime number\"\u001b[0m\u001b[1;33m\u001b[0m\u001b[1;33m\u001b[0m\u001b[0m\n\u001b[0m",
      "\u001b[1;31mAssertionError\u001b[0m: It is not a prime number"
     ]
    }
   ],
   "source": [
    "assert prime_number(12) == True, \"It is not a prime number\""
   ]
  },
  {
   "cell_type": "code",
   "execution_count": null,
   "id": "b04a52da",
   "metadata": {},
   "outputs": [],
   "source": [
    "def read_file(filename):\n",
    "    with open(filename,\"r\") as file:\n",
    "        data = file.read()\n",
    "    return data\n",
    "        \n",
    "    \n",
    "# read_file(\"data.txt\")\n",
    "assert read_file(\"data.txt\") == \"python class\" , \"data not matching the content of file\""
   ]
  },
  {
   "cell_type": "code",
   "execution_count": null,
   "id": "c423c19b",
   "metadata": {},
   "outputs": [],
   "source": [
    "# syntax : \n",
    "# assert condition , assertion_error"
   ]
  },
  {
   "cell_type": "code",
   "execution_count": null,
   "id": "ca85ea82",
   "metadata": {},
   "outputs": [],
   "source": [
    "unittest module in python : It is a builtin module in python, It helps the developer to test single unit of program and check\n",
    "    the functionality. there are some requirements of the unittest to write and execute the code.\n",
    "1. The test code must be written in object oriented programming (using classes and functions)\n",
    "2. there is a testcase class for testing the code.\n",
    "3. the code which you want to test should be return either in functional programming or in object oriented programming."
   ]
  },
  {
   "cell_type": "code",
   "execution_count": 11,
   "id": "6a094ae6",
   "metadata": {},
   "outputs": [],
   "source": [
    "import unittest"
   ]
  },
  {
   "cell_type": "code",
   "execution_count": 9,
   "id": "7f2a53e8",
   "metadata": {},
   "outputs": [
    {
     "data": {
      "text/plain": [
       "15"
      ]
     },
     "execution_count": 9,
     "metadata": {},
     "output_type": "execute_result"
    }
   ],
   "source": [
    "class add:\n",
    "    def sum(self,a,b,c):\n",
    "        return a+b+c\n",
    "    \n",
    "    \n",
    "obj = add()\n",
    "obj.sum(4,5,6)\n",
    "        \n"
   ]
  },
  {
   "cell_type": "code",
   "execution_count": null,
   "id": "0581fd75",
   "metadata": {},
   "outputs": [],
   "source": [
    "import add\n",
    "\n",
    "obj = add.addsum()\n",
    "\n",
    "from add import addsum\n",
    "\n",
    "obj = addsum()"
   ]
  },
  {
   "cell_type": "code",
   "execution_count": 13,
   "id": "85d2525a",
   "metadata": {},
   "outputs": [
    {
     "name": "stderr",
     "output_type": "stream",
     "text": [
      "\n",
      "----------------------------------------------------------------------\n",
      "Ran 0 tests in 0.000s\n",
      "\n",
      "OK\n"
     ]
    }
   ],
   "source": [
    "# import unittest\n",
    "\n",
    "class checksum(unittest.TestCase) :\n",
    "    \n",
    "    def check(self):\n",
    "        obj = add()\n",
    "        addition = obj.sum(4,5,6)\n",
    "        self.assertEqual(addition, 15)\n",
    "        \n",
    "        \n",
    "if __name__ == \"__main__\":\n",
    "    unittest.main(argv = ['ignored'], exit = False)"
   ]
  },
  {
   "cell_type": "code",
   "execution_count": 14,
   "id": "dfcf8c45",
   "metadata": {},
   "outputs": [
    {
     "name": "stderr",
     "output_type": "stream",
     "text": [
      "E\n",
      "======================================================================\n",
      "ERROR: C:\\Users\\divya (unittest.loader._FailedTest)\n",
      "----------------------------------------------------------------------\n",
      "AttributeError: module '__main__' has no attribute 'C:\\Users\\divya'\n",
      "\n",
      "----------------------------------------------------------------------\n",
      "Ran 1 test in 0.001s\n",
      "\n",
      "FAILED (errors=1)\n"
     ]
    },
    {
     "ename": "SystemExit",
     "evalue": "True",
     "output_type": "error",
     "traceback": [
      "An exception has occurred, use %tb to see the full traceback.\n",
      "\u001b[1;31mSystemExit\u001b[0m\u001b[1;31m:\u001b[0m True\n"
     ]
    },
    {
     "name": "stderr",
     "output_type": "stream",
     "text": [
      "C:\\ProgramData\\Anaconda3\\lib\\site-packages\\IPython\\core\\interactiveshell.py:3465: UserWarning: To exit: use 'exit', 'quit', or Ctrl-D.\n",
      "  warn(\"To exit: use 'exit', 'quit', or Ctrl-D.\", stacklevel=1)\n"
     ]
    }
   ],
   "source": [
    "import unittest\n",
    "\n",
    "class checksum(unittest.TestCase) :\n",
    "    \n",
    "    def check(self):\n",
    "        obj = add()\n",
    "        addition = obj.sum(4,5,6)\n",
    "#         assert addition==15, \"sum is not matching\"\n",
    "\n",
    "        self.assertEqual(addition, 15)\n",
    "    \n",
    "if __name__ == '__main__':\n",
    "    unittest.main()\n",
    "    \n",
    "    \n",
    "\n"
   ]
  },
  {
   "cell_type": "code",
   "execution_count": null,
   "id": "d159acda",
   "metadata": {},
   "outputs": [],
   "source": [
    "unittest.TestCase"
   ]
  },
  {
   "cell_type": "code",
   "execution_count": null,
   "id": "711e2ca0",
   "metadata": {},
   "outputs": [],
   "source": [
    "# Unittest module produce three outcomes.\n",
    "1. OK - the test case is passed\n",
    "2. Failure - It will raise an assetion error, if test case is failed.\n",
    "3. Error - If any error occur instead of assertion error"
   ]
  },
  {
   "cell_type": "code",
   "execution_count": 12,
   "id": "f0862571",
   "metadata": {},
   "outputs": [],
   "source": [
    "class code:\n",
    "    def __init__(self):\n",
    "        pass\n",
    "        \n",
    "    def valid(self,name, number):\n",
    "        if name.isalpha() and number.isdigit() and len(self.number) == 10:\n",
    "            return True\n",
    "        else:\n",
    "            return False\n",
    "                   "
   ]
  },
  {
   "cell_type": "code",
   "execution_count": 18,
   "id": "009db0da",
   "metadata": {},
   "outputs": [
    {
     "ename": "TypeError",
     "evalue": "'code' object is not callable",
     "output_type": "error",
     "traceback": [
      "\u001b[1;31m---------------------------------------------------------------------------\u001b[0m",
      "\u001b[1;31mTypeError\u001b[0m                                 Traceback (most recent call last)",
      "\u001b[1;32m~\\AppData\\Local\\Temp\\ipykernel_3332\\2904785669.py\u001b[0m in \u001b[0;36m<module>\u001b[1;34m\u001b[0m\n\u001b[0;32m     14\u001b[0m \u001b[1;33m\u001b[0m\u001b[0m\n\u001b[0;32m     15\u001b[0m \u001b[0mobj\u001b[0m \u001b[1;33m=\u001b[0m \u001b[0mtestcase\u001b[0m\u001b[1;33m(\u001b[0m\u001b[1;33m)\u001b[0m\u001b[1;33m\u001b[0m\u001b[1;33m\u001b[0m\u001b[0m\n\u001b[1;32m---> 16\u001b[1;33m \u001b[0mobj\u001b[0m\u001b[1;33m.\u001b[0m\u001b[0mtest\u001b[0m\u001b[1;33m(\u001b[0m\u001b[1;33m)\u001b[0m\u001b[1;33m\u001b[0m\u001b[1;33m\u001b[0m\u001b[0m\n\u001b[0m",
      "\u001b[1;32m~\\AppData\\Local\\Temp\\ipykernel_3332\\2904785669.py\u001b[0m in \u001b[0;36mtest\u001b[1;34m(self)\u001b[0m\n\u001b[0;32m     10\u001b[0m \u001b[1;31m#         testcase.code_class_obj(name,number)\u001b[0m\u001b[1;33m\u001b[0m\u001b[1;33m\u001b[0m\u001b[0m\n\u001b[0;32m     11\u001b[0m \u001b[1;33m\u001b[0m\u001b[0m\n\u001b[1;32m---> 12\u001b[1;33m         \u001b[0mself\u001b[0m\u001b[1;33m.\u001b[0m\u001b[0massertEqual\u001b[0m\u001b[1;33m(\u001b[0m\u001b[1;32mFalse\u001b[0m\u001b[1;33m,\u001b[0m\u001b[0mtestcase\u001b[0m\u001b[1;33m.\u001b[0m\u001b[0mcode_class_obj\u001b[0m\u001b[1;33m(\u001b[0m\u001b[0mname\u001b[0m\u001b[1;33m,\u001b[0m\u001b[0mnumber\u001b[0m\u001b[1;33m)\u001b[0m\u001b[1;33m)\u001b[0m\u001b[1;33m\u001b[0m\u001b[1;33m\u001b[0m\u001b[0m\n\u001b[0m\u001b[0;32m     13\u001b[0m \u001b[1;33m\u001b[0m\u001b[0m\n\u001b[0;32m     14\u001b[0m \u001b[1;33m\u001b[0m\u001b[0m\n",
      "\u001b[1;31mTypeError\u001b[0m: 'code' object is not callable"
     ]
    }
   ],
   "source": [
    "class testcase(unittest.TestCase):\n",
    "    code_class_obj = code()\n",
    "    \n",
    "    def __init__(self):\n",
    "        pass\n",
    "    \n",
    "    def test(self):\n",
    "        name = \"johny123\"\n",
    "        number = \"12345\"\n",
    "#         testcase.code_class_obj(name,number)\n",
    "        \n",
    "        self.assertEqual(False,testcase.code_class_obj(name,number))\n",
    "        \n",
    "\n",
    "obj = testcase()\n",
    "obj.test()"
   ]
  },
  {
   "cell_type": "code",
   "execution_count": null,
   "id": "79784355",
   "metadata": {},
   "outputs": [],
   "source": []
  },
  {
   "cell_type": "code",
   "execution_count": 20,
   "id": "6d1a0a30",
   "metadata": {},
   "outputs": [
    {
     "name": "stderr",
     "output_type": "stream",
     "text": [
      "E\n",
      "======================================================================\n",
      "ERROR: C:\\Users\\divya (unittest.loader._FailedTest)\n",
      "----------------------------------------------------------------------\n",
      "AttributeError: module '__main__' has no attribute 'C:\\Users\\divya'\n",
      "\n",
      "----------------------------------------------------------------------\n",
      "Ran 1 test in 0.001s\n",
      "\n",
      "FAILED (errors=1)\n"
     ]
    },
    {
     "ename": "SystemExit",
     "evalue": "True",
     "output_type": "error",
     "traceback": [
      "An exception has occurred, use %tb to see the full traceback.\n",
      "\u001b[1;31mSystemExit\u001b[0m\u001b[1;31m:\u001b[0m True\n"
     ]
    },
    {
     "name": "stderr",
     "output_type": "stream",
     "text": [
      "C:\\ProgramData\\Anaconda3\\lib\\site-packages\\IPython\\core\\interactiveshell.py:3465: UserWarning: To exit: use 'exit', 'quit', or Ctrl-D.\n",
      "  warn(\"To exit: use 'exit', 'quit', or Ctrl-D.\", stacklevel=1)\n"
     ]
    }
   ],
   "source": [
    "class checksum(unittest.TestCase):\n",
    "    def sum(self):\n",
    "        numbers = [1,2,3,4,5]\n",
    "        sum_ = 0\n",
    "        for i in numbers:\n",
    "            sum_+=i\n",
    "            \n",
    "        self.assertEqual(sum_, 20)\n",
    "        \n",
    "if __name__ == \"__main__\":    \n",
    "    unittest.main()"
   ]
  },
  {
   "cell_type": "code",
   "execution_count": null,
   "id": "05b76815",
   "metadata": {},
   "outputs": [],
   "source": []
  }
 ],
 "metadata": {
  "kernelspec": {
   "display_name": "Python 3 (ipykernel)",
   "language": "python",
   "name": "python3"
  },
  "language_info": {
   "codemirror_mode": {
    "name": "ipython",
    "version": 3
   },
   "file_extension": ".py",
   "mimetype": "text/x-python",
   "name": "python",
   "nbconvert_exporter": "python",
   "pygments_lexer": "ipython3",
   "version": "3.9.13"
  }
 },
 "nbformat": 4,
 "nbformat_minor": 5
}

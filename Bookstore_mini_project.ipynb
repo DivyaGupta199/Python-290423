{
 "cells": [
  {
   "cell_type": "code",
   "execution_count": 10,
   "id": "c3f010fc",
   "metadata": {},
   "outputs": [],
   "source": [
    "class bookstore:\n",
    "    def __init__(self , user_id, password):\n",
    "        self.id = 1\n",
    "        self.user_id = user_id\n",
    "        self.password = password\n",
    "        self.all_books = {}\n",
    "        self.book = {}\n",
    "        if self.user_id == \"admin\" and self.password == \"admin@123\":\n",
    "            print(\"------------Hi admin, Welcome to the Book store Application------------\")\n",
    "            \n",
    "        else:\n",
    "            print(\"-----------Incorrect Login Details-------------\")\n",
    "            \n",
    "            \n",
    "    def __repr__(self):\n",
    "        if self.user_id == \"admin\" and self.password == \"admin@123\":\n",
    "            return \"true\"                \n",
    "        else:\n",
    "            return \"false\"\n",
    "            \n",
    "    def display_books(self):\n",
    "        print(\"---------Book list----------\")\n",
    "        for k,v in self.all_books.items():\n",
    "            print(k,\"----->\",v)\n",
    "            \n",
    "    def add_book(self,book_name ,author,publisher, price, stock):\n",
    "        self.book[\"Book\"] = book_name\n",
    "        self.book[\"Author\"] = author\n",
    "        self.book[\"publisher\"] = publisher\n",
    "        self.book[\"price\"] = price\n",
    "        self.book[\"stock\"] = stock\n",
    "        while True:\n",
    "            if self.id not in self.all_books.keys():\n",
    "                self.all_books[self.id] = self.book\n",
    "                print(\"Book added successfully!\")\n",
    "                break         \n",
    "            else:\n",
    "                self.id+=1\n",
    "        \n",
    "    def update_book(self, id , parameter , new_value):\n",
    "        if id in self.all_books.keys():\n",
    "            self.book_details = self.all_books[id]\n",
    "            if parameter in self.book_details.keys():\n",
    "                self.book_details[parameter] = new_value\n",
    "                self.all_books[id] = self.book_details\n",
    "                print(\"Book updated successfully!\")\n",
    "            else:\n",
    "                print(\"This is not a valid parameter\")\n",
    "        \n",
    "        else:\n",
    "            print(\"ID not found\")\n",
    "        \n",
    "    \n",
    "    def delete_book(self, id):\n",
    "        if id in self.all_books.keys():\n",
    "            del self.all_books[id]\n",
    "            print(\"Book removed from the store successfully!\")\n",
    "        else:\n",
    "            print(\"ID is not found\")\n",
    "            "
   ]
  },
  {
   "cell_type": "code",
   "execution_count": 11,
   "id": "0aa38aef",
   "metadata": {},
   "outputs": [
    {
     "name": "stdout",
     "output_type": "stream",
     "text": [
      "------------Hi admin, Welcome to the Book store Application------------\n"
     ]
    }
   ],
   "source": [
    "def execute():\n",
    "    store = bookstore(\"admin\",\"admin@123\")\n",
    "    if store == \"true\":\n",
    "        choice = int(input(\"Enter 1. To add a book\\n Enter 2. To update a book\\n Enter 3. To delete a book\\n Enter 4. To display a book\"))\n",
    "        if choice == 1:\n",
    "            book_name = input(\"Enter the book name\")\n",
    "            author = input(\"Enter author name\")\n",
    "            publisher = input (\"Enter publisher name\")\n",
    "            price = int(input(\"Enter price of book\"))\n",
    "            stock = int(input(\"Enter the quantity\"))\n",
    "            store.add_book(book_name, author, publisher,price,stock)\n",
    "\n",
    "        elif choice==2:\n",
    "            pass\n",
    "\n",
    "        elif choice==3:\n",
    "            pass\n",
    "\n",
    "        elif choice==4:\n",
    "            pass\n",
    "\n",
    "        else:\n",
    "            print(\"Not a valid option\")\n",
    "            \n",
    "    else:\n",
    "        print(\"Exit, Wrong user details\")"
   ]
  },
  {
   "cell_type": "code",
   "execution_count": null,
   "id": "670dc99a",
   "metadata": {},
   "outputs": [],
   "source": []
  }
 ],
 "metadata": {
  "kernelspec": {
   "display_name": "Python 3 (ipykernel)",
   "language": "python",
   "name": "python3"
  },
  "language_info": {
   "codemirror_mode": {
    "name": "ipython",
    "version": 3
   },
   "file_extension": ".py",
   "mimetype": "text/x-python",
   "name": "python",
   "nbconvert_exporter": "python",
   "pygments_lexer": "ipython3",
   "version": "3.9.13"
  }
 },
 "nbformat": 4,
 "nbformat_minor": 5
}

{
 "cells": [
  {
   "cell_type": "code",
   "execution_count": null,
   "id": "3fcc3e28",
   "metadata": {},
   "outputs": [],
   "source": [
    "# Mini project on book store  : An application for management of book stock in book store.\n",
    "1. # admin login\n",
    "2. #display books\n",
    "3. #add book\n",
    "4. #delete book\n",
    "5. #update book\n"
   ]
  },
  {
   "cell_type": "code",
   "execution_count": null,
   "id": "cc9c76af",
   "metadata": {},
   "outputs": [],
   "source": [
    "book id\n",
    "book name\n",
    "book price\n",
    "book author\n",
    "book publisher\n",
    "stock \n",
    "\n",
    "{\n",
    "book_id : \"id\",\n",
    "book_name : \" name\",\n",
    "book_price : \"price\",\n",
    "book_author : \"author_name\",\n",
    "book_publisher : \"publisher\",\n",
    "stock : \"quantity\"\n",
    "}"
   ]
  },
  {
   "cell_type": "code",
   "execution_count": null,
   "id": "bfd83f21",
   "metadata": {},
   "outputs": [],
   "source": [
    "{\n",
    "   1 : {\n",
    "       book_id : \"id\",\n",
    "book_name : \" name\",\n",
    "book_price : \"price\",\n",
    "book_author : \"author_name\",\n",
    "book_publisher : \"publisher\",\n",
    "stock : \"quantity\"\n",
    "   },\n",
    "    \n",
    "    2 : {  book_id : \"id\",\n",
    "book_name : \" name\",\n",
    "book_price : \"price\",\n",
    "book_author : \"author_name\",\n",
    "book_publisher : \"publisher\",\n",
    "stock : \"quantity\"\n",
    "} ,\n",
    "    3 : {  book_id : \"id\",\n",
    "book_name : \" name\",\n",
    "book_price : \"price\",\n",
    "book_author : \"author_name\",\n",
    "book_publisher : \"publisher\",\n",
    "stock : \"quantity\"\n",
    "} \n",
    "\n",
    "}"
   ]
  },
  {
   "cell_type": "code",
   "execution_count": 10,
   "id": "7ca1500b",
   "metadata": {},
   "outputs": [],
   "source": [
    "# \"admin\" \n",
    "# \"admin@123\"\n",
    "\n",
    "class bookstore:\n",
    "    def __init__(self , user_id, password):\n",
    "        self.data = {}\n",
    "        try: \n",
    "            with open(\"books.txt\",\"r\") as file:\n",
    "                self.data = file.read()\n",
    "        except:\n",
    "            print(\"File not found\")\n",
    "        self.id = 1\n",
    "        self.user_id = user_id\n",
    "        self.password = password\n",
    "        if len(self.data) > 2:\n",
    "            self.all_books = dict(self.data)\n",
    "        else:\n",
    "            self.all_books = {}\n",
    "        self.book = {}\n",
    "        if self.user_id == \"admin\" and self.password == \"admin@123\":\n",
    "            print(\"------------Hi admin, Welcome to the Book store Application------------\")\n",
    "            \n",
    "        else:\n",
    "            print(\"-----------Incorrect Login Details-------------\")\n",
    "            \n",
    "            \n",
    "    def __repr__(self):\n",
    "        if self.user_id == \"admin\" and self.password == \"admin@123\":\n",
    "            return \"true\"                \n",
    "        else:\n",
    "            return \"false\"\n",
    "            \n",
    "    def display_books(self):\n",
    "        print(\"---------Book list----------\")\n",
    "        for k,v in self.all_books.items():\n",
    "            print(k,\"----->\",v)\n",
    "            \n",
    "    def add_book(self,book_name ,author,publisher, price, stock):\n",
    "        self.book[\"Book\"] = book_name\n",
    "        self.book[\"Author\"] = author\n",
    "        self.book[\"publisher\"] = publisher\n",
    "        self.book[\"price\"] = price\n",
    "        self.book[\"stock\"] = stock\n",
    "        while True:\n",
    "            if self.id not in self.all_books.keys():\n",
    "                self.all_books[self.id] = self.book\n",
    "                with open(\"books.txt\",\"w\") as file:\n",
    "                    file.write(str(self.all_books))\n",
    "                    print(\"Book added successfully!\")\n",
    "                break         \n",
    "            else:\n",
    "                self.id+=1\n",
    "        \n",
    "    def update_book(self, id , parameter , new_value):\n",
    "        if id in self.all_books.keys():\n",
    "            self.book_details = self.all_books[id]\n",
    "            if parameter in self.book_details.keys():\n",
    "                self.book_details[parameter] = new_value\n",
    "                self.all_books[id] = self.book_details\n",
    "                with open(\"books.txt\",\"w\") as file:\n",
    "                    file.write(str(self.all_books))\n",
    "                print(\"Book updated successfully!\")\n",
    "            else:\n",
    "                print(\"This is not a valid parameter\")\n",
    "        \n",
    "        else:\n",
    "            print(\"ID not found\")\n",
    "        \n",
    "    \n",
    "    def delete_book(self, id):\n",
    "        if id in self.all_books.keys():\n",
    "            del self.all_books[id]\n",
    "            print(\"Book removed from the store successfully!\")\n",
    "        else:\n",
    "            print(\"ID is not found\")\n",
    "            "
   ]
  },
  {
   "cell_type": "code",
   "execution_count": 11,
   "id": "40a8d25b",
   "metadata": {},
   "outputs": [
    {
     "name": "stdout",
     "output_type": "stream",
     "text": [
      "-----------Incorrect Login Details-------------\n"
     ]
    }
   ],
   "source": [
    "store = bookstore(\"adm\", \"admin@1\")\n"
   ]
  },
  {
   "cell_type": "code",
   "execution_count": null,
   "id": "0558200a",
   "metadata": {},
   "outputs": [],
   "source": [
    "store.display_books()"
   ]
  },
  {
   "cell_type": "code",
   "execution_count": null,
   "id": "b496eddd",
   "metadata": {},
   "outputs": [],
   "source": [
    "store.update_book(1, \"price\" , 180)"
   ]
  },
  {
   "cell_type": "code",
   "execution_count": 12,
   "id": "833c9e3a",
   "metadata": {},
   "outputs": [
    {
     "name": "stdout",
     "output_type": "stream",
     "text": [
      "Book added successfully!\n"
     ]
    }
   ],
   "source": [
    "store.add_book(\"The motorcycle diaries\", \"Aleida Guevara\", \"Fourth estate\" , 150 , 15)"
   ]
  },
  {
   "cell_type": "code",
   "execution_count": null,
   "id": "7a82f6f5",
   "metadata": {},
   "outputs": [],
   "source": [
    "store.delete_book(1)"
   ]
  },
  {
   "cell_type": "code",
   "execution_count": null,
   "id": "1539a0b4",
   "metadata": {},
   "outputs": [],
   "source": []
  }
 ],
 "metadata": {
  "kernelspec": {
   "display_name": "Python 3 (ipykernel)",
   "language": "python",
   "name": "python3"
  },
  "language_info": {
   "codemirror_mode": {
    "name": "ipython",
    "version": 3
   },
   "file_extension": ".py",
   "mimetype": "text/x-python",
   "name": "python",
   "nbconvert_exporter": "python",
   "pygments_lexer": "ipython3",
   "version": "3.9.13"
  }
 },
 "nbformat": 4,
 "nbformat_minor": 5
}

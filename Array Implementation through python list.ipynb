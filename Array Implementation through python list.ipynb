{
 "cells": [
  {
   "cell_type": "code",
   "execution_count": 83,
   "id": "bc3d08e3",
   "metadata": {},
   "outputs": [],
   "source": [
    "class Array:\n",
    "    def __init__(self, length):\n",
    "        self.array = []\n",
    "        self.size = 0\n",
    "        self.maxlength = length \n",
    "        \n",
    "    def add_element(self, new):\n",
    "        if self.size < self.maxlength:\n",
    "            if self.size>0:\n",
    "                if type(new) == type(self.array[0]):\n",
    "                    self.array.append(new)\n",
    "                    self.size+=1\n",
    "                    \n",
    "                else:\n",
    "                    print(\"Data types not Matching\")\n",
    "                    \n",
    "            else:\n",
    "                self.array.append(new)\n",
    "                self.size+=1\n",
    "             \n",
    "        else:\n",
    "            print(\"Array is Full\")\n",
    "                 \n",
    "    \n",
    "    def remove_element(self, index):\n",
    "        if self.size == 0:\n",
    "            print(\"Array is Empty\")\n",
    "            \n",
    "        elif index+1 > self.size:\n",
    "            print(\"Index out of range\")\n",
    "            \n",
    "        elif index == self.size-1:\n",
    "            self.array.pop()\n",
    "            self.size-=1\n",
    "        else:\n",
    "            for i in range(index, self.size-1):\n",
    "                self.array[i] = self.array[i+1]\n",
    "            self.array.pop()\n",
    "                \n",
    "    \n",
    "    def display_array(self):\n",
    "        print(self.array)\n",
    "    "
   ]
  },
  {
   "cell_type": "code",
   "execution_count": 84,
   "id": "a6a9582e",
   "metadata": {},
   "outputs": [],
   "source": [
    "array = Array(10)"
   ]
  },
  {
   "cell_type": "code",
   "execution_count": 97,
   "id": "c920f9f5",
   "metadata": {},
   "outputs": [],
   "source": [
    "array.add_element(27)"
   ]
  },
  {
   "cell_type": "code",
   "execution_count": 100,
   "id": "69a8ef62",
   "metadata": {},
   "outputs": [
    {
     "name": "stdout",
     "output_type": "stream",
     "text": [
      "[12, 15, 22, 25, 27]\n"
     ]
    }
   ],
   "source": [
    "array.display_array()"
   ]
  },
  {
   "cell_type": "code",
   "execution_count": 99,
   "id": "6ab13f86",
   "metadata": {},
   "outputs": [],
   "source": [
    "array.remove_element(2)"
   ]
  },
  {
   "cell_type": "code",
   "execution_count": null,
   "id": "9aaf85a3",
   "metadata": {},
   "outputs": [],
   "source": []
  }
 ],
 "metadata": {
  "kernelspec": {
   "display_name": "Python 3 (ipykernel)",
   "language": "python",
   "name": "python3"
  },
  "language_info": {
   "codemirror_mode": {
    "name": "ipython",
    "version": 3
   },
   "file_extension": ".py",
   "mimetype": "text/x-python",
   "name": "python",
   "nbconvert_exporter": "python",
   "pygments_lexer": "ipython3",
   "version": "3.9.13"
  }
 },
 "nbformat": 4,
 "nbformat_minor": 5
}

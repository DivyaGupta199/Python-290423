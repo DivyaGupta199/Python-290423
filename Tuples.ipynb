{
 "cells": [
  {
   "cell_type": "code",
   "execution_count": 3,
   "id": "9c376e9c",
   "metadata": {},
   "outputs": [
    {
     "name": "stdout",
     "output_type": "stream",
     "text": [
      "not a palindrome\n"
     ]
    }
   ],
   "source": [
    "#write a program to check whether a given string is palindrome or nor\n",
    "n =\"python\"\n",
    "def reverse_string(n):\n",
    "    reverse = n[::-1]\n",
    "    if n==reverse:\n",
    "        print(\" it is a palindrome\")\n",
    "    else:\n",
    "        print(\"not a palindrome\")\n",
    "        \n",
    "reverse_string(n)"
   ]
  },
  {
   "cell_type": "markdown",
   "id": "e991d63c",
   "metadata": {},
   "source": [
    "Tuple :\n",
    "    ->> It is a sequencial datatype used to store collection of heterogenous elements.\n",
    "    ->> It is ordered hence we can do indexing and slicing.\n",
    "    ->> It is immutable means it cannot be changed.\n",
    "    ->> It is used for data security.\n",
    "    ->> tuples allow duplicate values. \n",
    "    ->> tuples are faster than a list because there is no manipulation."
   ]
  },
  {
   "cell_type": "code",
   "execution_count": 9,
   "id": "1ddcba11",
   "metadata": {},
   "outputs": [
    {
     "name": "stdout",
     "output_type": "stream",
     "text": [
      "<class 'tuple'>\n",
      "()\n"
     ]
    }
   ],
   "source": [
    "# Defining a tuple\n",
    "tupple = (2,)  #using paranthesis\n",
    "tupple_2 = tuple(('a',2,4.0,[2,3,4,5],True))    #using constructor\n",
    "tupple_2\n",
    "tupple_3 = tuple()\n",
    "print(type(tupple_3))     #creating an empty tuple\n",
    "print(tupple_3)"
   ]
  },
  {
   "cell_type": "code",
   "execution_count": 10,
   "id": "3bc8e5e3",
   "metadata": {},
   "outputs": [],
   "source": [
    "tupple_2[3][2] = 'tuple'"
   ]
  },
  {
   "cell_type": "code",
   "execution_count": 11,
   "id": "24a0ed9a",
   "metadata": {},
   "outputs": [
    {
     "name": "stdout",
     "output_type": "stream",
     "text": [
      "('a', 2, 4.0, [2, 3, 'tuple', 5], True)\n"
     ]
    }
   ],
   "source": [
    "print(tupple_2)"
   ]
  },
  {
   "cell_type": "code",
   "execution_count": 12,
   "id": "d8514f0a",
   "metadata": {},
   "outputs": [
    {
     "ename": "TypeError",
     "evalue": "'tuple' object does not support item assignment",
     "output_type": "error",
     "traceback": [
      "\u001b[1;31m---------------------------------------------------------------------------\u001b[0m",
      "\u001b[1;31mTypeError\u001b[0m                                 Traceback (most recent call last)",
      "\u001b[1;32m~\\AppData\\Local\\Temp\\ipykernel_16688\\1134578692.py\u001b[0m in \u001b[0;36m<module>\u001b[1;34m\u001b[0m\n\u001b[1;32m----> 1\u001b[1;33m \u001b[0mtupple\u001b[0m\u001b[1;33m[\u001b[0m\u001b[1;36m2\u001b[0m\u001b[1;33m]\u001b[0m \u001b[1;33m=\u001b[0m \u001b[1;34m'modify'\u001b[0m\u001b[1;33m\u001b[0m\u001b[1;33m\u001b[0m\u001b[0m\n\u001b[0m",
      "\u001b[1;31mTypeError\u001b[0m: 'tuple' object does not support item assignment"
     ]
    }
   ],
   "source": [
    "tupple[2] = 'modify'"
   ]
  },
  {
   "cell_type": "code",
   "execution_count": 14,
   "id": "01361ccd",
   "metadata": {},
   "outputs": [
    {
     "data": {
      "text/plain": [
       "True"
      ]
     },
     "execution_count": 14,
     "metadata": {},
     "output_type": "execute_result"
    }
   ],
   "source": [
    "# slicing:\n",
    "# tupple_2[1:4]\n",
    "tupple_2[-1]"
   ]
  },
  {
   "cell_type": "code",
   "execution_count": 15,
   "id": "77f30695",
   "metadata": {},
   "outputs": [],
   "source": [
    "# deleting a tuple\n",
    "del tupple_2\n",
    "tupple_2"
   ]
  },
  {
   "cell_type": "markdown",
   "id": "185c91a1",
   "metadata": {},
   "source": [
    "Access tupple element : we can use index [] for accessing an item in tuple, where the index starts from 0. we can also use negative indexing for accessing elements from right to left. negative indexing starts with -1. "
   ]
  },
  {
   "cell_type": "code",
   "execution_count": 17,
   "id": "a3324e4c",
   "metadata": {},
   "outputs": [],
   "source": [
    "tupple_2 = (1,2,('a','b'),((2,3,4),10.0))"
   ]
  },
  {
   "cell_type": "code",
   "execution_count": 19,
   "id": "ac8fb7ad",
   "metadata": {},
   "outputs": [
    {
     "data": {
      "text/plain": [
       "3"
      ]
     },
     "execution_count": 19,
     "metadata": {},
     "output_type": "execute_result"
    }
   ],
   "source": [
    "tupple_2[3][0][1]"
   ]
  },
  {
   "cell_type": "markdown",
   "id": "4a78e469",
   "metadata": {},
   "source": [
    "Modifying a tuple : it is not possible in tuples since they are immutable but if it has some mutable datatype in it so we can change or modify it. re-assignment is possible."
   ]
  },
  {
   "cell_type": "code",
   "execution_count": 20,
   "id": "b83fc984",
   "metadata": {},
   "outputs": [],
   "source": [
    "tupple_2 = (1,2,3,4,5)"
   ]
  },
  {
   "cell_type": "code",
   "execution_count": 22,
   "id": "fa70d0c4",
   "metadata": {},
   "outputs": [
    {
     "data": {
      "text/plain": [
       "(1, 2, 3, 4, 5, 6, 7, 8, 9, 10)"
      ]
     },
     "execution_count": 22,
     "metadata": {},
     "output_type": "execute_result"
    }
   ],
   "source": [
    "# concentanation in tuple\n",
    "tuple_1 = (1,2,3,4,5)\n",
    "tuple_2 = (6,7,8,9,10)\n",
    "tuple_1 = tuple_1 + tuple_2\n",
    "tuple_1"
   ]
  },
  {
   "cell_type": "code",
   "execution_count": 23,
   "id": "bbe98392",
   "metadata": {},
   "outputs": [
    {
     "data": {
      "text/plain": [
       "(6, 7, 8, 9, 10, 6, 7, 8, 9, 10)"
      ]
     },
     "execution_count": 23,
     "metadata": {},
     "output_type": "execute_result"
    }
   ],
   "source": [
    "# multiplication :\n",
    "tuple_2 = tuple_2*2\n",
    "tuple_2"
   ]
  },
  {
   "cell_type": "code",
   "execution_count": 25,
   "id": "8cce4ea2",
   "metadata": {},
   "outputs": [
    {
     "data": {
      "text/plain": [
       "5"
      ]
     },
     "execution_count": 25,
     "metadata": {},
     "output_type": "execute_result"
    }
   ],
   "source": [
    "# count()\n",
    "a ='aaabkhfojcpandlpeeedddeajhhh'\n",
    "tuple_ = tuple(a)\n",
    "tuple_.count('a')"
   ]
  },
  {
   "cell_type": "code",
   "execution_count": 26,
   "id": "4e08c089",
   "metadata": {},
   "outputs": [
    {
     "data": {
      "text/plain": [
       "(1, 2, 3, 4, 5, 6, 7)"
      ]
     },
     "execution_count": 26,
     "metadata": {},
     "output_type": "execute_result"
    }
   ],
   "source": [
    "old = (1,2,3,4,5)\n",
    "new = (6,7)\n",
    "old = old + new\n",
    "old"
   ]
  },
  {
   "cell_type": "markdown",
   "id": "64dfca9d",
   "metadata": {},
   "source": [
    "what are the advantages of tuple over list?\n",
    "since tuples are similar to list, both of them are used in similar situations but there are certain advantages of implementing a tuple over a list.\n",
    "-->> since tuples are immutable, iterating through a tuple is faster that with list. so there is a slight performance boost.\n",
    "-->> if you want to get data security it means you have the data that doesn't change, implementing it as a tuple is better and it provides better data security."
   ]
  },
  {
   "cell_type": "code",
   "execution_count": null,
   "id": "dd5e8b4c",
   "metadata": {},
   "outputs": [],
   "source": []
  }
 ],
 "metadata": {
  "kernelspec": {
   "display_name": "Python 3 (ipykernel)",
   "language": "python",
   "name": "python3"
  },
  "language_info": {
   "codemirror_mode": {
    "name": "ipython",
    "version": 3
   },
   "file_extension": ".py",
   "mimetype": "text/x-python",
   "name": "python",
   "nbconvert_exporter": "python",
   "pygments_lexer": "ipython3",
   "version": "3.9.13"
  }
 },
 "nbformat": 4,
 "nbformat_minor": 5
}

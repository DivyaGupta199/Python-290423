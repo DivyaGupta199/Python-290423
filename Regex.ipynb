{
 "cells": [
  {
   "cell_type": "code",
   "execution_count": 1,
   "id": "1cb3a99a",
   "metadata": {},
   "outputs": [],
   "source": [
    "import re"
   ]
  },
  {
   "cell_type": "code",
   "execution_count": null,
   "id": "7506987e",
   "metadata": {},
   "outputs": [],
   "source": [
    "# functions in regular expressions : \n",
    "1. findall(pattern, string) - Returns a list containing all the matches.\n",
    "2. search() - returns a match object if it is found anywhere in the string.\n",
    "3. split() - returns a list of string and split the string at every match.\n",
    "4. sub() - replaces match string with the given string."
   ]
  },
  {
   "cell_type": "code",
   "execution_count": null,
   "id": "c2f182c6",
   "metadata": {},
   "outputs": [],
   "source": [
    "Metacharacters : this are the characters which have special meaning in python. \n",
    "    1. \"[]\" - A set of characters for e.g [a-z] it means that any character between a to g\n",
    "    2. \"\\\" - it signifies a special sequence for e.g \"\\d\"\n",
    "    3. \".\" - Any character\n",
    "    4. \"^\" - starts with\n",
    "    5. \"$\" - ends with\n",
    "    6. \".*\" - any number of characters (zero or more)\n",
    "    7. \".+\" - any number of characters (one or more)\n",
    "    8. \" {} \" - used to specify the exact number of characters.\n",
    "    9. \" | \" - either or"
   ]
  },
  {
   "cell_type": "code",
   "execution_count": 24,
   "id": "2662fb7e",
   "metadata": {},
   "outputs": [
    {
     "name": "stdout",
     "output_type": "stream",
     "text": [
      "['a', 'a', 'a', 'a']\n",
      "<re.Match object; span=(10, 11), match='a'>\n"
     ]
    }
   ],
   "source": [
    "# 1. \"[]\" - A set of characters for e.g [a-z] it means that any character between a to g\n",
    "string1 = \"Python is a programming language\"\n",
    "match = re.findall(\"a\", string1)\n",
    "search = re.search(\"a\", string1)\n",
    "print(match)\n",
    "print(search)"
   ]
  },
  {
   "cell_type": "code",
   "execution_count": 19,
   "id": "fa73b565",
   "metadata": {},
   "outputs": [
    {
     "name": "stdout",
     "output_type": "stream",
     "text": [
      "['1', '0', '0']\n"
     ]
    }
   ],
   "source": [
    "#  2. \"\\\" - it signifies a special sequence for e.g \"\\d\"\n",
    "string2 = \"rupees I have 100 Indian rupees\"\n",
    "digit = re.findall(\"\\d\",string2)\n",
    "print(digit)"
   ]
  },
  {
   "cell_type": "code",
   "execution_count": 10,
   "id": "6f8a213f",
   "metadata": {},
   "outputs": [
    {
     "name": "stdout",
     "output_type": "stream",
     "text": [
      "['is', 'in']\n"
     ]
    }
   ],
   "source": [
    "# 3. \".\" - Any character\n",
    "char = re.findall(\"i.\" , string1)\n",
    "print(char)"
   ]
  },
  {
   "cell_type": "code",
   "execution_count": 15,
   "id": "c2832353",
   "metadata": {},
   "outputs": [
    {
     "name": "stdout",
     "output_type": "stream",
     "text": [
      "['I']\n"
     ]
    }
   ],
   "source": [
    "# 4. \"^\" - starts with\n",
    "start = re.findall(\"^I\" , string2)\n",
    "print(start)"
   ]
  },
  {
   "cell_type": "code",
   "execution_count": 20,
   "id": "5d3f71c6",
   "metadata": {},
   "outputs": [
    {
     "name": "stdout",
     "output_type": "stream",
     "text": [
      "['rupees']\n"
     ]
    }
   ],
   "source": [
    "# 5. \"$\" - ends with\n",
    "ends = re.findall(\"rupees$\", string2)\n",
    "print(ends)"
   ]
  },
  {
   "cell_type": "code",
   "execution_count": 21,
   "id": "7cd489fa",
   "metadata": {},
   "outputs": [
    {
     "name": "stdout",
     "output_type": "stream",
     "text": [
      "['Python is a programming lan']\n"
     ]
    }
   ],
   "source": [
    "# 6. \" * \" - zero or more occurences\n",
    "total = re.findall(\"P.*n\" , string1)\n",
    "print(total)"
   ]
  },
  {
   "cell_type": "code",
   "execution_count": 26,
   "id": "77ac94a2",
   "metadata": {},
   "outputs": [
    {
     "name": "stdout",
     "output_type": "stream",
     "text": [
      "['is']\n"
     ]
    }
   ],
   "source": [
    "# 7. \".+\" - any number of characters (one or more)\n",
    "minimum_one = re.findall(\"i.+s\",string1)\n",
    "print(minimum_one)"
   ]
  },
  {
   "cell_type": "code",
   "execution_count": 27,
   "id": "ca77d89a",
   "metadata": {},
   "outputs": [
    {
     "name": "stdout",
     "output_type": "stream",
     "text": [
      "['Python']\n"
     ]
    }
   ],
   "source": [
    "#  8. \" {} \" - used to specify the exact number of characters.\n",
    "exact = re.findall(\"P.{4}n\", string1)\n",
    "print(exact)"
   ]
  },
  {
   "cell_type": "code",
   "execution_count": 29,
   "id": "7a17ac91",
   "metadata": {},
   "outputs": [
    {
     "name": "stdout",
     "output_type": "stream",
     "text": [
      "['Python', 'programming']\n"
     ]
    }
   ],
   "source": [
    "#   9. \" | \" - either or\n",
    "match = re.findall(\"P.{4}n|programming\", string1)\n",
    "print(match)"
   ]
  },
  {
   "cell_type": "code",
   "execution_count": null,
   "id": "2714ced9",
   "metadata": {},
   "outputs": [],
   "source": [
    "#  Sets [a-n]\n",
    "1. [abcd] - return a match if any of the specified character is found.\n",
    "2. [a-w] - return a match for any lowercase character between a to w.\n",
    "3. [^abcd] - returns a match for any character except a,b,c,d.\n",
    "4. [3456] - return a match if any of the specified digit is found\n",
    "5. [2-7] - return a match if any of the digit between 2 and 7 is found.\n",
    "6. [0-5][0] - return a match if any two digit number is 00,10,20,30,40,50\n",
    "7. [a-zA-Z] - return a match if any uppercase or lowercase character is found.\n"
   ]
  },
  {
   "cell_type": "code",
   "execution_count": 31,
   "id": "f0e3577d",
   "metadata": {},
   "outputs": [
    {
     "name": "stdout",
     "output_type": "stream",
     "text": [
      "['a', 'a', 'a', 'a']\n"
     ]
    }
   ],
   "source": [
    "# 1. [abcd] - return a match if any of the specified character is found.\n",
    "\n",
    "match = re.findall(\"[abcd]\",string1)\n",
    "print(match)"
   ]
  },
  {
   "cell_type": "code",
   "execution_count": 32,
   "id": "2288ef4a",
   "metadata": {},
   "outputs": [
    {
     "name": "stdout",
     "output_type": "stream",
     "text": [
      "['h', 'i']\n"
     ]
    }
   ],
   "source": [
    "# 2. [a-w] - return a match for any lowercase character between a to w\n",
    "\n",
    "match = re.findall(\"[f-m]\", string2)\n",
    "print(match)"
   ]
  },
  {
   "cell_type": "code",
   "execution_count": 33,
   "id": "68f572d9",
   "metadata": {},
   "outputs": [
    {
     "name": "stdout",
     "output_type": "stream",
     "text": [
      "['P', 'y', 't', 'h', 'o', 'n', ' ', 'i', 's', ' ', ' ', 'p', 'r', 'o', 'g', 'r', 'm', 'm', 'i', 'n', 'g', ' ', 'l', 'n', 'g', 'u', 'g', 'e']\n"
     ]
    }
   ],
   "source": [
    "# 3. [^abcd] - \n",
    "\n",
    "match = re.findall(\"[^abcd]\", string1)\n",
    "print(match)"
   ]
  },
  {
   "cell_type": "code",
   "execution_count": 35,
   "id": "c67c3bdc",
   "metadata": {},
   "outputs": [
    {
     "name": "stdout",
     "output_type": "stream",
     "text": [
      "['1', '0', '0']\n"
     ]
    }
   ],
   "source": [
    "# 4. [3456] - return a match if any of the specified digit is found\n",
    "\n",
    "match = re.findall(\"[01234]\", string2)\n",
    "print(match)"
   ]
  },
  {
   "cell_type": "code",
   "execution_count": 36,
   "id": "6cdce23b",
   "metadata": {},
   "outputs": [
    {
     "name": "stdout",
     "output_type": "stream",
     "text": [
      "['1', '0', '0']\n"
     ]
    }
   ],
   "source": [
    "#5. [2-7] - return a match if any of the digit between 2 and 7 is found.\n",
    "\n",
    "match = re.findall(\"[0-5]\", string2)\n",
    "print(match)"
   ]
  },
  {
   "cell_type": "code",
   "execution_count": 38,
   "id": "ea9c7b55",
   "metadata": {},
   "outputs": [
    {
     "name": "stdout",
     "output_type": "stream",
     "text": [
      "['100']\n"
     ]
    }
   ],
   "source": [
    "# 6. [0-5][0] - return a match if any two digit number is 00,10,20,30,40,50\n",
    "\n",
    "match = re.findall(\"[0-5][0][0-2]\" , string2)\n",
    "print(match)"
   ]
  },
  {
   "cell_type": "code",
   "execution_count": null,
   "id": "59926e4f",
   "metadata": {},
   "outputs": [],
   "source": [
    "# Special sequences \\d\n",
    "1. \"\\A\" - return a match if the specified characters are at the beginning of the string.\n",
    "2. \"\\Z\" - return a match if the specified characters are at the end of the string.\n",
    "3. \"\\d\" - return a match if the string has digits.\n",
    "4. \"\\D\" - return a match if the character is not a digit.\n",
    "5. \"\\b\" - return a match if the specified characters are present at beginning or end of the word.\n",
    "6. \"\\B\" - return a match if the specified characters are not present at beginning or end of the word."
   ]
  },
  {
   "cell_type": "code",
   "execution_count": 41,
   "id": "671b1c44",
   "metadata": {},
   "outputs": [
    {
     "name": "stdout",
     "output_type": "stream",
     "text": [
      "['Python']\n"
     ]
    }
   ],
   "source": [
    "#  1. \"\\A\" - return a match if the specified characters are at the beginning of the string.\n",
    "\n",
    "match = re.findall(\"\\APython\" , string1)\n",
    "print(match)"
   ]
  },
  {
   "cell_type": "code",
   "execution_count": 47,
   "id": "113637f1",
   "metadata": {},
   "outputs": [
    {
     "name": "stdout",
     "output_type": "stream",
     "text": [
      "['ge']\n"
     ]
    }
   ],
   "source": [
    "#  2. \"\\Z\" - return a match if the specified characters are at the end of the string.\n",
    "\n",
    "match = re.findall(\"ge\\Z\" , string1)\n",
    "print(match)"
   ]
  },
  {
   "cell_type": "code",
   "execution_count": 51,
   "id": "c228ec2a",
   "metadata": {},
   "outputs": [
    {
     "name": "stdout",
     "output_type": "stream",
     "text": [
      "['1', '0', '0']\n"
     ]
    }
   ],
   "source": [
    "#  3. \"\\d\" - return a match if the string has digits.\n",
    "\n",
    "match = re.findall(\"\\d\" , string2)\n",
    "print(match)"
   ]
  },
  {
   "cell_type": "code",
   "execution_count": 53,
   "id": "4cef970b",
   "metadata": {},
   "outputs": [
    {
     "name": "stdout",
     "output_type": "stream",
     "text": [
      "['r', 'u', 'p', 'e', 'e', 's', ' ', 'I', ' ', 'h', 'a', 'v', 'e', ' ', ' ', 'I', 'n', 'd', 'i', 'a', 'n', ' ', 'r', 'u', 'p', 'e', 'e', 's']\n"
     ]
    }
   ],
   "source": [
    "# 4. \"\\D\" - return a match if the character is not a digit.\n",
    "\n",
    "match = re.findall(\"\\D\" , string2)\n",
    "print(match)"
   ]
  },
  {
   "cell_type": "code",
   "execution_count": 59,
   "id": "d7c35fe7",
   "metadata": {},
   "outputs": [
    {
     "name": "stdout",
     "output_type": "stream",
     "text": [
      "['n']\n"
     ]
    }
   ],
   "source": [
    "#  5. \"\\b\" - return a match if the specified characters are present at beginning or end of the word.\n",
    "\n",
    "match = re.findall(r\"n\\b\" , string1)\n",
    "print(match)"
   ]
  },
  {
   "cell_type": "code",
   "execution_count": 63,
   "id": "7acf3786",
   "metadata": {},
   "outputs": [
    {
     "name": "stdout",
     "output_type": "stream",
     "text": [
      "[]\n"
     ]
    }
   ],
   "source": [
    "#  6. \"\\B\" - return a match if the specified characters are not present at beginning or end of the word.\n",
    "# r - raw string\n",
    "\n",
    "match = match = re.findall(r\"Pyt\\B\" , string1)\n",
    "print(match)"
   ]
  },
  {
   "cell_type": "code",
   "execution_count": null,
   "id": "7d94f80c",
   "metadata": {},
   "outputs": [],
   "source": []
  }
 ],
 "metadata": {
  "kernelspec": {
   "display_name": "Python 3 (ipykernel)",
   "language": "python",
   "name": "python3"
  },
  "language_info": {
   "codemirror_mode": {
    "name": "ipython",
    "version": 3
   },
   "file_extension": ".py",
   "mimetype": "text/x-python",
   "name": "python",
   "nbconvert_exporter": "python",
   "pygments_lexer": "ipython3",
   "version": "3.9.13"
  }
 },
 "nbformat": 4,
 "nbformat_minor": 5
}
